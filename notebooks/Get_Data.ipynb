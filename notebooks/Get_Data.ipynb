{
 "cells": [
  {
   "cell_type": "code",
   "execution_count": 1,
   "id": "346623c5",
   "metadata": {},
   "outputs": [],
   "source": [
    "# import sys\n",
    "# sys.path.append(\"/data/wsd01/pnwstore\")\n",
    "\n",
    "from pnwstore.mseed import WaveformClient\n",
    "from pnwstore.utils import dummy_filename_mapper, index_folder"
   ]
  },
  {
   "cell_type": "code",
   "execution_count": 2,
   "id": "c8e4e0a0",
   "metadata": {},
   "outputs": [],
   "source": [
    "data_path = \"/data/wsd01/redpy_data/hood_test\"\n",
    "sqlite_path = \"/data/wsd01/redpy_data/test.sqlite\""
   ]
  },
  {
   "cell_type": "code",
   "execution_count": 3,
   "id": "988b3c3d",
   "metadata": {
    "scrolled": true
   },
   "outputs": [],
   "source": [
    "client = WaveformClient()\n",
    "\n",
    "netsta = [#\"CC.PALM\", \"CC.TIMB\", \"UW.HOOD\", \"CC.HIYU\", 'UW.VLL', 'UW.TDH',\n",
    "         #'CC.SHRK',\n",
    "          'UW.VFP'#,'UW.VBE','UO.JESE','UW.AUG'\n",
    "            ] #\"CC.BRSP\", \"CC.YOCR\", - started 2020\n",
    "for i in netsta:\n",
    "    net, sta = i.split('.')\n",
    "    for year in range(2019, 2020):\n",
    "        for doy in range(1, 366):\n",
    "            try:\n",
    "                client.get_waveforms(network = net, station = sta, channel = '?HZ', year = year, doy = doy,\n",
    "                    filename =  f\"{data_path}/{net}/{year}/{str(doy).zfill(3)}/{sta}.{net}.{year}.{str(doy).zfill(3)}\")\n",
    "            except:\n",
    "                print(net,sta,year,doy)\n",
    "                pass"
   ]
  },
  {
   "cell_type": "code",
   "execution_count": null,
   "id": "cffa3b57",
   "metadata": {},
   "outputs": [],
   "source": [
    "index_folder(data_path, sqlite_path)"
   ]
  },
  {
   "cell_type": "code",
   "execution_count": null,
   "id": "a652223d",
   "metadata": {},
   "outputs": [],
   "source": [
    "client = WaveformClient(sqlite = sqlite_path,\n",
    "                        filename_mapper=dummy_filename_mapper)"
   ]
  },
  {
   "cell_type": "code",
   "execution_count": null,
   "id": "b05c361f",
   "metadata": {},
   "outputs": [],
   "source": [
    "client.get_waveforms(network = \"UW\", station = \"VFP\", channel = \"*\", year = 2021, doy = 8)"
   ]
  }
 ],
 "metadata": {
  "kernelspec": {
   "display_name": "seismo (SHARED)",
   "language": "python",
   "name": "seismo"
  },
  "language_info": {
   "codemirror_mode": {
    "name": "ipython",
    "version": 3
   },
   "file_extension": ".py",
   "mimetype": "text/x-python",
   "name": "python",
   "nbconvert_exporter": "python",
   "pygments_lexer": "ipython3",
   "version": "3.8.12"
  }
 },
 "nbformat": 4,
 "nbformat_minor": 5
}
