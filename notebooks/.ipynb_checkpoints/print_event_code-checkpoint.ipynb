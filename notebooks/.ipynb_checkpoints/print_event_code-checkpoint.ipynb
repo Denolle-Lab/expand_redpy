{
 "cells": [
  {
   "cell_type": "markdown",
   "id": "958eef92",
   "metadata": {},
   "source": [
    "# Print Code for find Events\n",
    "Made August 10, 2022"
   ]
  },
  {
   "cell_type": "markdown",
   "id": "3e177ab7",
   "metadata": {},
   "source": [
    "Everything looks good, but this has NOT been tested yet on Find_Events"
   ]
  },
  {
   "cell_type": "code",
   "execution_count": 1,
   "id": "71db990b",
   "metadata": {},
   "outputs": [],
   "source": [
    "import pandas as pd\n",
    "import yaml\n",
    "import numpy as np\n",
    "import obspy\n",
    "from obspy import UTCDateTime\n",
    "from time import time\n",
    "import csv\n",
    "from glob import glob"
   ]
  },
  {
   "cell_type": "code",
   "execution_count": 2,
   "id": "9d2f3119",
   "metadata": {},
   "outputs": [],
   "source": [
    "with open('/home/smocz/expand_redpy/scripts/config.yaml') as file:\n",
    "    config = yaml.load(file, Loader=yaml.FullLoader)\n",
    "\n",
    "vv = config['vv']\n",
    "volc_list = ['Baker','Hood','Newberry','Rainier','St_Helens']\n",
    "volc = volc_list[vv]\n",
    "year = config['year']\n",
    "\n",
    "homedir = config['homedir']\n",
    "readdir = config['readdir']"
   ]
  },
  {
   "cell_type": "markdown",
   "id": "e4bf0a2f",
   "metadata": {},
   "source": [
    "Print out parameters"
   ]
  },
  {
   "cell_type": "markdown",
   "id": "3321f722",
   "metadata": {},
   "source": [
    "(Just an idea, could I save this output in a python file, then have the script just read that file when it needs to?)"
   ]
  },
  {
   "cell_type": "code",
   "execution_count": 9,
   "id": "bfff841e",
   "metadata": {},
   "outputs": [
    {
     "name": "stdout",
     "output_type": "stream",
     "text": [
      "#station names\n",
      "sta0 = 'VDB'\n",
      "sta1 = 'MBW'\n",
      "sta2 = 'MULN'\n",
      "sta3 = 'PASS'\n",
      "sta4 = 'SAXON'\n",
      "sta5 = 'SHUK'\n",
      "#panda dataframe for detections at a station\n",
      "readsta0 = pd.read_csv('/home/smocz/expand_redpy_new_files/detections/Baker_VDB_2019_clean_detections.csv')\n",
      "readsta1 = pd.read_csv('/home/smocz/expand_redpy_new_files/detections/Baker_MBW_2019_clean_detections.csv')\n",
      "readsta2 = pd.read_csv('/home/smocz/expand_redpy_new_files/detections/Baker_MULN_2019_clean_detections.csv')\n",
      "readsta3 = pd.read_csv('/home/smocz/expand_redpy_new_files/detections/Baker_PASS_2019_clean_detections.csv')\n",
      "readsta4 = pd.read_csv('/home/smocz/expand_redpy_new_files/detections/Baker_SAXON_2019_clean_detections.csv')\n",
      "readsta5 = pd.read_csv('/home/smocz/expand_redpy_new_files/detections/Baker_SHUK_2019_clean_detections.csv')\n",
      "#list of stations for saving (must be in order)\n",
      "sta_list = ['sta0', 'sta1', 'sta2', 'sta3', 'sta4', 'sta5']\n",
      "#concat of station dataframes for running through all detections\n",
      "readsta = pd.concat(['readsta0', 'readsta1', 'readsta2', 'readsta3', 'readsta4', 'readsta5'])\n"
     ]
    }
   ],
   "source": [
    "df = pd.read_csv(readdir+'Volcano_Metadata.csv')\n",
    "station_list = df[df['Volcano_Name']=='Mt_Baker']['Station'].values.tolist()\n",
    "print('#station names')\n",
    "for ii,i in enumerate(station_list): #set variables\n",
    "    print('sta'+str(ii)+' = \\''+i+'\\'')\n",
    "print('#panda dataframe for detections at a station')\n",
    "for ii,i in enumerate(station_list): #set reads\n",
    "    print('readsta'+str(ii)+' = pd.read_csv(\\''+homedir+'detections/'+volc+'_'+i+'_'+str(year)+'_clean_detections.csv\\')')\n",
    "print('#list of stations for saving (must be in order)')\n",
    "sta_list = []\n",
    "for ii,i in enumerate(station_list):\n",
    "    sta_list.append('sta'+str(ii))\n",
    "print('sta_list =',sta_list)\n",
    "print('#concat of station dataframes for running through all detections')\n",
    "read_list = []\n",
    "for ii,i in enumerate(station_list):\n",
    "    read_list.append('readsta'+str(ii))\n",
    "# readsta = pd.concat([readsta0,readsta1,readsta2,readsta3,readsta4])\n",
    "print('readsta = pd.concat('+str(read_list)+')')\n"
   ]
  },
  {
   "cell_type": "markdown",
   "id": "a0b4c926",
   "metadata": {},
   "source": [
    "print out the check station overlap code for each station AND match_list"
   ]
  },
  {
   "cell_type": "code",
   "execution_count": 21,
   "id": "b89d3286",
   "metadata": {
    "scrolled": true
   },
   "outputs": [
    {
     "name": "stdout",
     "output_type": "stream",
     "text": [
      "sta0times = []\n",
      "for a in np.unique(readsta0['Template_Name'].values.tolist()):\n",
      "\tif a.endswith(cl):\n",
      "\t\tall_times = readsta0[readsta0['Template_Name']==a['Detection_Time'].values.tolist\n",
      "\t\tfor at in all_times:\n",
      "\t\t\tsta0times.append(at)\n",
      "match0=0 #set variable to arbitrary number\n",
      "for tt,t in enumerate(sta0times):\n",
      "\tts = UTCDateTime(t)-wi\n",
      "\tte = UTCDateTime(t)+wi\n",
      "\tif UTCDateTime(i)>ts and UTCDateTime(i)<te:\n",
      "\t\tmatch0=2 #if there is an overlap, reset the variable and break out of the loop\n",
      "\t\tprint('Overlap with station '+sta0+' detections')\n",
      "\n",
      "sta1times = []\n",
      "for a in np.unique(readsta1['Template_Name'].values.tolist()):\n",
      "\tif a.endswith(cl):\n",
      "\t\tall_times = readsta1[readsta1['Template_Name']==a['Detection_Time'].values.tolist\n",
      "\t\tfor at in all_times:\n",
      "\t\t\tsta1times.append(at)\n",
      "match1=0 #set variable to arbitrary number\n",
      "for tt,t in enumerate(sta1times):\n",
      "\tts = UTCDateTime(t)-wi\n",
      "\tte = UTCDateTime(t)+wi\n",
      "\tif UTCDateTime(i)>ts and UTCDateTime(i)<te:\n",
      "\t\tmatch1=2 #if there is an overlap, reset the variable and break out of the loop\n",
      "\t\tprint('Overlap with station '+sta1+' detections')\n",
      "\n",
      "sta2times = []\n",
      "for a in np.unique(readsta2['Template_Name'].values.tolist()):\n",
      "\tif a.endswith(cl):\n",
      "\t\tall_times = readsta2[readsta2['Template_Name']==a['Detection_Time'].values.tolist\n",
      "\t\tfor at in all_times:\n",
      "\t\t\tsta2times.append(at)\n",
      "match2=0 #set variable to arbitrary number\n",
      "for tt,t in enumerate(sta2times):\n",
      "\tts = UTCDateTime(t)-wi\n",
      "\tte = UTCDateTime(t)+wi\n",
      "\tif UTCDateTime(i)>ts and UTCDateTime(i)<te:\n",
      "\t\tmatch2=2 #if there is an overlap, reset the variable and break out of the loop\n",
      "\t\tprint('Overlap with station '+sta2+' detections')\n",
      "\n",
      "sta3times = []\n",
      "for a in np.unique(readsta3['Template_Name'].values.tolist()):\n",
      "\tif a.endswith(cl):\n",
      "\t\tall_times = readsta3[readsta3['Template_Name']==a['Detection_Time'].values.tolist\n",
      "\t\tfor at in all_times:\n",
      "\t\t\tsta3times.append(at)\n",
      "match3=0 #set variable to arbitrary number\n",
      "for tt,t in enumerate(sta3times):\n",
      "\tts = UTCDateTime(t)-wi\n",
      "\tte = UTCDateTime(t)+wi\n",
      "\tif UTCDateTime(i)>ts and UTCDateTime(i)<te:\n",
      "\t\tmatch3=2 #if there is an overlap, reset the variable and break out of the loop\n",
      "\t\tprint('Overlap with station '+sta3+' detections')\n",
      "\n",
      "sta4times = []\n",
      "for a in np.unique(readsta4['Template_Name'].values.tolist()):\n",
      "\tif a.endswith(cl):\n",
      "\t\tall_times = readsta4[readsta4['Template_Name']==a['Detection_Time'].values.tolist\n",
      "\t\tfor at in all_times:\n",
      "\t\t\tsta4times.append(at)\n",
      "match4=0 #set variable to arbitrary number\n",
      "for tt,t in enumerate(sta4times):\n",
      "\tts = UTCDateTime(t)-wi\n",
      "\tte = UTCDateTime(t)+wi\n",
      "\tif UTCDateTime(i)>ts and UTCDateTime(i)<te:\n",
      "\t\tmatch4=2 #if there is an overlap, reset the variable and break out of the loop\n",
      "\t\tprint('Overlap with station '+sta4+' detections')\n",
      "\n",
      "sta5times = []\n",
      "for a in np.unique(readsta5['Template_Name'].values.tolist()):\n",
      "\tif a.endswith(cl):\n",
      "\t\tall_times = readsta5[readsta5['Template_Name']==a['Detection_Time'].values.tolist\n",
      "\t\tfor at in all_times:\n",
      "\t\t\tsta5times.append(at)\n",
      "match5=0 #set variable to arbitrary number\n",
      "for tt,t in enumerate(sta5times):\n",
      "\tts = UTCDateTime(t)-wi\n",
      "\tte = UTCDateTime(t)+wi\n",
      "\tif UTCDateTime(i)>ts and UTCDateTime(i)<te:\n",
      "\t\tmatch5=2 #if there is an overlap, reset the variable and break out of the loop\n",
      "\t\tprint('Overlap with station '+sta5+' detections')\n",
      "\n",
      "match_list = ['match0', 'match1', 'match2', 'match3', 'match4', 'match5']\n"
     ]
    }
   ],
   "source": [
    "m_list = []\n",
    "for ii,i in enumerate(station_list):\n",
    "    print('sta'+str(ii)+'times = []')\n",
    "    print('for a in np.unique('+read_list[ii]+'[\\'Template_Name\\'].values.tolist()):')\n",
    "    print('\\tif a.endswith(cl):')\n",
    "    print('\\t\\tall_times = '+read_list[ii]+'['+read_list[ii]+'[\\'Template_Name\\']==a[\\'Detection_Time\\'].values.tolist')\n",
    "    print('\\t\\tfor at in all_times:')\n",
    "    print('\\t\\t\\tsta'+str(ii)+'times.append(at)')\n",
    "    print('match'+str(ii)+'=0 #set variable to arbitrary number')\n",
    "    print('for tt,t in enumerate(sta'+str(ii)+'times):')\n",
    "    print('\\tts = UTCDateTime(t)-wi')\n",
    "    print('\\tte = UTCDateTime(t)+wi')\n",
    "    print('\\tif UTCDateTime(i)>ts and UTCDateTime(i)<te:')\n",
    "    print('\\t\\tmatch'+str(ii)+'=2 #if there is an overlap, reset the variable and break out of the loop')\n",
    "    print('\\t\\tprint(\\'Overlap with station \\'+sta'+str(ii)+'+\\' detections\\')')\n",
    "    print( )\n",
    "    m_list.append('match'+str(ii))\n",
    "#     break\n",
    "print('match_list =',m_list)"
   ]
  },
  {
   "cell_type": "code",
   "execution_count": null,
   "id": "4e19c509",
   "metadata": {},
   "outputs": [],
   "source": [
    "#reference\n",
    "sta0times = []\n",
    "for a in np.unique(readsta0['Template_Name'].values.tolist()):\n",
    "    if a.endswith(cl):\n",
    "        all_times = readsta0[readsta0['Template_Name']==a]['Detection_Time'].values.tolist()\n",
    "        for at in all_times:\n",
    "            sta0times.append(at)\n",
    "match=0 #set variable to arbitrary number\n",
    "for tt,t in enumerate(sta0times):\n",
    "    ts = UTCDateTime(t)-wi\n",
    "    te = UTCDateTime(t)+wi\n",
    "    if UTCDateTime(i)>ts and UTCDateTime(i)<te:\n",
    "        match=2 #if there is an overlap, reset the variable and break out of the loop\n",
    "        print('Overlap with station '+sta0+' detections')\n",
    "        \n",
    "match_list = [match, match0, match1, match2, match3]"
   ]
  },
  {
   "cell_type": "code",
   "execution_count": null,
   "id": "3695c679",
   "metadata": {},
   "outputs": [],
   "source": [
    "#output copy and pasted here for comparison\n",
    "sta0times = []\n",
    "for a in np.unique(readsta0['Template_Name'].values.tolist()):\n",
    "\tif a.endswith(cl):\n",
    "\t\tall_times = readsta0[readsta0['Template_Name']==a['Detection_Time'].values.tolist\n",
    "\t\tfor at in all_times:\n",
    "\t\t\tsta0times.append(at)\n",
    "match0=0 #set variable to arbitrary number\n",
    "for tt,t in enumerate(sta0times):\n",
    "\tts = UTCDateTime(t)-wi\n",
    "\tte = UTCDateTime(t)+wi\n",
    "\tif UTCDateTime(i)>ts and UTCDateTime(i)<te:\n",
    "\t\tmatch0=2 #if there is an overlap, reset the variable and break out of the loop\n",
    "\t\tprint('Overlap with station '+sta0+' detections')\n",
    "\n",
    "match_list = ['match0', 'match1', 'match2', 'match3', 'match4', 'match5']"
   ]
  }
 ],
 "metadata": {
  "kernelspec": {
   "display_name": "seismo (SHARED)",
   "language": "python",
   "name": "seismo"
  },
  "language_info": {
   "codemirror_mode": {
    "name": "ipython",
    "version": 3
   },
   "file_extension": ".py",
   "mimetype": "text/x-python",
   "name": "python",
   "nbconvert_exporter": "python",
   "pygments_lexer": "ipython3",
   "version": "3.8.12"
  }
 },
 "nbformat": 4,
 "nbformat_minor": 5
}
