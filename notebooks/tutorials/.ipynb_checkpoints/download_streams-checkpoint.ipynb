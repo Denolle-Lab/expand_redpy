{
 "cells": [
  {
   "cell_type": "markdown",
   "id": "3b4ff9ab",
   "metadata": {},
   "source": [
    "Created Aug 17, 2022\n",
    "Updated December 10, 2022\n",
    "\n",
    "To save streams to siletzia for faster calling on run_detections scripts\n",
    "\n",
    "No longer used, downloading data took up too much storage"
   ]
  },
  {
   "cell_type": "code",
   "execution_count": null,
   "id": "1ad20702",
   "metadata": {},
   "outputs": [],
   "source": [
    "import obspy\n",
    "from obspy import UTCDateTime\n",
    "from obspy.clients.fdsn import Client\n",
    "import pandas as pd\n",
    "client = Client('IRIS')"
   ]
  },
  {
   "cell_type": "code",
   "execution_count": null,
   "id": "c8e4e0a0",
   "metadata": {},
   "outputs": [],
   "source": [
    "datadir = '/fd1/wave_data'"
   ]
  },
  {
   "cell_type": "code",
   "execution_count": null,
   "id": "988b3c3d",
   "metadata": {
    "scrolled": true
   },
   "outputs": [],
   "source": [
    "#GET NETSTA FROM VOLC MD\n",
    "volc_md = pd.read_csv('Volcano_Metadata.csv')\n",
    "volc_md['netsta'] = volc_md['Network'].astype(str)+'.'+volc_md['Station'].astype(str)\n",
    "for i in volc_md['netsta'].values.tolist():\n",
    "    net, sta = i.split('.')\n",
    "    for year in range(2002, 2022):\n",
    "        for doy in range(1, 366):\n",
    "#             try:\n",
    "            st = client.get_waveforms(network=net, station=sta,location='*', channel='*', starttime=UTCDateTime(year=year,\n",
    "                julday=doy),endtime=UTCDateTime(year=year,julday=doy)+86400)\n",
    "            st.write(f'{datadir}/{year}/{net}/{sta}/{sta}.{net}.{year}.{str(doy).zfill(3)}',format='MSEED')\n",
    "            except:\n",
    "                print(f'\\'{net} {sta} {year} {str(doy).zfill(3)}\\''=',')\n",
    "                pass\n",
    "            break\n",
    "        break\n",
    "    break\n",
    "    "
   ]
  },
  {
   "cell_type": "code",
   "execution_count": null,
   "id": "21efe237",
   "metadata": {},
   "outputs": [],
   "source": []
  }
 ],
 "metadata": {
  "kernelspec": {
   "display_name": "seismo (SHARED)",
   "language": "python",
   "name": "seismo"
  },
  "language_info": {
   "codemirror_mode": {
    "name": "ipython",
    "version": 3
   },
   "file_extension": ".py",
   "mimetype": "text/x-python",
   "name": "python",
   "nbconvert_exporter": "python",
   "pygments_lexer": "ipython3",
   "version": "3.8.12"
  }
 },
 "nbformat": 4,
 "nbformat_minor": 5
}
