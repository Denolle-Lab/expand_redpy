{
 "cells": [
  {
   "cell_type": "markdown",
   "id": "43a5eaf8",
   "metadata": {},
   "source": [
    "Code to make h5 files of the templates in the case that they are not saved correctly during make_templates\n",
    "\n",
    "Created December 7, 2022\n",
    "Updated May 15, 2023"
   ]
  },
  {
   "cell_type": "code",
   "execution_count": 1,
   "id": "6c91eea7",
   "metadata": {},
   "outputs": [
    {
     "name": "stdout",
     "output_type": "stream",
     "text": [
      "Matched-filter CPU is not compiled! Should be here: /home/jupyter_share/miniconda3/envs/seismo/lib/python3.8/site-packages/fast_matched_filter/lib/matched_filter_CPU.so\n"
     ]
    }
   ],
   "source": [
    "import pandas as pd #to work with csv and dataframe\n",
    "import numpy as np #for array\n",
    "from eqcorrscan import Tribe #import the ability to read .tgz files with templates\n",
    "import h5py #for writing to h5"
   ]
  },
  {
   "cell_type": "markdown",
   "id": "a479836e",
   "metadata": {},
   "source": [
    "** To Delete **\n",
    "\n",
    "Picking out good template waveforms"
   ]
  },
  {
   "cell_type": "code",
   "execution_count": 2,
   "id": "6f264f48",
   "metadata": {},
   "outputs": [],
   "source": [
    "from glob import glob\n",
    "from obspy import Trace\n",
    "homedir = '/home/smocz/expand_redpy_new_files/templates/' #directory to with .tgz file\n",
    "savedir = '/home/smocz/expand_redpy_new_files/h5/' #directory to save h5 file in\n",
    "h5name = 'curated_set.h5'"
   ]
  },
  {
   "cell_type": "code",
   "execution_count": null,
   "id": "5fea5c8d",
   "metadata": {
    "scrolled": true
   },
   "outputs": [],
   "source": [
    "#find t in T to save; browsing\n",
    "volc = \"Rainier\"\n",
    "sta = \"VOIT\"\n",
    "filenamepath = glob(f\"{homedir}Volcano_{volc}_Network_*_Station_{sta}_Channel_*.tgz\")[0]\n",
    "\n",
    "# print(filename)\n",
    "\n",
    "T = Tribe().read(f'{filenamepath}')\n",
    "\n",
    "for t in T:\n",
    "    print(t.name) #template name\n",
    "    t.st.plot(); #tempalte stream\n",
    "#     break"
   ]
  },
  {
   "cell_type": "code",
   "execution_count": 3,
   "id": "1061c1bb",
   "metadata": {
    "scrolled": false
   },
   "outputs": [
    {
     "name": "stdout",
     "output_type": "stream",
     "text": [
      "(14, 3121)\n"
     ]
    }
   ],
   "source": [
    "#save t to wave & name list\n",
    "volc = \"Rainier\"\n",
    "#list of templates to get streams of\n",
    "curated_t_name_list = ['rcmhhzrpra013','rcmhhzrpra088','kautbhzrpra696','kautbhzrpra719','rcmhhzrpra368', \\\n",
    "                       'carbbhzrpra368','carbbhzrpra413','rcmhhzrpra295','voitbhzrpra018','voitbhzrpra063', \\\n",
    "                       'rcmhhzrpra283',\"carbbhzrpra253\",\"carbbhzrpra357\",\"carbbhzrpra907\"]\n",
    "group_id_list = [0,0,0,0,1,1,1,2,2,2,3,3,3,3]\n",
    "sta_list = [\"VOIT\", 'RCM','KAUT','CARB']\n",
    "\n",
    "wave_list = []\n",
    "name_list = []\n",
    "for name in curated_t_name_list:\n",
    "    for sta in sta_list:\n",
    "        if name.startswith(sta.lower()):\n",
    "            filenamepath = glob(f\"{homedir}Volcano_{volc}_Network_*_Station_{sta}_Channel_*.tgz\")[0]\n",
    "            T = Tribe().read(f'{filenamepath}')\n",
    "            for t in T:\n",
    "                if name == t.name:\n",
    "                    t_name = t.name\n",
    "#                     print(t.name)\n",
    "                    wave = t.st\n",
    "#                     t.st.plot();\n",
    "                    wave_list.append(np.array(t.st[0].data)) #append stream data as an array\n",
    "                    name_list.append(t.name) #append names to list\n",
    "                else:\n",
    "                    continue\n",
    "        else:\n",
    "            continue\n",
    "\n",
    "wave_arr = np.array(wave_list)\n",
    "print(wave_arr.shape) #should be (# of streams, length of streams) like (90, 3121) for 90 streams of length 3121"
   ]
  },
  {
   "cell_type": "code",
   "execution_count": 6,
   "id": "a46b66ca",
   "metadata": {},
   "outputs": [],
   "source": [
    "with h5py.File(f\"{savedir}{h5name}\", \"w\") as f:\n",
    "    f.create_dataset(\"waveforms\", data=wave_arr)\n",
    "    f.create_dataset(\"group_id\", data=group_id_list)\n",
    "    f.create_dataset(\"template_name\", data=name_list)"
   ]
  },
  {
   "cell_type": "markdown",
   "id": "97020f03",
   "metadata": {},
   "source": [
    "Writing H5"
   ]
  },
  {
   "cell_type": "code",
   "execution_count": null,
   "id": "53a01334",
   "metadata": {},
   "outputs": [],
   "source": [
    "homedir = '/home/smocz/expand_redpy_new_files/templates/' #directory to with .tgz file\n",
    "filename = 'Volcano_Rainier_Network_UW_Station_RCM_Channel_HHZ.tgz' #name of .tgz file\n",
    "savedir = '/home/smocz/expand_redpy_new_files/h5/' #directory to save h5 file in\n",
    "h5name = 'selected_waves.h5' #name of h5 file"
   ]
  },
  {
   "cell_type": "code",
   "execution_count": null,
   "id": "8195836a",
   "metadata": {},
   "outputs": [],
   "source": [
    "T = Tribe().read(f'{homedir}{filename}') #read the .tgz file\n",
    "\n",
    "#create data\n",
    "wave_list = [] #list of arrays of stream data\n",
    "name_list = [] #list of template names\n",
    "\n",
    "for t in T[:20]: #for each of the first 20 templates in the tgz file\n",
    "    t_id = t.name #template name\n",
    "    waveform = t.st #tempalte stream\n",
    "    wave_list.append(np.array(t.st[0].data)) #append stream data as an array\n",
    "    name_list.append(t.name) #append names to list\n",
    "#     break\n",
    "    \n",
    "wave_arr = np.array(wave_list)\n",
    "print(wave_arr.shape) #should be (# of streams, length of streams) like (90, 3121) for 90 streams of length 3121"
   ]
  },
  {
   "cell_type": "code",
   "execution_count": null,
   "id": "bb5cc2fa",
   "metadata": {},
   "outputs": [],
   "source": [
    "#add data to h5 file\n",
    "with h5py.File(f\"./{h5name}\", \"w\") as f:\n",
    "    f.create_dataset(\"waveforms\", data=wave_arr)\n",
    "    f.create_dataset(\"template_name\", data=name_list)"
   ]
  },
  {
   "cell_type": "markdown",
   "id": "a4570444",
   "metadata": {},
   "source": [
    "Reading H5"
   ]
  },
  {
   "cell_type": "code",
   "execution_count": null,
   "id": "f16193e8",
   "metadata": {},
   "outputs": [],
   "source": [
    "#load waveforms from h5 file\n",
    "with h5py.File(\"./specufex_data.h5\", \"r\") as f:\n",
    "    waveforms = f[\"waveforms\"][()]\n",
    "    template_name = f[\"template_name\"].asstr()[()]\n",
    "\n",
    "print(f\"{len(waveforms)} waveforms in file\")\n",
    "\n",
    "tdf = pd.DataFrame({\"template_name\":template_name,\"waveform\":list(waveforms)})\n",
    "tdf.head()"
   ]
  }
 ],
 "metadata": {
  "kernelspec": {
   "display_name": "seismo (SHARED)",
   "language": "python",
   "name": "seismo-py38-shared"
  },
  "language_info": {
   "codemirror_mode": {
    "name": "ipython",
    "version": 3
   },
   "file_extension": ".py",
   "mimetype": "text/x-python",
   "name": "python",
   "nbconvert_exporter": "python",
   "pygments_lexer": "ipython3",
   "version": "3.8.12"
  }
 },
 "nbformat": 4,
 "nbformat_minor": 5
}
