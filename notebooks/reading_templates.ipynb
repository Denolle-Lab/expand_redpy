{
 "cells": [
  {
   "cell_type": "markdown",
   "id": "d6fbae3f",
   "metadata": {},
   "source": [
    "Created 22 November 2022 to show how to read templates in .tgz files aka Tribe files"
   ]
  },
  {
   "cell_type": "code",
   "execution_count": null,
   "id": "335c67e8",
   "metadata": {},
   "outputs": [],
   "source": [
    "import eqcorrscan #import the package for these files\n",
    "from eqcorrscan import Tribe #import the ability to read .tgz files aka Tribe files\n",
    "import obspy #import obspy to work with streams, etc."
   ]
  },
  {
   "cell_type": "code",
   "execution_count": null,
   "id": "60e6574b",
   "metadata": {},
   "outputs": [],
   "source": [
    "#set parameters\n",
    "path = '/home/smocz/expand_redpy_new_files/templates/' #path to .tgz file\n",
    "filename = 'Volcano_Rainier_Network_UW_Station_RCM_Channel_HHZ.tgz' #name of .tgz file"
   ]
  },
  {
   "cell_type": "code",
   "execution_count": null,
   "id": "3cdf9eca",
   "metadata": {
    "scrolled": true
   },
   "outputs": [],
   "source": [
    "#call all templates in a .tgz file\n",
    "T = Tribe().read(f'{path}{filename}') #read the .tgz file\n",
    "for t in T: #for each template (t) in the .tgz (T)\n",
    "    print('--------------') #divider between templates\n",
    "    print(t) #print the template details\n",
    "    print(' ') #divider\n",
    "    print('Template Name', end=\" \") #label\n",
    "    print(t.name) #print the template name\n",
    "    t.st.plot() #show the obspy stream of the template\n",
    "#     break"
   ]
  },
  {
   "cell_type": "code",
   "execution_count": null,
   "id": "f5faa998",
   "metadata": {
    "scrolled": true
   },
   "outputs": [],
   "source": [
    "#call by index\n",
    "\n",
    "ind = 167 #index number of template to pull\n",
    "\n",
    "print('--------------') #divider between templates\n",
    "print(T[ind]) #print the template details\n",
    "print(' ') #divider\n",
    "print('Template Name', end=\" \") #label\n",
    "print(T[ind].name) #print the template name\n",
    "T[ind].st.plot() #show the obspy stream of the template"
   ]
  },
  {
   "cell_type": "code",
   "execution_count": null,
   "id": "61ca1776",
   "metadata": {},
   "outputs": [],
   "source": []
  }
 ],
 "metadata": {
  "kernelspec": {
   "display_name": "seismo (SHARED)",
   "language": "python",
   "name": "seismo-py38-shared"
  },
  "language_info": {
   "codemirror_mode": {
    "name": "ipython",
    "version": 3
   },
   "file_extension": ".py",
   "mimetype": "text/x-python",
   "name": "python",
   "nbconvert_exporter": "python",
   "pygments_lexer": "ipython3",
   "version": "3.8.12"
  }
 },
 "nbformat": 4,
 "nbformat_minor": 5
}
