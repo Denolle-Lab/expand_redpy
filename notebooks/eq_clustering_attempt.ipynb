{
 "cells": [
  {
   "cell_type": "code",
   "execution_count": 23,
   "id": "b4398087",
   "metadata": {},
   "outputs": [],
   "source": [
    "from eqcorrscan.utils.clustering import cluster\n",
    "from eqcorrscan import Tribe\n",
    "import numpy as np\n",
    "from time import time"
   ]
  },
  {
   "cell_type": "code",
   "execution_count": 2,
   "id": "b2629df4",
   "metadata": {},
   "outputs": [],
   "source": [
    "#set parameters\n",
    "path = '/home/smocz/expand_redpy_new_files/templates/' #path to .tgz file\n",
    "filename = 'Volcano_Rainier_Network_UW_Station_RCM_Channel_HHZ.tgz' #name of .tgz file"
   ]
  },
  {
   "cell_type": "code",
   "execution_count": 24,
   "id": "991b539a",
   "metadata": {},
   "outputs": [
    {
     "name": "stdout",
     "output_type": "stream",
     "text": [
      "0.4475235939025879 s to get stream_list\n",
      "35.69935464859009 s to get groups\n",
      "36.146878242492676 s to cluster Volcano_Rainier_Network_UW_Station_RCM_Channel_HHZ.tgz\n"
     ]
    }
   ],
   "source": [
    "#pull up tgz\n",
    "t0 = time()\n",
    "T = Tribe().read(f'{path}{filename}') #read the .tgz file\n",
    "stream_list = [] #list of tuples. in tuple is (stream, template id)\n",
    "for t in T:\n",
    "    stream_tuple = (t.st,t.name)\n",
    "    stream_list.append(stream_tuple)\n",
    "#     print(stream_tuple)\n",
    "#     break\n",
    "t1 = time()\n",
    "print(f'{t1-t0} s to get stream_list')\n",
    "groups = cluster(template_list=stream_list, show=False,\n",
    "                  corr_thresh=0.3, cores=2)\n",
    "#groups is a list of groups, each group is a list with the templates (tuple of stream and name) in it\n",
    "\n",
    "t2 = time()\n",
    "print(f'{t2-t1} s to get groups')\n",
    "print(f'{t2-t0} s to cluster {filename}')"
   ]
  },
  {
   "cell_type": "code",
   "execution_count": 25,
   "id": "d0d60cdd",
   "metadata": {},
   "outputs": [
    {
     "name": "stdout",
     "output_type": "stream",
     "text": [
      "215\n",
      "367\n"
     ]
    }
   ],
   "source": [
    "print(len(groups)) #number of clusters from EQcorrscan\n",
    "print(len(T)) #number of templates\n",
    "# print(stream_list[:5])"
   ]
  },
  {
   "cell_type": "markdown",
   "id": "20aba019",
   "metadata": {},
   "source": [
    "Tutorial from eqcorrscan"
   ]
  },
  {
   "cell_type": "code",
   "execution_count": null,
   "id": "e4bdf9a1",
   "metadata": {},
   "outputs": [],
   "source": [
    "from obspy import read\n",
    "import glob\n",
    "import os\n",
    "from eqcorrscan.utils.clustering import cluster\n",
    "from eqcorrscan import tests\n",
    "\n",
    "\n",
    "\n",
    "\n",
    "# You will need to edit this line to the location of your eqcorrscan repo.\n",
    "TEST_PATH = os.path.dirname(tests.__file__)\n",
    "testing_path = TEST_PATH + '/test_data/similar_events_processed'\n",
    "stream_files = glob.glob(os.path.join(testing_path, '*'))\n",
    "stream_list = [(read(stream_file), i)\n",
    "               for i, stream_file in enumerate(stream_files)]\n",
    "\n",
    "\n",
    "\n",
    "\n",
    "for stream in stream_list:\n",
    "    for tr in stream[0]:\n",
    "        if tr.stats.station not in ['WHAT2', 'WV04', 'GCSZ']:\n",
    "            stream[0].remove(tr) \n",
    "            continue\n",
    "            \n",
    "            \n",
    "            \n",
    "            \n",
    "groups = cluster(template_list=stream_list, show=False,\n",
    "                  corr_thresh=0.3, cores=2)"
   ]
  }
 ],
 "metadata": {
  "kernelspec": {
   "display_name": "seismo (SHARED)",
   "language": "python",
   "name": "seismo-py38-shared"
  },
  "language_info": {
   "codemirror_mode": {
    "name": "ipython",
    "version": 3
   },
   "file_extension": ".py",
   "mimetype": "text/x-python",
   "name": "python",
   "nbconvert_exporter": "python",
   "pygments_lexer": "ipython3",
   "version": "3.8.12"
  }
 },
 "nbformat": 4,
 "nbformat_minor": 5
}
