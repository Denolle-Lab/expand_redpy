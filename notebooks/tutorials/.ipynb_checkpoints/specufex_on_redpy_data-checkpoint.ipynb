{
 "cells": [
  {
   "cell_type": "markdown",
   "id": "2908041d",
   "metadata": {},
   "source": [
    "The purpose of this notebook is to be a tutorial on how to use specufex grouping on redpy templates. \n",
    "\n",
    "This tutorial reads from an h5 file of redpy templates, and includes how to read .tgz files and save their information into an h5 file.\n",
    "\n",
    "---\n",
    "\n",
    "Created by Nick Smoczyk 4/5/2023\n",
    "\n",
    "Updated 4/12/2023"
   ]
  },
  {
   "cell_type": "markdown",
   "id": "12f83984",
   "metadata": {},
   "source": [
    "### 1. Reading .tgz and saving as h5"
   ]
  },
  {
   "cell_type": "code",
   "execution_count": null,
   "id": "73572f74",
   "metadata": {},
   "outputs": [],
   "source": [
    "#imports and parameters\n",
    "import h5py #to save and read h5 files\n",
    "import numpy as np #for arrays and math\n",
    "import pandas as pd #for dataframes and csv\n",
    "import scipy.signal as sp #for calculating spectrograms\n",
    "import matplotlib.pyplot as plt #for plots\n",
    "\n",
    "from specufex import BayesianNonparametricNMF, BayesianHMM #for NMF and HMM\n",
    "from tqdm import trange #for a progress meter\n",
    "\n",
    "import eqcorrscan #for reading templates from .tgz\n",
    "from eqcorrscan import Tribe #for reading templates from .tgz\n",
    "\n",
    "homedir = '/home/smocz/expand_redpy_new_files/templates/' #directory to with .tgz file\n",
    "filename = 'Volcano_Rainier_Network_UW_Station_RCM_Channel_HHZ.tgz' #name of .tgz file\n",
    "savedir = '/home/smocz/expand_redpy_new_files/h5/' #directory to save h5 file in\n",
    "h5name = '' #name of h5 file"
   ]
  },
  {
   "cell_type": "code",
   "execution_count": null,
   "id": "373b8828",
   "metadata": {},
   "outputs": [],
   "source": [
    "T = Tribe().read(f'{homedir}{filename}') #read the .tgz file\n",
    "\n",
    "#create data\n",
    "wave_list = [] #list of arrays of stream data\n",
    "name_list = [] #list of template names\n",
    "\n",
    "for t in T[:20]: #for each of the first 20 templates in the tgz file\n",
    "    t_id = t.name #template name\n",
    "    waveform = t.st #tempalte stream\n",
    "    wave_list.append(np.array(t.st[0].data)) #append stream data as an array\n",
    "    name_list.append(t.name)\n",
    "#     break\n",
    "    \n",
    "wave_arr = np.array(wave_list)\n",
    "print(wave_arr.shape) #should be (# of streams, length of streams) like (90, 3121) for 90 streams of length 3121"
   ]
  },
  {
   "cell_type": "code",
   "execution_count": null,
   "id": "7ebb21b2",
   "metadata": {},
   "outputs": [],
   "source": [
    "#add data to h5 file\n",
    "with h5py.File(\"./specufex_data.h5\", \"w\") as f:\n",
    "    f.create_dataset(\"waveforms\", data=wave_arr)\n",
    "    f.create_dataset(\"template_name\", data=name_list)"
   ]
  },
  {
   "cell_type": "markdown",
   "id": "af4a07fd",
   "metadata": {},
   "source": [
    "### 2. Reading h5 file"
   ]
  },
  {
   "cell_type": "code",
   "execution_count": null,
   "id": "5926fd36",
   "metadata": {},
   "outputs": [],
   "source": [
    "#load waveforms from h5 file\n",
    "with h5py.File(\"./specufex_data.h5\", \"r\") as f:\n",
    "    waveforms = f[\"waveforms\"][()]\n",
    "    template_name = f[\"template_name\"].asstr()[()]\n",
    "\n",
    "print(f\"{len(waveforms)} waveforms in file\")\n",
    "\n",
    "tdf = pd.DataFrame({\"template_name\":template_name,\"waveform\":list(waveforms)})\n",
    "tdf.head()"
   ]
  },
  {
   "cell_type": "markdown",
   "id": "518736b2",
   "metadata": {},
   "source": [
    "### 3. Spectrograms"
   ]
  },
  {
   "cell_type": "code",
   "execution_count": null,
   "id": "5ea029d8",
   "metadata": {},
   "outputs": [],
   "source": [
    "#stream filtering\n",
    "fs = 40 #sampling rate\n",
    "fqmin = 1 #minimum frequency for bandpass\n",
    "fqmax = 10 #maximum frequency for bandpass\n",
    "\n",
    "# spectrogram parameters\n",
    "sgramMode='magnitude'\n",
    "sgramScaling='spectrum'\n",
    "\n",
    "# frequency/time resolution\n",
    "nperseg = 64\n",
    "noverlap = nperseg/4\n",
    "nfft = 1024\n",
    "\n",
    "#Kmeans\n",
    "K = 6 # number of clusters to fit\n",
    "\n",
    "#NMF\n",
    "batches_nmf = 100000\n",
    "batch_size = 1\n",
    "\n",
    "#HMM\n",
    "num_states = 8\n",
    "batches_hmm = 5000"
   ]
  },
  {
   "cell_type": "code",
   "execution_count": null,
   "id": "29258f59",
   "metadata": {},
   "outputs": [],
   "source": [
    "#calculate raw spectrograms with scipy\n",
    "fSTFT, tSTFT, STFT_raw = sp.spectrogram(\n",
    "    x=np.stack(cat[\"waveform\"].values),\n",
    "    fs=fs,\n",
    "    nperseg=nperseg,\n",
    "    noverlap=noverlap,\n",
    "    nfft=nfft,\n",
    "    scaling=sgramScaling,\n",
    "    axis=-1,\n",
    "    mode=sgramMode\n",
    ")"
   ]
  },
  {
   "cell_type": "code",
   "execution_count": null,
   "id": "5a1778fb",
   "metadata": {},
   "outputs": [],
   "source": [
    "#quality check for NaN\n",
    "np.isnan(STFT_raw).any()"
   ]
  },
  {
   "cell_type": "code",
   "execution_count": null,
   "id": "b8778f46",
   "metadata": {},
   "outputs": [],
   "source": [
    "freq_slice = np.where((fSTFT >= fqmin) & (fSTFT <= fqmax))\n",
    "fSTFT   = fSTFT[freq_slice]\n",
    "STFT_0 = STFT_raw[:,freq_slice,:].squeeze()\n",
    "\n",
    "# STFT_0 = STFT_raw"
   ]
  },
  {
   "cell_type": "code",
   "execution_count": null,
   "id": "76526ddf",
   "metadata": {},
   "outputs": [],
   "source": [
    "normConstant = np.median(STFT_0, axis=(1,2))\n",
    "STFT_norm = STFT_0 / normConstant[:,np.newaxis,np.newaxis]  # norm by median\n",
    "del STFT_0\n",
    "STFT_dB = 20*np.log10(STFT_norm, where=STFT_norm != 0) # convert to dB (database?)\n",
    "del STFT_norm\n",
    "STFT = np.maximum(0, STFT_dB) # make sure nonnegative\n",
    "del STFT_dB\n",
    "\n",
    "tdf[\"stft\"] = list(STFT)\n",
    "tdf.head()"
   ]
  },
  {
   "cell_type": "code",
   "execution_count": null,
   "id": "65186904",
   "metadata": {},
   "outputs": [],
   "source": [
    "#quality check\n",
    "bad_idx = tdf[\"stft\"][tdf[\"stft\"].apply(lambda x: np.isnan(x).any())].index\n",
    "print(f\"Bad spectrograms: \\n{tdf.loc[bad_idx].template_name}\")\n",
    "tdf = tdf.drop(bad_idx).sort_values(\"template_name\")"
   ]
  },
  {
   "cell_type": "code",
   "execution_count": null,
   "id": "e03527e9",
   "metadata": {},
   "outputs": [],
   "source": [
    "#plotting example spectrogram\n",
    "n_spectrogram = 0 # index of spectrogram to plot\n",
    "\n",
    "f, ax = plt.subplots(1,2, figsize=(10,5))\n",
    "\n",
    "ax[0].pcolormesh(tSTFT,fSTFT,STFT_raw[n_spectrogram,freq_slice,:].squeeze())\n",
    "ax[0].set_xlabel(\"Timestep\")\n",
    "ax[0].set_ylabel(\"Frequency (Hz)\")\n",
    "ax[0].set_title(\"Original spectrogram\")\n",
    "\n",
    "ax[1].pcolormesh(tSTFT,fSTFT, STFT[n_spectrogram])\n",
    "ax[1].set_xlabel(\"Timestep\")\n",
    "ax[1].set_title(\"Normalized spectrogram\")"
   ]
  },
  {
   "cell_type": "markdown",
   "id": "5300c603",
   "metadata": {},
   "source": [
    "### 4. NMF"
   ]
  },
  {
   "cell_type": "code",
   "execution_count": null,
   "id": "ef079e2a",
   "metadata": {},
   "outputs": [],
   "source": [
    "nmf = BayesianNonparametricNMF(np.stack(tdf[\"stft\"].values).shape)"
   ]
  },
  {
   "cell_type": "code",
   "execution_count": null,
   "id": "50f675d7",
   "metadata": {},
   "outputs": [],
   "source": [
    "t = trange(batches_nmf, desc=\"NMF fit progress \", leave=True)\n",
    "for i in t:\n",
    "    idx = np.random.randint(len(tdf[\"stft\"].values), size=batch_size)\n",
    "    nmf.fit(tdf[\"stft\"].iloc[idx].values)\n",
    "    t.set_postfix_str(f\"Patterns: {nmf.num_pat}\")"
   ]
  },
  {
   "cell_type": "code",
   "execution_count": null,
   "id": "ea825b45",
   "metadata": {},
   "outputs": [],
   "source": [
    "#plot\n",
    "plt.pcolormesh(nmf.EW@np.diag(nmf.EA[0]))\n",
    "plt.xlabel(\"NMF pattern number\")\n",
    "plt.xticks(range(0,nmf.num_pat,2), range(0,nmf.num_pat,2))\n",
    "plt.ylabel(\"Frequency (Hz)\")\n",
    "plt.show()"
   ]
  },
  {
   "cell_type": "code",
   "execution_count": null,
   "id": "2d966d01",
   "metadata": {},
   "outputs": [],
   "source": [
    "#show activation matrix\n",
    "Vs = nmf.transform(tdf[\"stft\"].values)\n",
    "\n",
    "# save Vs to an hdf5\n",
    "# with h5py.File(\"data/geysers/Vs.h5\", \"w\") as f:\n",
    "#     f[\"Vs\"] = Vs"
   ]
  },
  {
   "cell_type": "code",
   "execution_count": null,
   "id": "2d4462ae",
   "metadata": {},
   "outputs": [],
   "source": [
    "f, axes = plt.subplots(1,2,figsize=(15,5))\n",
    "\n",
    "axes[0].pcolormesh(Vs[0])\n",
    "axes[0].set_xlabel(\"Timestep\")\n",
    "axes[0].set_ylabel(\"NMF pattern\")"
   ]
  },
  {
   "cell_type": "markdown",
   "id": "77cc26c2",
   "metadata": {},
   "source": [
    "### 5. HMM"
   ]
  },
  {
   "cell_type": "code",
   "execution_count": null,
   "id": "21113234",
   "metadata": {},
   "outputs": [],
   "source": [
    "hmm = BayesianHMM(nmf.num_pat, nmf.gain, num_state=num_states, Neff=50000)"
   ]
  },
  {
   "cell_type": "code",
   "execution_count": null,
   "id": "44b9e251",
   "metadata": {},
   "outputs": [],
   "source": [
    "t = trange(batches_hmm, desc=\"HMM fit progress \", leave=True)\n",
    "for i in t:\n",
    "    idx = np.random.randint(Vs.shape[0], size=1)\n",
    "    hmm.fit(Vs[idx])"
   ]
  },
  {
   "cell_type": "code",
   "execution_count": null,
   "id": "e4858eb5",
   "metadata": {},
   "outputs": [],
   "source": [
    "plt.figure(figsize=(10,5))\n",
    "plt.imshow(hmm.EB, origin=\"lower\")\n",
    "plt.ylabel(\"HMM state\")\n",
    "plt.xlabel(\"Frequency pattern\")\n",
    "_=plt.yticks(range(0,num_states,5), range(0, num_states,5))"
   ]
  }
 ],
 "metadata": {
  "kernelspec": {
   "display_name": "seismo (SHARED)",
   "language": "python",
   "name": "seismo-py38-shared"
  },
  "language_info": {
   "codemirror_mode": {
    "name": "ipython",
    "version": 3
   },
   "file_extension": ".py",
   "mimetype": "text/x-python",
   "name": "python",
   "nbconvert_exporter": "python",
   "pygments_lexer": "ipython3",
   "version": "3.8.12"
  }
 },
 "nbformat": 4,
 "nbformat_minor": 5
}
