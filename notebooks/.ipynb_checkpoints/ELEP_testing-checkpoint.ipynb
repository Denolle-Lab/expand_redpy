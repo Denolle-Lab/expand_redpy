{
 "cells": [
  {
   "cell_type": "markdown",
   "id": "ed287cf4",
   "metadata": {},
   "source": [
    "DOWNLOADED 9/8/2023 FROM GITHUB https://github.com/Denolle-Lab/surface_events/blob/marine_cleanup_branch/src/SU_seismic_infrasound_MtRainier.ipynb, ALTERED."
   ]
  },
  {
   "cell_type": "markdown",
   "id": "e0f6cb81",
   "metadata": {},
   "source": [
    "\n",
    "\n",
    "\n",
    "# Surface Event Analysis with seismic and infrasound\n",
    "\n",
    "This notebooks focuses on data from Mt Rainier by plotting the SU events and the possible infrasound records.\n",
    "\n",
    "\n",
    "Updated 08/17/2023\n",
    "Marine Denolle\n",
    "(mdenolle@uw.edu)"
   ]
  },
  {
   "cell_type": "markdown",
   "id": "7021dc6f",
   "metadata": {},
   "source": [
    "Import Modules"
   ]
  },
  {
   "cell_type": "code",
   "execution_count": 1,
   "id": "7cf759fb",
   "metadata": {},
   "outputs": [],
   "source": [
    "# import sys\n",
    "# sys.path.append('/data/wsd01/pnwstore/')\n",
    "import matplotlib.pyplot as plt\n",
    "# from matplotlib.pyplot import Figure\n",
    "import numpy as np\n",
    "import pandas as pd\n",
    "import obspy\n",
    "from obspy.core import UTCDateTime\n",
    "from obspy.clients.fdsn.client import Client\n",
    "import scipy\n",
    "from scipy import optimize\n",
    "from scipy.optimize import curve_fit\n",
    "from geopy import distance\n",
    "from datetime import datetime\n",
    "import rasterio as rio\n",
    "import torch\n",
    "plt.rcParams.update({'font.size': 10})\n",
    "# from utils import *\n",
    "\n",
    "\n",
    "import seisbench.models as sbm\n",
    "device = torch.device(\"cpu\")\n",
    "\n",
    "from ELEP.elep.ensemble_statistics import ensemble_statistics\n",
    "from ELEP.elep.ensemble_coherence import ensemble_semblance \n",
    "from ELEP.elep.ensemble_learners import ensemble_regressor_cnn\n",
    "from mbf_elep_func import apply_mbf\n",
    "from ELEP.elep import mbf, mbf_utils\n",
    "from ELEP.elep import trigger_func\n",
    "from ELEP.elep.trigger_func import picks_summary_simple\n",
    "\n",
    "from ELEP.elep.mbf_utils import make_LogFq, make_LinFq, rec_filter_coeff, create_obspy_trace\n",
    "from ELEP.elep.mbf import MB_filter as MBF"
   ]
  },
  {
   "cell_type": "markdown",
   "id": "bd30de3d",
   "metadata": {},
   "source": [
    "Parameters"
   ]
  },
  {
   "cell_type": "code",
   "execution_count": 2,
   "id": "4c32de2f",
   "metadata": {},
   "outputs": [],
   "source": [
    "# define clients to download the station data\n",
    "# client = WaveformClient() # we ignore PNWdatastore for now\n",
    "client2 = Client('IRIS')\n",
    "\n",
    "t_before = 15 #number of seconds before pick time\n",
    "# t_after = 15 #number of seconds after pick time\n",
    "t_before_raw = 1200 #number of seconds before pick time before removing instrumental response\n",
    "# t_after_raw = 1200 #number of seconds after pick time before removing instrumental response\n",
    "t_around = 10\n",
    "fs = 40 #sampling rate that all waveforms are resampled to\n",
    "window = 150 #window length of the signal (this will help with phase picking with EqT next). \n",
    "# Use 150 seconds @ 40 Hz gives 6001 points. \n",
    "pr = 98 #percentile\n",
    "thr = 5 #SNR threshold\n",
    "station_distance_threshold = 25\n",
    "pi = np.pi\n",
    "v_s = 1000 #shear wave velocity at the surface\n",
    "\n",
    "# range of dates that we are looking at\n",
    "t_beginning = UTCDateTime(2001,1,1,0,0,0) \n",
    "t_end = UTCDateTime(2023,8,2,23,59)\n",
    "twin=6000\n",
    "\n",
    "smooth_length = 5 # constant for smoothing the waveform envelopes\n",
    "low_cut = 1 #low frequency threshold\n",
    "high_cut = 12 #high frequency threshold\n",
    "az_thr = 1000 #threshold of distance in meters from source location\n",
    "step = 100 #step every 100 m\n",
    "t_step = 1 #step every second\n",
    "ratio = 5.6915196 #used to define the grid \n",
    "colors = list(plt.cm.tab10(np.arange(10)))*3\n",
    "radius = 6371e3 # radius of the earth"
   ]
  },
  {
   "cell_type": "markdown",
   "id": "20c89405",
   "metadata": {},
   "source": [
    "## Download eqT models"
   ]
  },
  {
   "cell_type": "code",
   "execution_count": 3,
   "id": "a5fb0da6",
   "metadata": {},
   "outputs": [],
   "source": [
    "# import os\n",
    "# os.makedirs('~/.seisbench/models/v3')"
   ]
  },
  {
   "cell_type": "code",
   "execution_count": 4,
   "id": "2ba4eaf9",
   "metadata": {},
   "outputs": [],
   "source": [
    "# !wget https://github.com/congcy/ELEP/raw/main/docs/tutorials/data/pnw.pt.v1 -O ~/.seisbench/models/v3/eqtransformer/pnw.pt.v1\n",
    "# !wget https://github.com/congcy/ELEP/raw/main/docs/tutorials/data/pnw.json.v1 -O ~/.seisbench/models/v3/eqtransformer/pnw.json.v1"
   ]
  },
  {
   "cell_type": "code",
   "execution_count": 3,
   "id": "7e6faefd",
   "metadata": {},
   "outputs": [],
   "source": [
    "\n",
    "# ML picker parameters\n",
    "paras_semblance = {'dt':0.025, 'semblance_order':4, 'window_flag':True, \n",
    "                   'semblance_win':0.5, 'weight_flag':'max'}\n",
    "p_thrd, s_thrd = 0.01, 0.05"
   ]
  },
  {
   "cell_type": "code",
   "execution_count": 4,
   "id": "c4f29d6a",
   "metadata": {},
   "outputs": [],
   "source": [
    "# download models\n",
    "pretrain_list = [\"pnw\",\"ethz\",\"instance\",\"scedc\",\"stead\",\"geofon\",\"neic\"]\n",
    "pn_pnw_model = sbm.EQTransformer.from_pretrained('pnw')\n",
    "pn_ethz_model = sbm.EQTransformer.from_pretrained(\"ethz\")\n",
    "pn_instance_model = sbm.EQTransformer.from_pretrained(\"instance\")\n",
    "pn_scedc_model = sbm.EQTransformer.from_pretrained(\"scedc\")\n",
    "pn_stead_model = sbm.EQTransformer.from_pretrained(\"stead\")\n",
    "pn_geofon_model = sbm.EQTransformer.from_pretrained(\"geofon\")\n",
    "pn_neic_model = sbm.EQTransformer.from_pretrained(\"neic\")\n",
    "\n",
    "list_models = [pn_pnw_model,pn_ethz_model,pn_scedc_model,pn_neic_model,pn_geofon_model,pn_stead_model,pn_instance_model]\n"
   ]
  },
  {
   "cell_type": "code",
   "execution_count": 5,
   "id": "39c71ed3",
   "metadata": {},
   "outputs": [],
   "source": [
    "pn_pnw_model.to(device);\n",
    "pn_ethz_model.to(device);\n",
    "pn_scedc_model.to(device);\n",
    "pn_neic_model.to(device);\n",
    "pn_geofon_model.to(device);\n",
    "pn_stead_model.to(device);\n",
    "pn_instance_model.to(device);"
   ]
  },
  {
   "cell_type": "markdown",
   "id": "a2c5b239",
   "metadata": {},
   "source": [
    "redpy things"
   ]
  },
  {
   "cell_type": "code",
   "execution_count": 6,
   "id": "f0fc84f5",
   "metadata": {},
   "outputs": [
    {
     "name": "stdout",
     "output_type": "stream",
     "text": [
      "PB\n"
     ]
    }
   ],
   "source": [
    "netsta = 'PB.B202'\n",
    "print(netsta.split('.')[0])"
   ]
  },
  {
   "cell_type": "code",
   "execution_count": 7,
   "id": "d5c6f556",
   "metadata": {},
   "outputs": [],
   "source": [
    "from pnwstore.mseed import WaveformClient\n",
    "client = WaveformClient()\n",
    "starttime = UTCDateTime(\"2016-06-15T21:00:00.000000\") #new test event\n",
    "endtime   = UTCDateTime(\"2016-06-15T21:00:00.000000\")+(1*60) #100 minutes later\n",
    "# starttime = UTCDateTime(\"2022-02-06T00:00:00.000000\") #original event\n",
    "# endtime   = UTCDateTime(\"2022-02-06T03:59:59.999000\")\n",
    "s = client.get_waveforms(network = netsta.split('.')[0], station = netsta.split('.')[1], location = \"\", channel = \"EH?\",\n",
    "                     starttime = starttime, endtime = endtime)"
   ]
  },
  {
   "cell_type": "code",
   "execution_count": 8,
   "id": "5046ba8b",
   "metadata": {},
   "outputs": [
    {
     "name": "stdout",
     "output_type": "stream",
     "text": [
      "6001\n"
     ]
    }
   ],
   "source": [
    "print(len(s[0]))"
   ]
  },
  {
   "cell_type": "code",
   "execution_count": 9,
   "id": "798779ac",
   "metadata": {},
   "outputs": [
    {
     "data": {
      "image/png": "[encoded data removed]",
      "text/plain": [
       "<Figure size 800x750 with 3 Axes>"
      ]
     },
     "metadata": {
      "needs_background": "light"
     },
     "output_type": "display_data"
    }
   ],
   "source": [
    "s.plot();"
   ]
  },
  {
   "cell_type": "code",
   "execution_count": 10,
   "id": "b511a105",
   "metadata": {},
   "outputs": [],
   "source": [
    "evt_data = s\n",
    "sta_available = [netsta.split('.')[1]]\n",
    "list_models = list_models\n",
    "twin = len(s[0])-1"
   ]
  },
  {
   "cell_type": "code",
   "execution_count": 11,
   "id": "d08cceb0",
   "metadata": {},
   "outputs": [],
   "source": [
    "fqmin = low_cut\n",
    "fqmax = high_cut\n",
    "dt = 0.001; fs = 100\n",
    "nfqs = 10\n",
    "nt = 6000; nc = 3\n",
    "fq_list = make_LogFq(fqmin, fqmax, dt, nfqs)\n",
    "coeff_HP, coeff_LP = rec_filter_coeff(fq_list, dt)\n",
    "MBF_paras = {'f_min':fqmin, 'f_max':fqmax, 'nfqs':nfqs, 'frequencies':fq_list, 'CN_HP':coeff_HP, 'CN_LP':coeff_LP, \\\n",
    "    'dt':dt, 'fs':fs, 'nt':nt, 'nc':nc, 'npoles': 2}\n",
    "\n",
    "paras_semblance = {'dt':0.01, 'semblance_order':2, 'window_flag':True, \n",
    "                   'semblance_win':0.5, 'weight_flag':'max'}"
   ]
  },
  {
   "cell_type": "code",
   "execution_count": 12,
   "id": "a8c9c0ab",
   "metadata": {},
   "outputs": [
    {
     "name": "stdout",
     "output_type": "stream",
     "text": [
      "imodel 0\n",
      "imodel 1\n",
      "imodel 2\n",
      "imodel 3\n",
      "imodel 4\n",
      "imodel 5\n",
      "imodel 6\n"
     ]
    }
   ],
   "source": [
    "smb_peak,smb_peak_mbf = apply_mbf(evt_data, sta_available, \\\n",
    "        list_models, MBF_paras, paras_semblance)\n",
    "\n",
    "# print(\"reference time: \",otime)\n",
    "# print(\"relative picks from seismometers\")\n",
    "# print(sta_available)\n",
    "# print(smb_peak_mbf)"
   ]
  },
  {
   "cell_type": "code",
   "execution_count": 14,
   "id": "48924a36",
   "metadata": {},
   "outputs": [],
   "source": [
    "list_sta = sta_available"
   ]
  },
  {
   "cell_type": "code",
   "execution_count": 15,
   "id": "d6056e1b",
   "metadata": {
    "scrolled": true
   },
   "outputs": [
    {
     "name": "stdout",
     "output_type": "stream",
     "text": [
      "imodel 0\n"
     ]
    },
    {
     "ename": "AssertionError",
     "evalue": "",
     "output_type": "error",
     "traceback": [
      "\u001b[0;31m---------------------------------------------------------------------------\u001b[0m",
      "\u001b[0;31mAssertionError\u001b[0m                            Traceback (most recent call last)",
      "Input \u001b[0;32mIn [15]\u001b[0m, in \u001b[0;36m<module>\u001b[0;34m\u001b[0m\n\u001b[1;32m     35\u001b[0m \u001b[38;5;28;01mfor\u001b[39;00m ii, imodel \u001b[38;5;129;01min\u001b[39;00m \u001b[38;5;28menumerate\u001b[39m(list_models):\n\u001b[1;32m     36\u001b[0m     \u001b[38;5;28mprint\u001b[39m(\u001b[38;5;124m'\u001b[39m\u001b[38;5;124mimodel\u001b[39m\u001b[38;5;124m'\u001b[39m,ii)\n\u001b[0;32m---> 37\u001b[0m     batch_pred[ii, :, :] \u001b[38;5;241m=\u001b[39m \u001b[43mimodel\u001b[49m\u001b[43m(\u001b[49m\u001b[43mdata_tt\u001b[49m\u001b[38;5;241;43m.\u001b[39;49m\u001b[43mto\u001b[49m\u001b[43m(\u001b[49m\u001b[43mdevice\u001b[49m\u001b[43m)\u001b[49m\u001b[43m)\u001b[49m[\u001b[38;5;241m1\u001b[39m]\u001b[38;5;241m.\u001b[39mdetach()\u001b[38;5;241m.\u001b[39mcpu()\u001b[38;5;241m.\u001b[39mnumpy()[:, :]\n",
      "File \u001b[0;32m/home/jupyter_share/miniconda3/envs/seismo/lib/python3.8/site-packages/torch/nn/modules/module.py:1501\u001b[0m, in \u001b[0;36mModule._call_impl\u001b[0;34m(self, *args, **kwargs)\u001b[0m\n\u001b[1;32m   1496\u001b[0m \u001b[38;5;66;03m# If we don't have any hooks, we want to skip the rest of the logic in\u001b[39;00m\n\u001b[1;32m   1497\u001b[0m \u001b[38;5;66;03m# this function, and just call forward.\u001b[39;00m\n\u001b[1;32m   1498\u001b[0m \u001b[38;5;28;01mif\u001b[39;00m \u001b[38;5;129;01mnot\u001b[39;00m (\u001b[38;5;28mself\u001b[39m\u001b[38;5;241m.\u001b[39m_backward_hooks \u001b[38;5;129;01mor\u001b[39;00m \u001b[38;5;28mself\u001b[39m\u001b[38;5;241m.\u001b[39m_backward_pre_hooks \u001b[38;5;129;01mor\u001b[39;00m \u001b[38;5;28mself\u001b[39m\u001b[38;5;241m.\u001b[39m_forward_hooks \u001b[38;5;129;01mor\u001b[39;00m \u001b[38;5;28mself\u001b[39m\u001b[38;5;241m.\u001b[39m_forward_pre_hooks\n\u001b[1;32m   1499\u001b[0m         \u001b[38;5;129;01mor\u001b[39;00m _global_backward_pre_hooks \u001b[38;5;129;01mor\u001b[39;00m _global_backward_hooks\n\u001b[1;32m   1500\u001b[0m         \u001b[38;5;129;01mor\u001b[39;00m _global_forward_hooks \u001b[38;5;129;01mor\u001b[39;00m _global_forward_pre_hooks):\n\u001b[0;32m-> 1501\u001b[0m     \u001b[38;5;28;01mreturn\u001b[39;00m \u001b[43mforward_call\u001b[49m\u001b[43m(\u001b[49m\u001b[38;5;241;43m*\u001b[39;49m\u001b[43margs\u001b[49m\u001b[43m,\u001b[49m\u001b[43m \u001b[49m\u001b[38;5;241;43m*\u001b[39;49m\u001b[38;5;241;43m*\u001b[39;49m\u001b[43mkwargs\u001b[49m\u001b[43m)\u001b[49m\n\u001b[1;32m   1502\u001b[0m \u001b[38;5;66;03m# Do not call functions when jit is used\u001b[39;00m\n\u001b[1;32m   1503\u001b[0m full_backward_hooks, non_full_backward_hooks \u001b[38;5;241m=\u001b[39m [], []\n",
      "File \u001b[0;32m/home/jupyter_share/miniconda3/envs/seismo/lib/python3.8/site-packages/seisbench/models/eqtransformer.py:236\u001b[0m, in \u001b[0;36mEQTransformer.forward\u001b[0;34m(self, x, logits)\u001b[0m\n\u001b[1;32m    234\u001b[0m \u001b[38;5;28;01mdef\u001b[39;00m \u001b[38;5;21mforward\u001b[39m(\u001b[38;5;28mself\u001b[39m, x, logits\u001b[38;5;241m=\u001b[39m\u001b[38;5;28;01mFalse\u001b[39;00m):\n\u001b[1;32m    235\u001b[0m     \u001b[38;5;28;01massert\u001b[39;00m x\u001b[38;5;241m.\u001b[39mndim \u001b[38;5;241m==\u001b[39m \u001b[38;5;241m3\u001b[39m\n\u001b[0;32m--> 236\u001b[0m     \u001b[38;5;28;01massert\u001b[39;00m x\u001b[38;5;241m.\u001b[39mshape[\u001b[38;5;241m1\u001b[39m:] \u001b[38;5;241m==\u001b[39m (\u001b[38;5;28mself\u001b[39m\u001b[38;5;241m.\u001b[39min_channels, \u001b[38;5;28mself\u001b[39m\u001b[38;5;241m.\u001b[39min_samples)\n\u001b[1;32m    238\u001b[0m     \u001b[38;5;66;03m# Shared encoder part\u001b[39;00m\n\u001b[1;32m    239\u001b[0m     x \u001b[38;5;241m=\u001b[39m \u001b[38;5;28mself\u001b[39m\u001b[38;5;241m.\u001b[39mencoder(x)\n",
      "\u001b[0;31mAssertionError\u001b[0m: "
     ]
    }
   ],
   "source": [
    "bigS = np.zeros(shape=(len(list_sta), 3, twin))\n",
    "i = 0\n",
    "stream = evt_data.select(station=list_sta[i])\n",
    "if len(stream) < 3:\n",
    "    # copy stream to 2 components, zero the missing data.\n",
    "    tr3 = stream[0].copy()# assumed to be the vertical\n",
    "    tr2 = stream[0].copy(); tr2.stats.channel = stream[0].stats.channel[0:2]+\"N\"\n",
    "    tr1 = stream[0].copy(); tr1.stats.channel = stream[0].stats.channel[0:2]+\"E\"\n",
    "    tr1.data = np.zeros(len(stream[0].data))\n",
    "    tr2.data = np.zeros(len(stream[0].data))\n",
    "    stream = obspy.Stream(traces=[tr1, tr2, tr3])\n",
    "    # convert Stream into seisbench-friendly array    \n",
    "    # fill in big array and order data ZNE\n",
    "bigS[i,0,:] = stream[2].data[:-1]\n",
    "bigS[i,1,:] = stream[1].data[:-1]\n",
    "bigS[i,2,:] = stream[0].data[:-1]\n",
    "\n",
    "# allocating memory for the ensemble predictions\n",
    "nwin,twin,nsta=bigS.shape[1],bigS.shape[-1],len(list_sta)\n",
    "batch_pred =np.zeros(shape=(len(list_models),nsta,twin)) \n",
    "batch_pred_mbf =np.zeros(shape=(len(list_models),nsta,twin))\n",
    "# evaluate\n",
    "for imodel in list_models:\n",
    "    imodel.eval()\n",
    "######### Broadband workflow ################\n",
    "crap2 = bigS.copy()\n",
    "crap2 -= np.mean(crap2, axis=-1, keepdims= True) # demean data\n",
    "# original use std norm\n",
    "data_std = crap2 / np.std(crap2) + 1e-10\n",
    "# could use max data\n",
    "mmax = np.max(np.abs(crap2), axis=-1, keepdims=True)\n",
    "data_max = np.divide(crap2 , mmax,out=np.zeros_like(crap2), where=mmax!=0)\n",
    "data_tt = torch.Tensor(data_max)\n",
    "# batch predict picks.\n",
    "for ii, imodel in enumerate(list_models):\n",
    "    print('imodel',ii)\n",
    "    batch_pred[ii, :, :] = imodel(data_tt.to(device))[1].detach().cpu().numpy()[:, :]"
   ]
  },
  {
   "cell_type": "code",
   "execution_count": 22,
   "id": "19c7df4d",
   "metadata": {},
   "outputs": [
    {
     "ename": "AssertionError",
     "evalue": "",
     "output_type": "error",
     "traceback": [
      "\u001b[0;31m---------------------------------------------------------------------------\u001b[0m",
      "\u001b[0;31mAssertionError\u001b[0m                            Traceback (most recent call last)",
      "Input \u001b[0;32mIn [22]\u001b[0m, in \u001b[0;36m<module>\u001b[0;34m\u001b[0m\n\u001b[1;32m     14\u001b[0m imodel \u001b[38;5;241m=\u001b[39m pn_neic_model\u001b[38;5;66;03m# pn_scedc_model #pn_ethz_model# pn_pnw_model #,,,,pn_geofon_model,pn_stead_model,pn_instance_model\u001b[39;00m\n\u001b[1;32m     15\u001b[0m \u001b[38;5;66;03m# inner_func = data_tt.to(device) #works\u001b[39;00m\n\u001b[0;32m---> 16\u001b[0m outer_func \u001b[38;5;241m=\u001b[39m \u001b[43mimodel\u001b[49m\u001b[43m(\u001b[49m\u001b[43mdata_tt\u001b[49m\u001b[43m)\u001b[49m\n",
      "File \u001b[0;32m/home/jupyter_share/miniconda3/envs/seismo/lib/python3.8/site-packages/torch/nn/modules/module.py:1501\u001b[0m, in \u001b[0;36mModule._call_impl\u001b[0;34m(self, *args, **kwargs)\u001b[0m\n\u001b[1;32m   1496\u001b[0m \u001b[38;5;66;03m# If we don't have any hooks, we want to skip the rest of the logic in\u001b[39;00m\n\u001b[1;32m   1497\u001b[0m \u001b[38;5;66;03m# this function, and just call forward.\u001b[39;00m\n\u001b[1;32m   1498\u001b[0m \u001b[38;5;28;01mif\u001b[39;00m \u001b[38;5;129;01mnot\u001b[39;00m (\u001b[38;5;28mself\u001b[39m\u001b[38;5;241m.\u001b[39m_backward_hooks \u001b[38;5;129;01mor\u001b[39;00m \u001b[38;5;28mself\u001b[39m\u001b[38;5;241m.\u001b[39m_backward_pre_hooks \u001b[38;5;129;01mor\u001b[39;00m \u001b[38;5;28mself\u001b[39m\u001b[38;5;241m.\u001b[39m_forward_hooks \u001b[38;5;129;01mor\u001b[39;00m \u001b[38;5;28mself\u001b[39m\u001b[38;5;241m.\u001b[39m_forward_pre_hooks\n\u001b[1;32m   1499\u001b[0m         \u001b[38;5;129;01mor\u001b[39;00m _global_backward_pre_hooks \u001b[38;5;129;01mor\u001b[39;00m _global_backward_hooks\n\u001b[1;32m   1500\u001b[0m         \u001b[38;5;129;01mor\u001b[39;00m _global_forward_hooks \u001b[38;5;129;01mor\u001b[39;00m _global_forward_pre_hooks):\n\u001b[0;32m-> 1501\u001b[0m     \u001b[38;5;28;01mreturn\u001b[39;00m \u001b[43mforward_call\u001b[49m\u001b[43m(\u001b[49m\u001b[38;5;241;43m*\u001b[39;49m\u001b[43margs\u001b[49m\u001b[43m,\u001b[49m\u001b[43m \u001b[49m\u001b[38;5;241;43m*\u001b[39;49m\u001b[38;5;241;43m*\u001b[39;49m\u001b[43mkwargs\u001b[49m\u001b[43m)\u001b[49m\n\u001b[1;32m   1502\u001b[0m \u001b[38;5;66;03m# Do not call functions when jit is used\u001b[39;00m\n\u001b[1;32m   1503\u001b[0m full_backward_hooks, non_full_backward_hooks \u001b[38;5;241m=\u001b[39m [], []\n",
      "File \u001b[0;32m/home/jupyter_share/miniconda3/envs/seismo/lib/python3.8/site-packages/seisbench/models/eqtransformer.py:236\u001b[0m, in \u001b[0;36mEQTransformer.forward\u001b[0;34m(self, x, logits)\u001b[0m\n\u001b[1;32m    234\u001b[0m \u001b[38;5;28;01mdef\u001b[39;00m \u001b[38;5;21mforward\u001b[39m(\u001b[38;5;28mself\u001b[39m, x, logits\u001b[38;5;241m=\u001b[39m\u001b[38;5;28;01mFalse\u001b[39;00m):\n\u001b[1;32m    235\u001b[0m     \u001b[38;5;28;01massert\u001b[39;00m x\u001b[38;5;241m.\u001b[39mndim \u001b[38;5;241m==\u001b[39m \u001b[38;5;241m3\u001b[39m\n\u001b[0;32m--> 236\u001b[0m     \u001b[38;5;28;01massert\u001b[39;00m x\u001b[38;5;241m.\u001b[39mshape[\u001b[38;5;241m1\u001b[39m:] \u001b[38;5;241m==\u001b[39m (\u001b[38;5;28mself\u001b[39m\u001b[38;5;241m.\u001b[39min_channels, \u001b[38;5;28mself\u001b[39m\u001b[38;5;241m.\u001b[39min_samples)\n\u001b[1;32m    238\u001b[0m     \u001b[38;5;66;03m# Shared encoder part\u001b[39;00m\n\u001b[1;32m    239\u001b[0m     x \u001b[38;5;241m=\u001b[39m \u001b[38;5;28mself\u001b[39m\u001b[38;5;241m.\u001b[39mencoder(x)\n",
      "\u001b[0;31mAssertionError\u001b[0m: "
     ]
    }
   ],
   "source": [
    "# download models\n",
    "pretrain_list = [\"pnw\",\"ethz\",\"instance\",\"scedc\",\"stead\",\"geofon\",\"neic\"]\n",
    "pn_pnw_model = sbm.EQTransformer.from_pretrained('pnw')\n",
    "pn_ethz_model = sbm.EQTransformer.from_pretrained(\"ethz\")\n",
    "pn_instance_model = sbm.EQTransformer.from_pretrained(\"instance\")\n",
    "pn_scedc_model = sbm.EQTransformer.from_pretrained(\"scedc\")\n",
    "pn_stead_model = sbm.EQTransformer.from_pretrained(\"stead\")\n",
    "pn_geofon_model = sbm.EQTransformer.from_pretrained(\"geofon\")\n",
    "pn_neic_model = sbm.EQTransformer.from_pretrained(\"neic\")\n",
    "\n",
    "list_models = [pn_pnw_model,pn_ethz_model,pn_scedc_model,pn_neic_model,pn_geofon_model,pn_stead_model,pn_instance_model]\n",
    "\n",
    "\n",
    "imodel = pn_neic_model# pn_scedc_model #pn_ethz_model# pn_pnw_model #,,,,pn_geofon_model,pn_stead_model,pn_instance_model\n",
    "inner_func = data_tt.to(device) #works\n",
    "outer_func = imodel(inner_func) #does not work"
   ]
  },
  {
   "cell_type": "code",
   "execution_count": 23,
   "id": "8c227dbe",
   "metadata": {},
   "outputs": [
    {
     "data": {
      "text/plain": [
       "torch.Size([3, 600000])"
      ]
     },
     "execution_count": 23,
     "metadata": {},
     "output_type": "execute_result"
    }
   ],
   "source": [
    "data_tt.shape[1:]"
   ]
  },
  {
   "cell_type": "code",
   "execution_count": null,
   "id": "99af41e6",
   "metadata": {},
   "outputs": [],
   "source": []
  },
  {
   "cell_type": "code",
   "execution_count": 30,
   "id": "f91593bb",
   "metadata": {},
   "outputs": [
    {
     "name": "stdout",
     "output_type": "stream",
     "text": [
      "<class 'seisbench.models.eqtransformer.EQTransformer'>\n"
     ]
    }
   ],
   "source": [
    "print(type(list_models[0]))"
   ]
  },
  {
   "cell_type": "markdown",
   "id": "9c22a659",
   "metadata": {},
   "source": [
    "### 1. Volcano Data (network and station, labeled with volcano name)"
   ]
  },
  {
   "cell_type": "code",
   "execution_count": null,
   "id": "9b099703",
   "metadata": {},
   "outputs": [],
   "source": [
    "#this data includes all stations within 50km of each volcano and the lat, lon, elev of each station\n",
    "df = pd.read_csv('../data/station/Volcano_Metadata_50km.csv')"
   ]
  },
  {
   "cell_type": "code",
   "execution_count": null,
   "id": "9656e599",
   "metadata": {},
   "outputs": [],
   "source": [
    "# center latitude, center longitude, elevation(m), left_trim, right_trim, bottom_trim, top_trim \n",
    "volc_lat_lon = {}\n",
    "volc_lat_lon['Mt_Rainier'] = [46.8528857, -121.7603744, 4392.5, 10000, 3000, 15000, 7000]\n",
    "volc_lat_lon['Mt_Adams'] = [46.202621, -121.4906384, 3743.2, 5000, 3000, 4000, 2000]\n",
    "volc_lat_lon['Mt_Baker'] = [48.7773426,  -121.8132008, 3287.6, 0, 0, 0, 2000]\n",
    "# change the lat and lon of mt st helens to the middle of the dome instead of the highest point\n",
    "volc_lat_lon['Mt_St_Helens'] =[46.200472222222224,-122.18883611111112,2549, 10000, 10000, 17000, 15000] #[46.1912, -122.1944, 2549]\n",
    "volc_lat_lon['Glacier_Peak'] = [48.1112273, -121.1139922, 3213, 14000, 10000, 8000, 10000]\n",
    "volc_lat_lon['Mt_Hood']=[45.373221, -121.696509, 3428.7, 18000, 50000, 35000, 65000]"
   ]
  },
  {
   "cell_type": "markdown",
   "id": "c18ca268",
   "metadata": {},
   "source": [
    "### 3. Surface Event Data from PNSN\n",
    "\n",
    "Read files straight from PNSN data base. Extract station and network code, phase pick time (seen as start_time). this should be converted to pick_time0."
   ]
  },
  {
   "cell_type": "code",
   "execution_count": null,
   "id": "f3894296",
   "metadata": {},
   "outputs": [],
   "source": [
    "f1 = pd.read_csv(\"../data/events/su_picks.txt\",sep=\"|\")\n",
    "f1.head()\n",
    "print(f1.keys())"
   ]
  },
  {
   "cell_type": "code",
   "execution_count": null,
   "id": "c1bf5dca",
   "metadata": {},
   "outputs": [],
   "source": [
    "# clean up the spaces in the file\n",
    "format='%Y/%m/%d %H:%M:%S'\n",
    "test=f1[\"date\"].values.tolist()\n",
    "start_time_temp = [  datetime.strptime(x.strip(),'%Y/%m/%d %H:%M:%S') for x in f1[\"date\"].values.tolist()]\n",
    "# # Ignore events prior to t_beginning\n",
    "ik=np.where(np.array(start_time_temp)>datetime(2001,1,1))[0][0]\n",
    "\n",
    "# select only net, sta, evid, startime for event past the start date.\n",
    "\n",
    "start_time = start_time_temp[ik:]\n",
    "net=[ x.strip() for x in f1[\"net\"].values.tolist()][ik:]\n",
    "sta=[ x.strip() for x in f1[\"sta\"].values.tolist()][ik:]\n",
    "evt_id=[ x for x in f1[\"orid\"].values.tolist()][ik:]\n",
    "all_stas=set(sta)\n",
    "\n",
    "\n",
    "f2=pd.DataFrame({\"date\":start_time,\"net\":net,\"sta\":sta,\"evt_id\":evt_id})\n",
    "f2.head()"
   ]
  },
  {
   "cell_type": "markdown",
   "id": "be0a8fc2",
   "metadata": {},
   "source": [
    "## Ensemble picking"
   ]
  },
  {
   "cell_type": "code",
   "execution_count": null,
   "id": "92ab0614",
   "metadata": {},
   "outputs": [],
   "source": [
    "fqmin = low_cut\n",
    "fqmax = high_cut\n",
    "dt = 0.025; fs = 40\n",
    "nfqs = 10\n",
    "nt = 6000; nc = 3\n",
    "fq_list = make_LogFq(fqmin, fqmax, dt, nfqs)\n",
    "coeff_HP, coeff_LP = rec_filter_coeff(fq_list, dt)\n",
    "MBF_paras = {'f_min':fqmin, 'f_max':fqmax, 'nfqs':nfqs, 'frequencies':fq_list, 'CN_HP':coeff_HP, 'CN_LP':coeff_LP, \\\n",
    "    'dt':dt, 'fs':fs, 'nt':nt, 'nc':nc, 'npoles': 2}"
   ]
  },
  {
   "cell_type": "code",
   "execution_count": null,
   "id": "4e1453c8",
   "metadata": {},
   "outputs": [],
   "source": [
    "# list of infrasound stations in Mt Rainier\n",
    "df_infra = pd.read_csv(\"../data/station/MtRainier-infra-stations.txt\",sep=\"|\")\n",
    "print(df_infra.head())\n",
    "df_infra[\"Station\"]"
   ]
  },
  {
   "cell_type": "markdown",
   "id": "72d22081",
   "metadata": {},
   "source": [
    "## Full stack:\n",
    "\n",
    "1. Downdload waveforms (filtering and SNR measurements, duration measurements, envelope). Note that we download infrasound for fun.\n",
    "3. Phase picking (transfer learned, semblance, and envelope)\n",
    "4. plotting\n",
    "\n"
   ]
  },
  {
   "cell_type": "code",
   "execution_count": null,
   "id": "5ec1eba9",
   "metadata": {},
   "outputs": [],
   "source": [
    "from matplotlib.backends.backend_pdf import PdfPages\n",
    "pdf = PdfPages('../plots/SeisInfra_MtRainier.pdf')\n",
    "nfigure=0\n",
    "for n in range(len(evt_id)): \n",
    "    if start_time[n]<datetime(2021,1,1):continue  \n",
    "    event_ID = str(evt_id[n])\n",
    "    otime = UTCDateTime(start_time[n])\n",
    "    networks=net[n]\n",
    "    stations=sta[n]\n",
    "    print(net[n],sta[n])\n",
    "    if sta[n]==\"LON\" or sta[n]==\"LO2\": continue\n",
    "    try:\n",
    "        associated_volcano = df[df['Station']== sta[n]]['Volcano_Name'].values[0]\n",
    "    except:\n",
    "        pass\n",
    "    if associated_volcano!=\"Mt_Rainier\":continue            \n",
    "    # get info for stations within 50km of volcano that event ocurred at\n",
    "    stations = df[df['Volcano_Name'] == associated_volcano]['Station'].values.tolist()\n",
    "    networks = df[df['Volcano_Name'] == associated_volcano]['Network'].values.tolist()\n",
    "    latitudes = df[df['Volcano_Name'] == associated_volcano]['Latitude'].values.tolist()\n",
    "    longitudes = df[df['Volcano_Name'] == associated_volcano]['Longitude'].values.tolist()\n",
    "    elevations = df[df['Volcano_Name']== associated_volcano]['Elevation'].values.tolist()\n",
    "\n",
    "    #################### WAVEFORM DOWNLOAD #######################\n",
    "        #Download all waveforms for that event based on stations and times\n",
    "    # try:\n",
    "    bulk=[]\n",
    "    for m in range(0, len(networks)):\n",
    "        bulk.append([networks[m], stations[m], '*', '*H*', otime-t_before_raw, otime+t_before_raw])\n",
    "    st = client2.get_waveforms_bulk(bulk)\n",
    "\n",
    "    bulk2=[]\n",
    "    for m in range(0, len(df_infra[\"Station\"])):\n",
    "        bulk2.append([\"CC\", df_infra[\"Station\"][m], '01', 'BDF', otime-t_before_raw, otime+t_before_raw])\n",
    "    infra = client2.get_waveforms_bulk(bulk2)\n",
    "    #remove unwanted data\n",
    "    for tr in st:\n",
    "        cha = tr.stats.channel\n",
    "        try:\n",
    "            if len(tr.data)/tr.stats.sampling_rate < 239.9:\n",
    "                st.remove(tr)\n",
    "        except:\n",
    "            pass\n",
    "\n",
    "    #resampling the data to 40Hz for each trace\n",
    "    st = resample(st,fs) \n",
    "    infra = resample(infra,fs) \n",
    "\n",
    "    # #Plotting all traces for one event with channel z, SNR>10, and bandpasses between 2-12Hz\n",
    "    evt_data = obspy.Stream()\n",
    "    evt_infradata = obspy.Stream()\n",
    "    SNR,SNR_weight, no_weight,stas,nets,max_amp_times,durations,data_env_dict,t_diff = [],[],[],[],[],[],[],{},{}\n",
    "    nfigure+=1\n",
    "    if nfigure<50:\n",
    "        fig = plt.figure(figsize = (11,8), dpi=400)\n",
    "        fig.suptitle(str(otime)+\" \"+associated_volcano)\n",
    "        plt.rcParams.update({'font.size': 14})\n",
    "        ax = plt.subplot(1,1,1)\n",
    "        iplot = 0\n",
    "    zz = st.select(component=\"Z\")\n",
    "    for i,ii in enumerate(zz):\n",
    "        network = ii.stats.network\n",
    "        station = ii.stats.station\n",
    "        ii.detrend(type = 'demean')\n",
    "        ii.filter('bandpass',freqmin=low_cut,freqmax=high_cut,corners=2,zerophase=True)\n",
    "        signal_window = ii.copy()\n",
    "        noise_window = ii.copy()\n",
    "        signal_window.trim(otime - t_before, otime - t_before + window) # trim the signal at the first pick time of the PNSN data, with loose 40s before\n",
    "        noise_window.trim(otime - window -t_before, otime - t_before) # noise window of the same length\n",
    "        if not len(signal_window.data) or not len(signal_window.data): continue\n",
    "        snr = (20 * np.log(np.percentile(np.abs(signal_window.data),pr) \n",
    "                        / np.percentile(np.abs(noise_window.data),pr))/np.log(10))\n",
    "        max_amp_time = np.argmax(noise_window.data)/fs\n",
    "        if snr<thr: \n",
    "            st.remove(ii)\n",
    "            continue\n",
    "        evt_data.append(signal_window)\n",
    "        stas.append(ii.stats.station)\n",
    "        t = signal_window.times()\n",
    "        if nfigure<50:\n",
    "            ax.plot(t-t_before,signal_window.data/np.max(np.abs(signal_window.data))+iplot*1.5)\n",
    "            ax.set_xlabel('time (seconds)')\n",
    "            ax.set_xlim((-t_before,100))\n",
    "            ax.set_yticks([])\n",
    "            plt.text(80, iplot*1.5, station)\n",
    "            iplot += 1\n",
    "\n",
    "    sta_available,ind = np.unique(np.array(stas),return_index=True)\n",
    "    sta_available=sta_available[np.argsort(ind)]\n",
    "    if len(sta_available)==0:continue\n",
    "#       Plot the infrasound as well\n",
    "\n",
    "    evt_infradata = obspy.Stream()\n",
    "    stas_infra=[]\n",
    "    for i,ii in enumerate(infra):\n",
    "        ii.filter('bandpass',freqmin=low_cut,freqmax=high_cut-5,corners=2,zerophase=True)\n",
    "        signal_window = ii.copy()\n",
    "        signal_window.trim(otime - t_before, otime - t_before  + window) # trim the signal at the first pick time of the PNSN data, with loose 40s before\n",
    "        if not len(signal_window.data): continue\n",
    "        t1 = signal_window.times()\n",
    "        if nfigure<50:\n",
    "            ax.plot(t1-t_before,signal_window.data/np.max(np.abs(signal_window.data))+iplot*1.5,color='0.8',linewidth=0.8)\n",
    "            ax.text(80, iplot*1.5, signal_window.stats.station)\n",
    "            iplot+=1\n",
    "            ax.set_xlim((-t_before,100))\n",
    "        evt_infradata.append(signal_window)\n",
    "        stas_infra.append(ii.stats.station)\n",
    "\n",
    "    sta_infra_available,ind = np.unique(np.array(stas_infra),return_index=True)\n",
    "    sta_infra_available=sta_infra_available[np.argsort(ind)]\n",
    "    if len(sta_infra_available)==0:continue\n",
    "\n",
    "    # PHASE PICKING\n",
    "        # test the new function\n",
    "    smb_peak,smb_peak_mbf = apply_mbf(evt_data, sta_available, \\\n",
    "            list_models, MBF_paras, paras_semblance, t_before,t_around)\n",
    "    smb_peak_infra,smb_peak_mbf_infra = apply_mbf(evt_infradata, sta_infra_available, \\\n",
    "            list_models, MBF_paras, paras_semblance, t_before+40,t_around+40)\n",
    "\n",
    "    print(\"reference time: \",otime)\n",
    "    print(\"relative picks from seismometers\")\n",
    "    print(sta_available)\n",
    "    print(smb_peak_mbf)\n",
    "    print(\"relative picks from infrasound\")\n",
    "    print(sta_infra_available)\n",
    "    print(smb_peak_mbf_infra)\n",
    "\n",
    "    if nfigure<50:\n",
    "        iplot=0\n",
    "        for i in range(len(sta_available)):\n",
    "            ax.vlines(smb_peak_mbf[i], ymin = iplot*1.5-.5, ymax = iplot*1.5+.5, color = 'r')\n",
    "            iplot+=1\n",
    "        for i in range(len(sta_infra_available)):\n",
    "            if np.abs(smb_peak_mbf_infra[i])>0.5:\n",
    "                ax.vlines(smb_peak_mbf_infra[i]+40, ymin = iplot*1.5-.5, ymax = iplot*1.5+.5, color = 'r')\n",
    "            iplot+=1\n",
    "\n",
    "        plt.grid(True)\n",
    "        pdf.savefig(fig)\n",
    "        print(\"Plotted\")\n",
    "        fig.savefig('../plots/waveforms_seismic_infrasound_'+event_ID+associated_volcano+'.png')\n",
    "        plt.show()\n",
    "        del fig\n",
    "        nfigure+=1\n",
    "\n",
    "    if nfigure==50 :pdf.close()\n",
    "\n",
    "\n",
    "    \n",
    "\n",
    "# except:\n",
    "#     pass\n",
    "\n",
    "\n"
   ]
  },
  {
   "cell_type": "code",
   "execution_count": null,
   "id": "b52cb5d8",
   "metadata": {},
   "outputs": [],
   "source": [
    "print(t_before,t_around)\n",
    "print(t_before+40,t_around+60)"
   ]
  }
 ],
 "metadata": {
  "kernelspec": {
   "display_name": "seismo (SHARED)",
   "language": "python",
   "name": "seismo-py38-shared"
  },
  "language_info": {
   "codemirror_mode": {
    "name": "ipython",
    "version": 3
   },
   "file_extension": ".py",
   "mimetype": "text/x-python",
   "name": "python",
   "nbconvert_exporter": "python",
   "pygments_lexer": "ipython3",
   "version": "3.8.12"
  }
 },
 "nbformat": 4,
 "nbformat_minor": 5
}
