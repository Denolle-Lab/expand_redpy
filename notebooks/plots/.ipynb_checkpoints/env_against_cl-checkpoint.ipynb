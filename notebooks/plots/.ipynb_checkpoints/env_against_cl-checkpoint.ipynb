{
 "cells": [
  {
   "cell_type": "code",
   "execution_count": 1,
   "id": "78e5ccfa",
   "metadata": {},
   "outputs": [],
   "source": [
    "import matplotlib.pyplot as plt #for plotting\n",
    "import pandas as pd #for csv/dataframe\n",
    "import yaml #for reading config.yaml\n",
    "from glob import glob #for finding files\n",
    "import numpy as np #for np.unique\n",
    "from tqdm import trange #for progress bar"
   ]
  },
  {
   "cell_type": "code",
   "execution_count": 35,
   "id": "f03b9319",
   "metadata": {},
   "outputs": [
    {
     "name": "stdout",
     "output_type": "stream",
     "text": [
      "Baker\n"
     ]
    }
   ],
   "source": [
    "#see config file for parameter explanations\n",
    "with open('/home/smocz/expand_redpy/scripts/config.yaml') as file:\n",
    "    config = yaml.load(file, Loader=yaml.FullLoader)\n",
    "\n",
    "vv = config['vv']\n",
    "# vv=3\n",
    "volc_list_names = config['volc_list_names']\n",
    "volc = volc_list_names[vv]\n",
    "print(volc)\n",
    "\n",
    "readdir = config['readdir']\n",
    "homedir = config['homedir']\n",
    "years = config['years']"
   ]
  },
  {
   "cell_type": "markdown",
   "id": "af7e2f94",
   "metadata": {},
   "source": [
    "Pull in and organize data. *Can be skipped if already saved to csv*"
   ]
  },
  {
   "cell_type": "code",
   "execution_count": 32,
   "id": "03df5927",
   "metadata": {},
   "outputs": [],
   "source": [
    "#open data files\n",
    "\n",
    "weather_df = pd.read_csv(f'{homedir}/misc/MtBaker-HeatherMeadows_4210_allyears.csv') #weather data from NWAC\n",
    "\n",
    "volc_cat = pd.read_csv(f'{readdir}{volc_list_names[vv]}_catalog.csv') #pull REDPy catalog with events\n",
    "\n",
    "i = 0 #used to determine whether to create or add to dataframe\n",
    "for f in glob(f'{homedir}events/{volc_list_names[vv]}_*_events.csv'): #pull all backfilled events\n",
    "    if i==0: #if this is the first pass\n",
    "        volc_evt = pd.read_csv(f) #create a dataframe of the csv\n",
    "        i=1 #set i\n",
    "    else: #if NOT the first pass\n",
    "        df = pd.read_csv(f) #read csv as dataframe\n",
    "        volc_evt = pd.concat([volc_evt,df]) #concat with existing dataframe"
   ]
  },
  {
   "cell_type": "markdown",
   "id": "81ec7f53",
   "metadata": {},
   "source": [
    "Get Daily Average Temperature from weather_df"
   ]
  },
  {
   "cell_type": "code",
   "execution_count": 33,
   "id": "db6e832e",
   "metadata": {},
   "outputs": [
    {
     "data": {
      "text/plain": [
       "Index(['Date/Time (PST)', 'Battery Voltage  (v) ', 'Precipitation  (\") ',\n",
       "       'Relative Humidity  (%) ', 'Total Snow Depth  (\") ',\n",
       "       '24 Hour Snow  (\") ', 'Temperature  (deg F) '],\n",
       "      dtype='object')"
      ]
     },
     "execution_count": 33,
     "metadata": {},
     "output_type": "execute_result"
    }
   ],
   "source": [
    "weather_df.keys() #show keys"
   ]
  },
  {
   "cell_type": "code",
   "execution_count": null,
   "id": "5acd8a2f",
   "metadata": {},
   "outputs": [],
   "source": [
    "#find average temperature for each day\n",
    "\n",
    "weather_df[\"Date\"] = [i.split(' ')[0] for i in weather_df[\"Date/Time (PST)\"]] #add a list of days from the column date/time\n",
    "\n",
    "avg_temp_list = [] #will be a list of average temperatures for each row of weather_df\n",
    "\n",
    "date_trange = trange(len(weather_df[\"Date\"]), desc=\"finding average temperatures\", leave=True) #set range\n",
    "for d in date_trange: #loop through range\n",
    "    date = weather_df[\"Date\"][d] #get the date for this index (row of weather_df)\n",
    "    temp_list = weather_df[weather_df[\"Date\"]==date][\"Temperature  (deg F) \"].values.tolist() #find all temperatures matching this date\n",
    "    avg_temp_list.append((sum(temp_list)/len(temp_list))) #average all these temperatures and append\n",
    "    \n",
    "weather_df[\"AVG Temp (F)\"] = avg_temp_list #add average temperatures to weather_df"
   ]
  },
  {
   "cell_type": "code",
   "execution_count": null,
   "id": "2f60c02a",
   "metadata": {
    "scrolled": true
   },
   "outputs": [],
   "source": [
    "#save each date and the average temp as lists with the same index\n",
    "\n",
    "day_temps = [] #will be list of average temps, same index as unique_days\n",
    "unique_days = np.unique(weather_df['Date']) #np.unique of date column\n",
    "for day in unique_days: #for each day\n",
    "#     print(day)\n",
    "    day_temps.append(weather_df[weather_df['Date']==day]['AVG Temp (F)'].values.tolist()[0]) #find and append the average temperature"
   ]
  },
  {
   "cell_type": "code",
   "execution_count": null,
   "id": "03f35a32",
   "metadata": {},
   "outputs": [],
   "source": [
    "#date formats are inconsistent, make them consistent\n",
    "\n",
    "new_date_list = [] #list of properly formatted dates, same index as day_temps and unique_days\n",
    "for d in unique_days: \n",
    "    i = pd.to_datetime(d) #put it in pandas datetime format\n",
    "    \n",
    "    #below if statements format the datetime as yyyy-mm-dd so it can be properly organized as a string\n",
    "    #this is as opposed to combinations depending on length of the month or day number\n",
    "    #ex without: 2016-4-26, 2016-10-3\n",
    "    #ex with: 2016-04-26, 2016-10-03\n",
    "    if len(str(i.month))<2:\n",
    "        if len(str(i.day))<2:\n",
    "            new_date_list.append(f'{i.year}-0{i.month}-0{i.day}')\n",
    "        else:\n",
    "            new_date_list.append(f'{i.year}-0{i.month}-{i.day}')\n",
    "    else:\n",
    "        if len(str(i.day))<2:\n",
    "            new_date_list.append(f'{i.year}-{i.month}-0{i.day}')\n",
    "        else:\n",
    "            new_date_list.append(f'{i.year}-{i.month}-{i.day}')\n",
    "        "
   ]
  },
  {
   "cell_type": "markdown",
   "id": "023c2ad8",
   "metadata": {},
   "source": [
    "combine number of events and temperature into one dataframe"
   ]
  },
  {
   "cell_type": "code",
   "execution_count": null,
   "id": "db238de3",
   "metadata": {},
   "outputs": [],
   "source": [
    "all_cat_dates = []\n",
    "for cd in volc_cat['datetime']:\n",
    "    all_cat_dates.append(cd.split('T')[0])\n",
    "    \n",
    "cat_dates = list(np.unique(all_cat_dates))\n",
    "\n",
    "num_cat_dates = []\n",
    "for cd in cat_dates:\n",
    "    num = all_cat_dates.count(cd)\n",
    "    num_cat_dates.append(num)\n",
    "    \n",
    "print(num_cat_dates[0], cat_dates[0])"
   ]
  },
  {
   "cell_type": "code",
   "execution_count": null,
   "id": "99477811",
   "metadata": {},
   "outputs": [],
   "source": [
    "#do the same for event catalog\n",
    "    \n",
    "all_evt_dates = []\n",
    "for ce in volc_evt['Earliest_Detection_Time']:\n",
    "    all_evt_dates.append(ce.split('T')[0])\n",
    "    \n",
    "evt_dates = list(np.unique(all_evt_dates))\n",
    "\n",
    "num_evt_dates = []\n",
    "for ce in evt_dates:\n",
    "    num = all_evt_dates.count(ce)\n",
    "    num_evt_dates.append(num)\n",
    "    \n",
    "print(num_evt_dates[0], evt_dates[0])"
   ]
  },
  {
   "cell_type": "code",
   "execution_count": null,
   "id": "53e149a0",
   "metadata": {},
   "outputs": [],
   "source": [
    "#create a large list of all the dates, from which data will be added based on what is available.\n",
    "\n",
    "#create list of all dates\n",
    "all_dates = np.unique(evt_dates+cat_dates+new_date_list)\n",
    "\n",
    "\n",
    "#lists with data for the same index as all_dates\n",
    "cat_num = [] #number of events per day from the catalog\n",
    "evt_and_cat_num = [] #number of events per day from the catalog AND backfilled events\n",
    "temperature_f = [] #average daily temperature in F\n",
    "\n",
    "for ad in all_dates:\n",
    "    if ad in cat_dates: #catalog\n",
    "        cn = num_cat_dates[cat_dates.index(ad)] #number of events in the catalog\n",
    "        cat_num.append(cn) #append\n",
    "    else:\n",
    "        cn = '0'\n",
    "        cat_num.append(cn)\n",
    "        \n",
    "    if ad in evt_dates: #backfilled + catalog\n",
    "        evt_and_cat_num.append(num_evt_dates[evt_dates.index(ad)]+int(cn)) #add sum\n",
    "    else:\n",
    "        evt_and_cat_num.append(cn) #add catalog\n",
    "        \n",
    "    if ad in new_date_list: #temperature\n",
    "        temperature_f.append(day_temps[new_date_list.index(ad)])\n",
    "    else:\n",
    "        temperature_f.append('N/A')\n",
    "\n",
    "plot_df = pd.DataFrame({'Date':all_dates,'REDPy_Events':cat_num,'REDPy_and_Backfilled':evt_and_cat_num,'AVG_Temp(F)':temperature_f})"
   ]
  },
  {
   "cell_type": "code",
   "execution_count": null,
   "id": "a5fde602",
   "metadata": {},
   "outputs": [],
   "source": [
    "plot_df"
   ]
  },
  {
   "cell_type": "code",
   "execution_count": null,
   "id": "73da6af3",
   "metadata": {},
   "outputs": [],
   "source": [
    "plot_df.to_csv(f'{homedir}/misc/daily_events_temp_{volc}.csv',index=False)"
   ]
  },
  {
   "cell_type": "markdown",
   "id": "4179a7dd",
   "metadata": {},
   "source": [
    "actually plot\n",
    "\n",
    "I want to make a plot with the events per day (with my personal events as a darker color on the bar plot) and below it, aligned to the same x-axis (time), I want daily environmental (climate) data. \n",
    "\n",
    "So, 3 subplots\n",
    "\n",
    "1. events_per_day (I already have the code for this, just a matter of updating it)\n",
    "2. precipitation per day (inches)\n",
    "3. temperature (F)\n",
    "\n",
    "\n",
    "Let's start with 2 subplots, events per day and temperature. I can always swap out the data input for a different column of the same csv\n",
    "\n",
    "I'm also going to start with all events, not just one cluster\n",
    "\n",
    "---\n",
    "\n",
    "#plot\n",
    "\n",
    "make two subplots, if needed, use gridpsec to organize one on top of the other\n",
    "\n",
    "on the first subplot, plot REDPy+new events per day in dark red, then just REDPy events in light red, use vlines instead of barplot.\n",
    "\n",
    "on the second subplot, plot average temperature per day in purple, scatter plot"
   ]
  },
  {
   "cell_type": "code",
   "execution_count": 3,
   "id": "8b69c825",
   "metadata": {},
   "outputs": [],
   "source": [
    "plot_df = pd.read_csv(f'{homedir}/misc/daily_events_temp_{volc}.csv')"
   ]
  },
  {
   "cell_type": "code",
   "execution_count": 4,
   "id": "93a0c4d1",
   "metadata": {},
   "outputs": [
    {
     "data": {
      "text/html": [
       "<div>\n",
       "<style scoped>\n",
       "    .dataframe tbody tr th:only-of-type {\n",
       "        vertical-align: middle;\n",
       "    }\n",
       "\n",
       "    .dataframe tbody tr th {\n",
       "        vertical-align: top;\n",
       "    }\n",
       "\n",
       "    .dataframe thead th {\n",
       "        text-align: right;\n",
       "    }\n",
       "</style>\n",
       "<table border=\"1\" class=\"dataframe\">\n",
       "  <thead>\n",
       "    <tr style=\"text-align: right;\">\n",
       "      <th></th>\n",
       "      <th>Date</th>\n",
       "      <th>REDPy_Events</th>\n",
       "      <th>REDPy_and_Backfilled</th>\n",
       "      <th>AVG_Temp(F)</th>\n",
       "    </tr>\n",
       "  </thead>\n",
       "  <tbody>\n",
       "    <tr>\n",
       "      <th>0</th>\n",
       "      <td>2009-01-02</td>\n",
       "      <td>1</td>\n",
       "      <td>1</td>\n",
       "      <td>NaN</td>\n",
       "    </tr>\n",
       "    <tr>\n",
       "      <th>1</th>\n",
       "      <td>2009-01-03</td>\n",
       "      <td>1</td>\n",
       "      <td>1</td>\n",
       "      <td>NaN</td>\n",
       "    </tr>\n",
       "    <tr>\n",
       "      <th>2</th>\n",
       "      <td>2009-01-08</td>\n",
       "      <td>2</td>\n",
       "      <td>2</td>\n",
       "      <td>NaN</td>\n",
       "    </tr>\n",
       "    <tr>\n",
       "      <th>3</th>\n",
       "      <td>2009-03-18</td>\n",
       "      <td>2</td>\n",
       "      <td>2</td>\n",
       "      <td>NaN</td>\n",
       "    </tr>\n",
       "    <tr>\n",
       "      <th>4</th>\n",
       "      <td>2009-03-19</td>\n",
       "      <td>1</td>\n",
       "      <td>1</td>\n",
       "      <td>NaN</td>\n",
       "    </tr>\n",
       "    <tr>\n",
       "      <th>...</th>\n",
       "      <td>...</td>\n",
       "      <td>...</td>\n",
       "      <td>...</td>\n",
       "      <td>...</td>\n",
       "    </tr>\n",
       "    <tr>\n",
       "      <th>2571</th>\n",
       "      <td>2022-06-15</td>\n",
       "      <td>3</td>\n",
       "      <td>3</td>\n",
       "      <td>NaN</td>\n",
       "    </tr>\n",
       "    <tr>\n",
       "      <th>2572</th>\n",
       "      <td>2022-06-17</td>\n",
       "      <td>1</td>\n",
       "      <td>1</td>\n",
       "      <td>NaN</td>\n",
       "    </tr>\n",
       "    <tr>\n",
       "      <th>2573</th>\n",
       "      <td>2022-06-18</td>\n",
       "      <td>2</td>\n",
       "      <td>2</td>\n",
       "      <td>NaN</td>\n",
       "    </tr>\n",
       "    <tr>\n",
       "      <th>2574</th>\n",
       "      <td>2022-06-22</td>\n",
       "      <td>1</td>\n",
       "      <td>1</td>\n",
       "      <td>NaN</td>\n",
       "    </tr>\n",
       "    <tr>\n",
       "      <th>2575</th>\n",
       "      <td>2022-06-23</td>\n",
       "      <td>1</td>\n",
       "      <td>1</td>\n",
       "      <td>NaN</td>\n",
       "    </tr>\n",
       "  </tbody>\n",
       "</table>\n",
       "<p>2576 rows × 4 columns</p>\n",
       "</div>"
      ],
      "text/plain": [
       "            Date  REDPy_Events  REDPy_and_Backfilled  AVG_Temp(F)\n",
       "0     2009-01-02             1                     1          NaN\n",
       "1     2009-01-03             1                     1          NaN\n",
       "2     2009-01-08             2                     2          NaN\n",
       "3     2009-03-18             2                     2          NaN\n",
       "4     2009-03-19             1                     1          NaN\n",
       "...          ...           ...                   ...          ...\n",
       "2571  2022-06-15             3                     3          NaN\n",
       "2572  2022-06-17             1                     1          NaN\n",
       "2573  2022-06-18             2                     2          NaN\n",
       "2574  2022-06-22             1                     1          NaN\n",
       "2575  2022-06-23             1                     1          NaN\n",
       "\n",
       "[2576 rows x 4 columns]"
      ]
     },
     "execution_count": 4,
     "metadata": {},
     "output_type": "execute_result"
    }
   ],
   "source": [
    "plot_df"
   ]
  },
  {
   "cell_type": "code",
   "execution_count": 29,
   "id": "bc2e7597",
   "metadata": {},
   "outputs": [
    {
     "name": "stdout",
     "output_type": "stream",
     "text": [
      "0\n",
      "1\n"
     ]
    },
    {
     "data": {
      "image/png": "[encoded data removed]",
      "text/plain": [
       "<Figure size 720x360 with 2 Axes>"
      ]
     },
     "metadata": {
      "needs_background": "light"
     },
     "output_type": "display_data"
    }
   ],
   "source": [
    "summer_months = list(np.arange(4,10,1)) #apr-sep (winter is then oct-mar)\n",
    "\n",
    "fig, axs = plt.subplots(nrows=2, ncols=1,figsize = (10,5))\n",
    "\n",
    "i = 0\n",
    "for ax in axs:\n",
    "    print(i)\n",
    "    if i==0: #if first axis\n",
    "        \n",
    "        x = [pd.to_datetime(d) for d in list(plot_df['Date'].values)] #x is dates\n",
    "        y = list(plot_df['REDPy_and_Backfilled'].values) #y is total number of events\n",
    "\n",
    "        ax.grid(which='major')\n",
    "        ax.grid(which='minor',color='#EEEEEE')\n",
    "\n",
    "        for xx,yy in zip(x,y): #plot total events (taller lines)\n",
    "            if xx.month in summer_months: #if its in summer\n",
    "                ax.vlines(xx,ymin=0,ymax=yy, color='#7B0004')\n",
    "            else: #if its in winter\n",
    "                ax.vlines(xx,ymin=0,ymax=yy, color='#416D9F')\n",
    "                \n",
    "        y = list(plot_df['REDPy_Events'].values) #y is now JUST REDPy events\n",
    "                \n",
    "        for xx,yy in zip(x,y):\n",
    "            if xx.month in summer_months: #if its in summer\n",
    "                ax.vlines(xx,ymin=0,ymax=yy, color='red')\n",
    "            else: #if its in winter\n",
    "                ax.vlines(xx,ymin=0,ymax=yy, color='#BFD7EA')\n",
    "        \n",
    "        ax.set_xlim(left = min(x),right=max(x))\n",
    "        ax.set_ylabel('Number of Events Per Day')\n",
    "\n",
    "        \n",
    "    if i==1: #if second axis\n",
    "        \n",
    "\n",
    "        ax.plot(x,list(plot_df['AVG_Temp(F)'].values),color='black')\n",
    "        \n",
    "        ax.set_xlabel('Date')\n",
    "        ax.set_ylabel('Daily Average Temperature (F)')\n",
    "\n",
    "        ax.set_xlim(left = min(x),right=max(x))\n",
    "        \n",
    "        ax.grid(which='major')\n",
    "        ax.grid(which='minor',color='#EEEEEE')\n",
    "        \n",
    "    i=i+1\n",
    "        \n",
    "        "
   ]
  },
  {
   "cell_type": "code",
   "execution_count": null,
   "id": "831fa9b9",
   "metadata": {},
   "outputs": [],
   "source": []
  }
 ],
 "metadata": {
  "kernelspec": {
   "display_name": "seismo 3.8 (SHARED)",
   "language": "python",
   "name": "seismo-py38-shared"
  },
  "language_info": {
   "codemirror_mode": {
    "name": "ipython",
    "version": 3
   },
   "file_extension": ".py",
   "mimetype": "text/x-python",
   "name": "python",
   "nbconvert_exporter": "python",
   "pygments_lexer": "ipython3",
   "version": "3.8.12"
  }
 },
 "nbformat": 4,
 "nbformat_minor": 5
}
