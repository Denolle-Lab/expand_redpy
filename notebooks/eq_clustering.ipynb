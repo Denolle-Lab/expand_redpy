{
 "cells": [
  {
   "cell_type": "markdown",
   "id": "2822e32d",
   "metadata": {},
   "source": [
    "### Imports and parameters"
   ]
  },
  {
   "cell_type": "code",
   "execution_count": null,
   "id": "b4398087",
   "metadata": {},
   "outputs": [],
   "source": [
    "from eqcorrscan.utils.clustering import cluster\n",
    "from eqcorrscan import Tribe\n",
    "import numpy as np\n",
    "from time import time\n",
    "import obspy\n",
    "import csv\n",
    "import math\n",
    "from matplotlib import pyplot as plt #importing matplotlib for plotting\n",
    "import pandas as pd\n",
    "from matplotlib.gridspec import GridSpec\n"
   ]
  },
  {
   "cell_type": "code",
   "execution_count": 1,
   "id": "b2629df4",
   "metadata": {},
   "outputs": [
    {
     "ename": "NameError",
     "evalue": "name 'Tribe' is not defined",
     "output_type": "error",
     "traceback": [
      "\u001b[0;31m---------------------------------------------------------------------------\u001b[0m",
      "\u001b[0;31mNameError\u001b[0m                                 Traceback (most recent call last)",
      "Input \u001b[0;32mIn [1]\u001b[0m, in \u001b[0;36m<module>\u001b[0;34m\u001b[0m\n\u001b[1;32m      4\u001b[0m thresh_list \u001b[38;5;241m=\u001b[39m [\u001b[38;5;241m0.3\u001b[39m,\u001b[38;5;241m0.4\u001b[39m,\u001b[38;5;241m0.45\u001b[39m,\u001b[38;5;241m0.5\u001b[39m,\u001b[38;5;241m0.55\u001b[39m,\u001b[38;5;241m0.6\u001b[39m,\u001b[38;5;241m0.65\u001b[39m,\u001b[38;5;241m0.7\u001b[39m]\n\u001b[1;32m      5\u001b[0m s_len_list \u001b[38;5;241m=\u001b[39m [\u001b[38;5;241m15\u001b[39m,\u001b[38;5;241m30\u001b[39m,\u001b[38;5;241m45\u001b[39m,\u001b[38;5;241m60\u001b[39m,\u001b[38;5;241m70\u001b[39m]\n\u001b[0;32m----> 6\u001b[0m T \u001b[38;5;241m=\u001b[39m \u001b[43mTribe\u001b[49m()\u001b[38;5;241m.\u001b[39mread(\u001b[38;5;124mf\u001b[39m\u001b[38;5;124m'\u001b[39m\u001b[38;5;132;01m{\u001b[39;00mpath\u001b[38;5;132;01m}\u001b[39;00m\u001b[38;5;132;01m{\u001b[39;00mfilename\u001b[38;5;132;01m}\u001b[39;00m\u001b[38;5;124m'\u001b[39m)\n",
      "\u001b[0;31mNameError\u001b[0m: name 'Tribe' is not defined"
     ]
    }
   ],
   "source": [
    "#set parameters\n",
    "path = '/home/smocz/expand_redpy_new_files/templates/' #path to .tgz file\n",
    "filename = 'Volcano_Rainier_Network_UW_Station_RCM_Channel_HHZ.tgz' #name of .tgz file\n",
    "thresh_list = [0.3,0.4,0.45,0.5,0.55,0.6,0.65,0.7]\n",
    "s_len_list = [15,30,45,60,70]\n",
    "T = Tribe().read(f'{path}{filename}') #read the .tgz file"
   ]
  },
  {
   "cell_type": "markdown",
   "id": "2306795b",
   "metadata": {},
   "source": [
    "### Looks at tgz file and groups clusters\n",
    "\n",
    "saves to csv"
   ]
  },
  {
   "cell_type": "code",
   "execution_count": null,
   "id": "991b539a",
   "metadata": {
    "scrolled": true
   },
   "outputs": [],
   "source": [
    "#pull up tgz\n",
    "t3 = time()\n",
    "\n",
    "\n",
    "with open(f'/home/smocz/expand_redpy_new_files/eq_clusters{thresh_list[0]}-{thresh_list[-1]}.csv', 'w', newline='') as file:\n",
    "    writer = csv.writer(file)\n",
    "    writer.writerow(['threshold','shift_len','index','templates']) #write labels\n",
    "    file.close()\n",
    "\n",
    "stream_list = [] #list of tuples. in tuple is (stream, template id)\n",
    "for t in T:\n",
    "    stream_tuple = (t.st,t.name)\n",
    "    stream_list.append(stream_tuple)\n",
    "t4 = time()\n",
    "print(f'{t4-t3} s to get stream_list')\n",
    "\n",
    "\n",
    "\n",
    "for tt,thresh in enumerate(thresh_list):\n",
    "    for s_len in s_len_list:\n",
    "        t0 = time()\n",
    "        print('-----')\n",
    "        print(f'testing threshold of: {thresh}, shift lenth of: {s_len}')\n",
    "        \n",
    "\n",
    "        t1 = time()\n",
    "        groups = cluster(template_list=stream_list, show=False,\n",
    "                          corr_thresh=thresh, shift_len=s_len, cores=2) #corr_thresh is cross correlation threshold, shif_len is amount\n",
    "        #it can shift by, cores is how many cores to use while running\n",
    "        #groups is a list of groups, each group is a list with the templates (tuple of stream and name) in it\n",
    "\n",
    "        t2 = time()\n",
    "        print(f'{t2-t0} s to cluster {filename}')\n",
    "\n",
    "        print('# of groups',len(groups)) #number of clusters from EQcorrscan\n",
    "        print('# of templates',len(T)) #number of template\n",
    "\n",
    "        ##fun output\n",
    "        for gg,gr in enumerate(groups): #for each group\n",
    "            template_list = []\n",
    "            for g in gr: #for each tuple in that group\n",
    "                template_list.append(g[1]) #get the template name\n",
    "\n",
    "            with open(f'/home/smocz/expand_redpy_new_files/eq_clusters{thresh_list[0]}-{thresh_list[-1]}.csv', 'a', newline='') as file:\n",
    "                writer = csv.writer(file)\n",
    "                writer.writerow([thresh,s_len,gg,' '.join(template_list)]) #write labels\n",
    "                file.close()\n",
    "\n",
    "        del(groups) #clear for less memory\n",
    "#     break\n",
    "    \n",
    "print(f'{t2-t3} s to get all threshold values')\n",
    "\n",
    "\n"
   ]
  },
  {
   "cell_type": "markdown",
   "id": "b842ba18",
   "metadata": {},
   "source": [
    "Get info about number of groups and size of groups created in different conditions (s_len and thresh)"
   ]
  },
  {
   "cell_type": "code",
   "execution_count": null,
   "id": "b4a5f871",
   "metadata": {},
   "outputs": [],
   "source": [
    "#read in csv\n",
    "df = pd.read_csv('/home/smocz/expand_redpy_new_files/eq_clusters0.3-0.7.csv')\n",
    "\n",
    "thresh_list = list(np.unique(df['threshold'].values.tolist())) #get list of thresholds in csv output\n",
    "s_list = list(np.unique(df['shift_len'].values.tolist())) #list of shift lengths\n",
    "\n",
    "for thresh in thresh_list: #for each threshold value\n",
    "    print(f'----threshold: {thresh}----')\n",
    "    for s in s_list:\n",
    "        print(' ')\n",
    "        print(f'*** s_len: {s} ***')\n",
    "        test_list = df.loc[(df['threshold']==thresh) & (df['shift_len']==s), ['index']].values.tolist()\n",
    "        print(f'# of groups: {len(test_list)}')\n",
    "        int_t_list = [int(str(i)[1:-1]) for i in test_list]\n",
    "#         print(str_t_list)\n",
    "        print('length of groups:')\n",
    "        for index in int_t_list: #for each group\n",
    "            temp_list = df.loc[(df['threshold']==thresh) & (df['shift_len']==s) & (df['index']==index), ['templates']].values.tolist()\n",
    "            length = len(list(temp_list[0][0].split(' ')))\n",
    "            print(f'{length}', end=' ')\n",
    "        print(' ')\n",
    "        #to get actual list of group indexes, need to do [str(i)[1:-1] for i in test_list] bc it is currently a list of lists\n",
    "#         break\n",
    "#     break"
   ]
  },
  {
   "cell_type": "markdown",
   "id": "975cdc15",
   "metadata": {},
   "source": [
    "### Read csv, plot waveforms from tgz"
   ]
  },
  {
   "cell_type": "code",
   "execution_count": null,
   "id": "1f3230c1",
   "metadata": {
    "scrolled": false
   },
   "outputs": [],
   "source": [
    "############### READING AND ORGANIZING CSV ###############\n",
    "\n",
    "#read in csv\n",
    "# df = pd.read_csv('/home/smocz/expand_redpy_new_files/eq_clusters0.5-0.6.csv')\n",
    "\n",
    "thresh_list = list(np.unique(df['threshold'].values.tolist())) #get list of thresholds in csv output\n",
    "print(thresh_list)\n",
    "num_thresh = len(thresh_list) #how many thresholds\n",
    "s_list = list(np.unique(df['shift_len'].values.tolist())) #list of shift lengths\n",
    "\n",
    "\n",
    "# for thresh in thresh_list:\n",
    "#     for s in s_list:\n",
    "thresh = 0.5\n",
    "s = 15\n",
    "\n",
    "print(f'----------------------------THRESHOLD {thresh}----------------------------')\n",
    "temps = df.loc[(df['threshold']==thresh) & (df['shift_len']==s), ['templates']].values.tolist() #list of templates for each threshold value\n",
    "\n",
    "print(temp_list)\n",
    "\n",
    "test_list = df.loc[(df['threshold']==thresh) & (df['shift_len']==s), ['index']].values.tolist() #get indexes\n",
    "ax_list = [int(str(i)[1:-1]) for i in test_list] #get indexes in a list of int, instead of list of lists\n",
    "num_groups = len(temps) #how many templates in this threshold value\n",
    "print(f'num groups for {thresh} is {num_groups}')\n",
    "\n",
    "print(list(temps[1][0].split(' '))) #read space-separated templates as a list\n",
    "\n",
    "############### PLOTTING GROUPS ###############\n",
    "\n",
    "#for parameterizing plot sizing\n",
    "ncols = 6 #number of columns, stays consistent\n",
    "nrows = math.ceil(num_groups/ncols) #determines number of rows needed by rounding up to nearest whole number\n",
    "print(f'cols: {ncols}, rows: {nrows}')\n",
    "fig, ax0= plt.subplots() #create subplot\n",
    "fig.set_figheight(nrows*10) #set height by nrows\n",
    "fig.set_figwidth(ncols*3) #set width by ncols\n",
    "fig.suptitle(f'Threshold {thresh} Shift Length {s} Groups at {filename}',y=1.)\n",
    "plt.tight_layout() #tight layout for looking nice\n",
    "gs = GridSpec(nrows, ncols, figure=fig) #make GridSpec for formatting subplots, based on ncols and nrows\n",
    "\n",
    "\n",
    "for aa,ax_n in enumerate(ax_list):#for each subplot\n",
    "#     print(f'----{ax_n}----')\n",
    "    ax = fig.add_subplot(gs[math.floor(aa/6):math.floor(aa/6)+1,aa - math.floor(aa/6)*6:aa - math.floor(aa/6)*6 +1]) #add subplot\n",
    "    ax.set_title(f'Group Index {ax_n}')\n",
    "    plt.axis('off') #remove axis for these plots\n",
    "    temp_list = list(temps[aa][0].split(' ')) #turn the space-separated string into a list\n",
    "#     print(f'list: {temp_list[:2]}',end=' ') #print template names\n",
    "#     if len(temp_list) <= 2: #print an ellipse to show there are more templates without flooding output\n",
    "#         print(' ')\n",
    "#     else:\n",
    "#         print('...')\n",
    "    for nn,n in enumerate(temp_list):#for each template in the associated list of templates\n",
    "        for t in T: #for each template in tgz file\n",
    "            if t.name == n: #if the template name matches the template we want\n",
    "                st = t.st #grab the stream\n",
    "                break #stop the search for template\n",
    "\n",
    "        ax.plot(st[0].data[:]/np.max(np.abs(st[0].data))+2*nn,color='purple')\n",
    "#     break\n",
    "fig.delaxes(ax0) #remove unused ax"
   ]
  },
  {
   "cell_type": "markdown",
   "id": "4fece96c",
   "metadata": {},
   "source": [
    "# Conclusion:\n",
    "\n",
    "### This is not helpful for what we are trying to accomplish, it is unbalanced: either creating 1 group with many templates or many groups with few templates, no happy medium.\n",
    "\n",
    "This motivates a ML approach"
   ]
  }
 ],
 "metadata": {
  "kernelspec": {
   "display_name": "seismo (SHARED)",
   "language": "python",
   "name": "seismo-py38-shared"
  },
  "language_info": {
   "codemirror_mode": {
    "name": "ipython",
    "version": 3
   },
   "file_extension": ".py",
   "mimetype": "text/x-python",
   "name": "python",
   "nbconvert_exporter": "python",
   "pygments_lexer": "ipython3",
   "version": "3.8.12"
  }
 },
 "nbformat": 4,
 "nbformat_minor": 5
}
