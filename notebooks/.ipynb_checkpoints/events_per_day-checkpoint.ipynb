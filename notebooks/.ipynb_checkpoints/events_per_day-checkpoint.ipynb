{
 "cells": [
  {
   "cell_type": "markdown",
   "id": "ce2a3b36",
   "metadata": {},
   "source": [
    "Getting into events per day format in a csv. Set up for Mt St Helens - created December 2022"
   ]
  },
  {
   "cell_type": "code",
   "execution_count": 2,
   "id": "e9f242e1",
   "metadata": {},
   "outputs": [],
   "source": [
    "import pandas as pd\n",
    "import yaml\n",
    "import numpy as np\n",
    "import csv\n",
    "import matplotlib.pyplot as plt"
   ]
  },
  {
   "cell_type": "code",
   "execution_count": 3,
   "id": "ca73055b",
   "metadata": {},
   "outputs": [],
   "source": [
    "with open('/home/smocz/expand_redpy/scripts/config.yaml') as file:\n",
    "    config = yaml.load(file, Loader=yaml.FullLoader)\n",
    "\n",
    "vv = config['vv']\n",
    "volc_list_names = config['volc_list_names']\n",
    "volc = volc_list_names[vv]\n",
    "readdir = config['readdir']\n",
    "homedir = config['homedir']"
   ]
  },
  {
   "cell_type": "code",
   "execution_count": 6,
   "id": "4281eb64",
   "metadata": {},
   "outputs": [],
   "source": [
    "#read the St_Helens csvs\n",
    "\n",
    "St_Helens = pd.read_csv(readdir+'MountStHelens_catalog.csv')\n",
    "\n",
    "# Combining borehole and local catalogs with St_Helens\n",
    "\n",
    "Helens_Borehole = pd.read_csv(readdir+'MSHborehole_catalog.csv')\n",
    "Helens_Borehole['Clustered'] += 2000 \n",
    "# Cluster 0 in Helens_Borehole is now Cluster 2000 in St_Helens\n",
    "Helens_Local = pd.read_csv(readdir+'MSHlocal_catalog.csv')\n",
    "Helens_Local['Clustered'] += 3000\n",
    "# Cluster 0 in Helens_Local is now Cluster 3000 in St_Helens\n",
    "\n",
    "# Use St_Helens to access all three St Helens catalogs\n",
    "St_Helens = pd.concat([St_Helens,Helens_Borehole,Helens_Local])"
   ]
  },
  {
   "cell_type": "code",
   "execution_count": 5,
   "id": "545ac31e",
   "metadata": {},
   "outputs": [],
   "source": [
    "#read Hood csv\n",
    "Hood = pd.read_csv(readdir+'Hood_catalog.csv')"
   ]
  },
  {
   "cell_type": "code",
   "execution_count": 6,
   "id": "68b0dfd4",
   "metadata": {},
   "outputs": [
    {
     "name": "stdout",
     "output_type": "stream",
     "text": [
      "           Date  Number_of_Events\n",
      "0    2009-01-23                 4\n",
      "1    2009-01-24                 1\n",
      "2    2009-02-10                 1\n",
      "3    2009-02-12                 2\n",
      "4    2009-02-28                 1\n",
      "..          ...               ...\n",
      "657  2022-04-06                 2\n",
      "658  2022-04-13                 2\n",
      "659  2022-04-25                 1\n",
      "660  2022-05-10                 1\n",
      "661  2022-05-29                 1\n",
      "\n",
      "[662 rows x 2 columns]\n"
     ]
    }
   ],
   "source": [
    "#make events_per_day csv\n",
    "\n",
    "###################\n",
    "# SET UP FOR HOOD #\n",
    "###################\n",
    "\n",
    "dt_list = Hood['datetime'].values.tolist() #get a list of datetimes\n",
    "\n",
    "d_list = [] #get list of dates\n",
    "for dt in dt_list:\n",
    "    d = dt[:10] #take the date out of the datetime\n",
    "    d_list.append(d) #append to list\n",
    "\n",
    "uni_d_list = np.unique(d_list)\n",
    "\n",
    "num_list = [] #list of number of events on that date, index is the same as uni_d_list\n",
    "for i in uni_d_list:\n",
    "    num = d_list.count(i)\n",
    "    num_list.append(num)\n",
    "\n",
    "df = pd.DataFrame(list(zip(uni_d_list,num_list)))\n",
    "df.columns = ['Date','Number_of_Events']\n",
    "print(df)\n",
    "\n",
    "df.to_csv(homedir+'Mt_Hood_events_per_day.csv',index=False)"
   ]
  },
  {
   "cell_type": "markdown",
   "id": "df2e6c01",
   "metadata": {},
   "source": [
    "Plot"
   ]
  },
  {
   "cell_type": "code",
   "execution_count": 13,
   "id": "37b9a1c3",
   "metadata": {},
   "outputs": [
    {
     "name": "stdout",
     "output_type": "stream",
     "text": [
      "           Date  Number_of_Events\n",
      "0    2002/01/13                 1\n",
      "1    2002/01/30                 1\n",
      "2    2002/02/26                 1\n",
      "3    2002/03/18                 1\n",
      "4    2002/04/19                 1\n",
      "..          ...               ...\n",
      "831  2021/11/28                 3\n",
      "832  2021/12/05                 1\n",
      "833  2021/12/13                 2\n",
      "834  2021/12/14                 1\n",
      "835  2022/01/01                 1\n",
      "\n",
      "[836 rows x 2 columns]\n"
     ]
    }
   ],
   "source": [
    "#read pnsn dates FOR HOOD\n",
    "pnsn = pd.read_csv(homedir+'pnsn_Hood.csv')\n",
    "\n",
    "dt_list = pnsn['Time UTC'].values.tolist() #get a list of datetimes\n",
    "\n",
    "d_list = [] #get list of dates\n",
    "for dt in dt_list:\n",
    "    d = dt[:10] #take the date out of the datetime\n",
    "    d_list.append(d) #append to list\n",
    "\n",
    "uni_d_list = np.unique(d_list)\n",
    "\n",
    "num_list = [] #list of number of events on that date, index is the same as uni_d_list\n",
    "for i in uni_d_list:\n",
    "    num = d_list.count(i)\n",
    "    num_list.append(num)\n",
    "\n",
    "pnsn_df = pd.DataFrame(list(zip(uni_d_list,num_list)))\n",
    "pnsn_df.columns = ['Date','Number_of_Events']\n",
    "print(pnsn_df)"
   ]
  },
  {
   "cell_type": "code",
   "execution_count": 24,
   "id": "1439ad30",
   "metadata": {},
   "outputs": [
    {
     "data": {
      "text/plain": [
       "<matplotlib.legend.Legend at 0x7f2ea25299d0>"
      ]
     },
     "execution_count": 24,
     "metadata": {},
     "output_type": "execute_result"
    },
    {
     "data": {
      "image/png": "[encoded data removed]",
      "text/plain": [
       "<Figure size 1080x360 with 1 Axes>"
      ]
     },
     "metadata": {
      "needs_background": "light"
     },
     "output_type": "display_data"
    }
   ],
   "source": [
    "df = pd.read_csv(homedir+'Mt_Hood_events_per_day.csv')\n",
    "\n",
    "x = df['Date'].values.tolist()\n",
    "str_x = [str(i) for i in x]\n",
    "x = pd.to_datetime(str_x)\n",
    "\n",
    "y = df['Number_of_Events'].values.tolist()\n",
    "\n",
    "px = pnsn_df['Date'].values.tolist()\n",
    "str_px = [str(i) for i in px]\n",
    "px = pd.to_datetime(str_px)\n",
    "\n",
    "py = pnsn_df['Number_of_Events'].values.tolist()\n",
    "\n",
    "fig, ax = plt.subplots(figsize=(15,5))\n",
    "\n",
    "ax.scatter(px,py,s=10,alpha=0.75,marker='.',label='PNSN Events', color='purple') \n",
    "ax.scatter(x,y,s=10,alpha=0.75,marker='.',label='REDPy Events', color='red')\n",
    "\n",
    "ax.set_xlabel('Date')\n",
    "ax.set_ylabel('Number of Events')\n",
    "ax.set_title('Number of Repeating Events per Day found by REDPy on Mt Hood')\n",
    "plt.legend()"
   ]
  },
  {
   "cell_type": "code",
   "execution_count": null,
   "id": "8d87624d",
   "metadata": {},
   "outputs": [],
   "source": []
  }
 ],
 "metadata": {
  "kernelspec": {
   "display_name": "seismo (SHARED)",
   "language": "python",
   "name": "seismo-py38-shared"
  },
  "language_info": {
   "codemirror_mode": {
    "name": "ipython",
    "version": 3
   },
   "file_extension": ".py",
   "mimetype": "text/x-python",
   "name": "python",
   "nbconvert_exporter": "python",
   "pygments_lexer": "ipython3",
   "version": "3.8.12"
  }
 },
 "nbformat": 4,
 "nbformat_minor": 5
}
