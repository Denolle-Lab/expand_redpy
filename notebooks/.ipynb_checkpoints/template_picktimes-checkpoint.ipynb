{
 "cells": [
  {
   "cell_type": "code",
   "execution_count": 1,
   "id": "d08884cb",
   "metadata": {},
   "outputs": [
    {
     "name": "stdout",
     "output_type": "stream",
     "text": [
      "Matched-filter CPU is not compiled! Should be here: /home/jupyter_share/miniconda3/envs/seismo/lib/python3.8/site-packages/fast_matched_filter/lib/matched_filter_CPU.so\n"
     ]
    }
   ],
   "source": [
    "import eqcorrscan\n",
    "from eqcorrscan import Tribe"
   ]
  },
  {
   "cell_type": "code",
   "execution_count": null,
   "id": "ff695c47",
   "metadata": {},
   "outputs": [],
   "source": [
    "#loop for .tgz files\n",
    "T = Tribe().read('')\n",
    "for t in T:\n",
    "    t.st #find picktime for t.st"
   ]
  }
 ],
 "metadata": {
  "kernelspec": {
   "display_name": "seismo (SHARED)",
   "language": "python",
   "name": "seismo"
  },
  "language_info": {
   "codemirror_mode": {
    "name": "ipython",
    "version": 3
   },
   "file_extension": ".py",
   "mimetype": "text/x-python",
   "name": "python",
   "nbconvert_exporter": "python",
   "pygments_lexer": "ipython3",
   "version": "3.8.12"
  }
 },
 "nbformat": 4,
 "nbformat_minor": 5
}
