{
 "cells": [
  {
   "cell_type": "markdown",
   "id": "43a5eaf8",
   "metadata": {},
   "source": [
    "Code to make h5 files of the templates in the case that they are not saved correctly during make_templates\n",
    "\n",
    "Created December 7, 2022\n",
    "Updated May 15, 2023"
   ]
  },
  {
   "cell_type": "code",
   "execution_count": 1,
   "id": "6c91eea7",
   "metadata": {},
   "outputs": [
    {
     "name": "stdout",
     "output_type": "stream",
     "text": [
      "Matched-filter CPU is not compiled! Should be here: /home/jupyter_share/miniconda3/envs/seismo/lib/python3.8/site-packages/fast_matched_filter/lib/matched_filter_CPU.so\n"
     ]
    }
   ],
   "source": [
    "import pandas as pd #to work with csv and dataframe\n",
    "import numpy as np #for array\n",
    "from eqcorrscan import Tribe #import the ability to read .tgz files with templates\n",
    "import h5py #for writing to h5"
   ]
  },
  {
   "cell_type": "markdown",
   "id": "6d5555e1",
   "metadata": {},
   "source": [
    "Writing H5"
   ]
  },
  {
   "cell_type": "code",
   "execution_count": 2,
   "id": "53a01334",
   "metadata": {},
   "outputs": [],
   "source": [
    "homedir = '/home/smocz/expand_redpy_new_files/templates/' #directory to with .tgz file\n",
    "filename = 'Volcano_Rainier_Network_UW_Station_RCM_Channel_HHZ.tgz' #name of .tgz file\n",
    "savedir = '/home/smocz/expand_redpy_new_files/h5/' #directory to save h5 file in\n",
    "h5name = '' #name of h5 file"
   ]
  },
  {
   "cell_type": "code",
   "execution_count": 3,
   "id": "8195836a",
   "metadata": {},
   "outputs": [
    {
     "name": "stdout",
     "output_type": "stream",
     "text": [
      "(20, 3121)\n"
     ]
    }
   ],
   "source": [
    "T = Tribe().read(f'{homedir}{filename}') #read the .tgz file\n",
    "\n",
    "#create data\n",
    "wave_list = [] #list of arrays of stream data\n",
    "name_list = [] #list of template names\n",
    "\n",
    "for t in T[:20]: #for each of the first 20 templates in the tgz file\n",
    "    t_id = t.name #template name\n",
    "    waveform = t.st #tempalte stream\n",
    "    wave_list.append(np.array(t.st[0].data)) #append stream data as an array\n",
    "    name_list.append(t.name) #append names to list\n",
    "#     break\n",
    "    \n",
    "wave_arr = np.array(wave_list)\n",
    "print(wave_arr.shape) #should be (# of streams, length of streams) like (90, 3121) for 90 streams of length 3121"
   ]
  },
  {
   "cell_type": "code",
   "execution_count": null,
   "id": "bb5cc2fa",
   "metadata": {},
   "outputs": [],
   "source": [
    "#add data to h5 file\n",
    "with h5py.File(\"./specufex_data.h5\", \"w\") as f:\n",
    "    f.create_dataset(\"waveforms\", data=wave_arr)\n",
    "    f.create_dataset(\"template_name\", data=name_list)"
   ]
  },
  {
   "cell_type": "markdown",
   "id": "a2f40b96",
   "metadata": {},
   "source": [
    "Reading H5"
   ]
  },
  {
   "cell_type": "code",
   "execution_count": null,
   "id": "025c2d81",
   "metadata": {},
   "outputs": [],
   "source": [
    "#load waveforms from h5 file\n",
    "with h5py.File(\"./specufex_data.h5\", \"r\") as f:\n",
    "    waveforms = f[\"waveforms\"][()]\n",
    "    template_name = f[\"template_name\"].asstr()[()]\n",
    "\n",
    "print(f\"{len(waveforms)} waveforms in file\")\n",
    "\n",
    "tdf = pd.DataFrame({\"template_name\":template_name,\"waveform\":list(waveforms)})\n",
    "tdf.head()"
   ]
  }
 ],
 "metadata": {
  "kernelspec": {
   "display_name": "seismo (SHARED)",
   "language": "python",
   "name": "seismo-py38-shared"
  },
  "language_info": {
   "codemirror_mode": {
    "name": "ipython",
    "version": 3
   },
   "file_extension": ".py",
   "mimetype": "text/x-python",
   "name": "python",
   "nbconvert_exporter": "python",
   "pygments_lexer": "ipython3",
   "version": "3.8.12"
  }
 },
 "nbformat": 4,
 "nbformat_minor": 5
}
