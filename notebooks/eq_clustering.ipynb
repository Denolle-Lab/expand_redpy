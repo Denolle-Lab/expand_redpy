{
 "cells": [
  {
   "cell_type": "code",
   "execution_count": 2,
   "id": "b4398087",
   "metadata": {},
   "outputs": [
    {
     "name": "stdout",
     "output_type": "stream",
     "text": [
      "Matched-filter CPU is not compiled! Should be here: /home/jupyter_share/miniconda3/envs/seismo/lib/python3.8/site-packages/fast_matched_filter/lib/matched_filter_CPU.so\n"
     ]
    }
   ],
   "source": [
    "from eqcorrscan.utils.clustering import cluster\n",
    "from eqcorrscan import Tribe\n",
    "import numpy as np\n",
    "from time import time"
   ]
  },
  {
   "cell_type": "code",
   "execution_count": 8,
   "id": "b2629df4",
   "metadata": {},
   "outputs": [],
   "source": [
    "#set parameters\n",
    "path = '/home/smocz/expand_redpy_new_files/templates/' #path to .tgz file\n",
    "filename = 'Volcano_Rainier_Network_UW_Station_RCM_Channel_HHZ.tgz' #name of .tgz file\n",
    "thresh_list = [0.2,0.3]"
   ]
  },
  {
   "cell_type": "code",
   "execution_count": 9,
   "id": "991b539a",
   "metadata": {},
   "outputs": [
    {
     "name": "stdout",
     "output_type": "stream",
     "text": [
      "0.44876909255981445 s to get stream_list\n",
      "-----\n",
      "testing theshold of: 0.2\n",
      "43.368587493896484 s to cluster Volcano_Rainier_Network_UW_Station_RCM_Channel_HHZ.tgz\n",
      "# of groups 2\n",
      "# of templates 367\n",
      "-----\n",
      "testing theshold of: 0.3\n",
      "42.22096061706543 s to cluster Volcano_Rainier_Network_UW_Station_RCM_Channel_HHZ.tgz\n",
      "# of groups 17\n",
      "# of templates 367\n",
      "86.03865933418274 s to get all threshold values\n"
     ]
    }
   ],
   "source": [
    "#pull up tgz\n",
    "t3 = time()\n",
    "T = Tribe().read(f'{path}{filename}') #read the .tgz file\n",
    "\n",
    "stream_list = [] #list of tuples. in tuple is (stream, template id)\n",
    "for t in T:\n",
    "    stream_tuple = (t.st,t.name)\n",
    "    stream_list.append(stream_tuple)\n",
    "t4 = time()\n",
    "print(f'{t4-t3} s to get stream_list')\n",
    "\n",
    "\n",
    "thresh_test=[]\n",
    "for thresh in thresh_list:\n",
    "    t0 = time()\n",
    "    print('-----')\n",
    "    print(f'testing theshold of: {thresh}')\n",
    "\n",
    "    t1 = time()\n",
    "    groups = cluster(template_list=stream_list, show=False,\n",
    "                      corr_thresh=thresh, shift_len=15, cores=2) #corr_thresh is cross correlation threshold, shif_len is amount\n",
    "    #it can shift by, cores is how many cores to use while running\n",
    "    thresh_test.append(groups)\n",
    "    #groups is a list of groups, each group is a list with the templates (tuple of stream and name) in it\n",
    "\n",
    "    t2 = time()\n",
    "    print(f'{t2-t0} s to cluster {filename}')\n",
    "\n",
    "    print('# of groups',len(groups)) #number of clusters from EQcorrscan\n",
    "    print('# of templates',len(T)) #number of template\n",
    "    del(groups) #clear for less memory\n",
    "#     break\n",
    "    \n",
    "print(f'{t2-t3} s to get all threshold values')"
   ]
  },
  {
   "cell_type": "code",
   "execution_count": null,
   "id": "79e41cce",
   "metadata": {
    "scrolled": false
   },
   "outputs": [],
   "source": [
    "# for groups in thresh_test:\n",
    "groups = thresh_test[1]\n",
    "print(' ')\n",
    "print('#######################')\n",
    "print(f'## THRESHOLD {thresh_list[thresh_test.index(groups)]}     ##')\n",
    "print('#######################')\n",
    "for gr in groups: #for each group\n",
    "    if len(gr) > 1: #more than one tuple\n",
    "        print('-----')\n",
    "        print('index:',groups.index(gr))\n",
    "        print('number of templates in group:',len(gr))\n",
    "        for g in gr: #for each tuple\n",
    "            print('*',g[1])\n",
    "            g[0].plot(); #plot the first part (the stream)\n",
    "#     break"
   ]
  },
  {
   "cell_type": "code",
   "execution_count": null,
   "id": "401eee7b",
   "metadata": {
    "scrolled": false
   },
   "outputs": [],
   "source": [
    "for g in groups[57]:\n",
    "    print('*',g[1])\n",
    "    g[0].plot(); #plot the first part (the stream)"
   ]
  },
  {
   "cell_type": "code",
   "execution_count": null,
   "id": "bb6b22b3",
   "metadata": {},
   "outputs": [],
   "source": [
    "print(len(groups[57]))"
   ]
  },
  {
   "cell_type": "code",
   "execution_count": null,
   "id": "07a01e5a",
   "metadata": {},
   "outputs": [],
   "source": []
  }
 ],
 "metadata": {
  "kernelspec": {
   "display_name": "seismo (SHARED)",
   "language": "python",
   "name": "seismo-py38-shared"
  },
  "language_info": {
   "codemirror_mode": {
    "name": "ipython",
    "version": 3
   },
   "file_extension": ".py",
   "mimetype": "text/x-python",
   "name": "python",
   "nbconvert_exporter": "python",
   "pygments_lexer": "ipython3",
   "version": "3.8.12"
  }
 },
 "nbformat": 4,
 "nbformat_minor": 5
}
