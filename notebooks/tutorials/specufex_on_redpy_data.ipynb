{
 "cells": [
  {
   "cell_type": "markdown",
   "id": "2908041d",
   "metadata": {},
   "source": [
    "The purpose of this notebook is to be a tutorial on how to use specufex grouping on redpy templates. \n",
    "\n",
    "This tutorial reads from an h5 file of redpy templates, and includes how to read .tgz files and save their information into an h5 file.\n",
    "\n",
    "There is a \n",
    "\n",
    "---\n",
    "\n",
    "Created by Nick Smoczyk 4/5/2023\n",
    "\n",
    "Updated 4/17/2023"
   ]
  },
  {
   "cell_type": "code",
   "execution_count": 1,
   "id": "165f971d",
   "metadata": {},
   "outputs": [
    {
     "name": "stdout",
     "output_type": "stream",
     "text": [
      "Matched-filter CPU is not compiled! Should be here: /home/jupyter_share/miniconda3/envs/seismo/lib/python3.8/site-packages/fast_matched_filter/lib/matched_filter_CPU.so\n"
     ]
    }
   ],
   "source": [
    "#imports and parameters\n",
    "from specufex import BayesianNonparametricNMF, BayesianHMM #for nmf and hmm\n",
    "import h5py #for reading h5 file\n",
    "import numpy as np #for arrays and math\n",
    "import pandas as pd #for dataframes\n",
    "from obspy import Trace #for seeing waveforms\n",
    "import matplotlib.pyplot as plt #for plots\n",
    "from sklearn.cluster import KMeans #for grouping\n",
    "import scipy.signal as sp #for calculating spectrograms\n",
    "from tqdm import trange #for a progress meter\n",
    "\n",
    "import eqcorrscan #for reading templates from .tgz\n",
    "from eqcorrscan import Tribe #for reading templates from .tgz"
   ]
  },
  {
   "cell_type": "markdown",
   "id": "12f83984",
   "metadata": {},
   "source": [
    "### 1. Reading .tgz and saving as h5"
   ]
  },
  {
   "cell_type": "code",
   "execution_count": 2,
   "id": "73572f74",
   "metadata": {},
   "outputs": [],
   "source": [
    "homedir = '/home/smocz/expand_redpy_new_files/templates/' #directory to with .tgz file\n",
    "filename = 'Volcano_Rainier_Network_UW_Station_RCM_Channel_HHZ.tgz' #name of .tgz file\n",
    "savedir = '/home/smocz/expand_redpy_new_files/h5/' #directory to save h5 file in\n",
    "h5name = '' #name of h5 file"
   ]
  },
  {
   "cell_type": "code",
   "execution_count": 19,
   "id": "373b8828",
   "metadata": {},
   "outputs": [
    {
     "name": "stdout",
     "output_type": "stream",
     "text": [
      "(20, 3121)\n"
     ]
    }
   ],
   "source": [
    "T = Tribe().read(f'{homedir}{filename}') #read the .tgz file\n",
    "\n",
    "#create data\n",
    "wave_list = [] #list of arrays of stream data\n",
    "name_list = [] #list of template names\n",
    "\n",
    "for t in T[:20]: #for each of the first 20 templates in the tgz file\n",
    "    t_id = t.name #template name\n",
    "    waveform = t.st #tempalte stream\n",
    "    wave_list.append(np.array(t.st[0].data)) #append stream data as an array\n",
    "    name_list.append(t.name) #append names to list\n",
    "#     break\n",
    "    \n",
    "wave_arr = np.array(wave_list)\n",
    "print(wave_arr.shape) #should be (# of streams, length of streams) like (90, 3121) for 90 streams of length 3121"
   ]
  },
  {
   "cell_type": "code",
   "execution_count": 20,
   "id": "7ebb21b2",
   "metadata": {},
   "outputs": [],
   "source": [
    "#add data to h5 file\n",
    "with h5py.File(\"./specufex_data.h5\", \"w\") as f:\n",
    "    f.create_dataset(\"waveforms\", data=wave_arr)\n",
    "    f.create_dataset(\"template_name\", data=name_list)"
   ]
  },
  {
   "cell_type": "markdown",
   "id": "af4a07fd",
   "metadata": {},
   "source": [
    "### 2. Reading h5 file"
   ]
  },
  {
   "cell_type": "code",
   "execution_count": 3,
   "id": "5926fd36",
   "metadata": {},
   "outputs": [
    {
     "name": "stdout",
     "output_type": "stream",
     "text": [
      "20 waveforms in file\n"
     ]
    },
    {
     "data": {
      "text/html": [
       "<div>\n",
       "<style scoped>\n",
       "    .dataframe tbody tr th:only-of-type {\n",
       "        vertical-align: middle;\n",
       "    }\n",
       "\n",
       "    .dataframe tbody tr th {\n",
       "        vertical-align: top;\n",
       "    }\n",
       "\n",
       "    .dataframe thead th {\n",
       "        text-align: right;\n",
       "    }\n",
       "</style>\n",
       "<table border=\"1\" class=\"dataframe\">\n",
       "  <thead>\n",
       "    <tr style=\"text-align: right;\">\n",
       "      <th></th>\n",
       "      <th>template_name</th>\n",
       "      <th>waveform</th>\n",
       "    </tr>\n",
       "  </thead>\n",
       "  <tbody>\n",
       "    <tr>\n",
       "      <th>0</th>\n",
       "      <td>rcmhhzrpra000</td>\n",
       "      <td>[3.0627340694616154, 2.5487518161664533, 0.675...</td>\n",
       "    </tr>\n",
       "    <tr>\n",
       "      <th>1</th>\n",
       "      <td>rcmhhzrpra001</td>\n",
       "      <td>[-2.075366175415957, 2.531869744151012, 4.2914...</td>\n",
       "    </tr>\n",
       "    <tr>\n",
       "      <th>2</th>\n",
       "      <td>rcmhhzrpra002</td>\n",
       "      <td>[0.20577756183559548, -0.1754276222518661, -0....</td>\n",
       "    </tr>\n",
       "    <tr>\n",
       "      <th>3</th>\n",
       "      <td>rcmhhzrpra003</td>\n",
       "      <td>[-5.836989823604221, -2.879562960681237, 0.783...</td>\n",
       "    </tr>\n",
       "    <tr>\n",
       "      <th>4</th>\n",
       "      <td>rcmhhzrpra004</td>\n",
       "      <td>[-0.22583640882683498, 4.1090049945506975, 7.2...</td>\n",
       "    </tr>\n",
       "  </tbody>\n",
       "</table>\n",
       "</div>"
      ],
      "text/plain": [
       "   template_name                                           waveform\n",
       "0  rcmhhzrpra000  [3.0627340694616154, 2.5487518161664533, 0.675...\n",
       "1  rcmhhzrpra001  [-2.075366175415957, 2.531869744151012, 4.2914...\n",
       "2  rcmhhzrpra002  [0.20577756183559548, -0.1754276222518661, -0....\n",
       "3  rcmhhzrpra003  [-5.836989823604221, -2.879562960681237, 0.783...\n",
       "4  rcmhhzrpra004  [-0.22583640882683498, 4.1090049945506975, 7.2..."
      ]
     },
     "execution_count": 3,
     "metadata": {},
     "output_type": "execute_result"
    }
   ],
   "source": [
    "#load waveforms from h5 file\n",
    "with h5py.File(\"./specufex_data.h5\", \"r\") as f:\n",
    "    waveforms = f[\"waveforms\"][()]\n",
    "    template_name = f[\"template_name\"].asstr()[()]\n",
    "\n",
    "print(f\"{len(waveforms)} waveforms in file\")\n",
    "\n",
    "tdf = pd.DataFrame({\"template_name\":template_name,\"waveform\":list(waveforms)})\n",
    "tdf.head()"
   ]
  },
  {
   "cell_type": "markdown",
   "id": "518736b2",
   "metadata": {},
   "source": [
    "### 3. Spectrograms"
   ]
  },
  {
   "cell_type": "code",
   "execution_count": 4,
   "id": "5ea029d8",
   "metadata": {},
   "outputs": [],
   "source": [
    "#parameters\n",
    "\n",
    "#stream filtering\n",
    "fs = 40 #sampling rate\n",
    "fqmin = 1 #minimum frequency for bandpass\n",
    "fqmax = 10 #maximum frequency for bandpass\n",
    "\n",
    "# spectrogram parameters\n",
    "sgramMode='magnitude'\n",
    "sgramScaling='spectrum'\n",
    "\n",
    "# frequency/time resolution\n",
    "nperseg = 64\n",
    "noverlap = nperseg/4\n",
    "nfft = 1024\n",
    "\n",
    "#Kmeans\n",
    "K = 6 # number of clusters to fit\n",
    "\n",
    "#NMF\n",
    "batches_nmf = 100000\n",
    "batch_size = 1\n",
    "\n",
    "#HMM\n",
    "num_states = 8\n",
    "batches_hmm = 5000"
   ]
  },
  {
   "cell_type": "code",
   "execution_count": 5,
   "id": "29258f59",
   "metadata": {},
   "outputs": [],
   "source": [
    "#calculate raw spectrograms with scipy\n",
    "fSTFT, tSTFT, STFT_raw = sp.spectrogram(\n",
    "    x=np.stack(tdf[\"waveform\"].values),\n",
    "    fs=fs,\n",
    "    nperseg=nperseg,\n",
    "    noverlap=noverlap,\n",
    "    nfft=nfft,\n",
    "    scaling=sgramScaling,\n",
    "    axis=-1,\n",
    "    mode=sgramMode\n",
    ")"
   ]
  },
  {
   "cell_type": "code",
   "execution_count": 6,
   "id": "5a1778fb",
   "metadata": {},
   "outputs": [
    {
     "data": {
      "text/plain": [
       "False"
      ]
     },
     "execution_count": 6,
     "metadata": {},
     "output_type": "execute_result"
    }
   ],
   "source": [
    "#quality check for NaN\n",
    "np.isnan(STFT_raw).any()"
   ]
  },
  {
   "cell_type": "code",
   "execution_count": 7,
   "id": "b8778f46",
   "metadata": {},
   "outputs": [],
   "source": [
    "#bandpass\n",
    "\n",
    "freq_slice = np.where((fSTFT >= fqmin) & (fSTFT <= fqmax))\n",
    "fSTFT   = fSTFT[freq_slice]\n",
    "STFT_0 = STFT_raw[:,freq_slice,:].squeeze()\n",
    "\n",
    "# STFT_0 = STFT_raw"
   ]
  },
  {
   "cell_type": "code",
   "execution_count": 8,
   "id": "76526ddf",
   "metadata": {},
   "outputs": [
    {
     "data": {
      "text/html": [
       "<div>\n",
       "<style scoped>\n",
       "    .dataframe tbody tr th:only-of-type {\n",
       "        vertical-align: middle;\n",
       "    }\n",
       "\n",
       "    .dataframe tbody tr th {\n",
       "        vertical-align: top;\n",
       "    }\n",
       "\n",
       "    .dataframe thead th {\n",
       "        text-align: right;\n",
       "    }\n",
       "</style>\n",
       "<table border=\"1\" class=\"dataframe\">\n",
       "  <thead>\n",
       "    <tr style=\"text-align: right;\">\n",
       "      <th></th>\n",
       "      <th>template_name</th>\n",
       "      <th>waveform</th>\n",
       "      <th>stft</th>\n",
       "    </tr>\n",
       "  </thead>\n",
       "  <tbody>\n",
       "    <tr>\n",
       "      <th>0</th>\n",
       "      <td>rcmhhzrpra000</td>\n",
       "      <td>[3.0627340694616154, 2.5487518161664533, 0.675...</td>\n",
       "      <td>[[0.0, 0.0, 0.0, 0.0, 1.015058808188686, 0.0, ...</td>\n",
       "    </tr>\n",
       "    <tr>\n",
       "      <th>1</th>\n",
       "      <td>rcmhhzrpra001</td>\n",
       "      <td>[-2.075366175415957, 2.531869744151012, 4.2914...</td>\n",
       "      <td>[[1.083578776118199, 4.915096646035321, 9.7218...</td>\n",
       "    </tr>\n",
       "    <tr>\n",
       "      <th>2</th>\n",
       "      <td>rcmhhzrpra002</td>\n",
       "      <td>[0.20577756183559548, -0.1754276222518661, -0....</td>\n",
       "      <td>[[0.0, 0.0, 0.0, 0.0, 0.0, 6.462830087799749, ...</td>\n",
       "    </tr>\n",
       "    <tr>\n",
       "      <th>3</th>\n",
       "      <td>rcmhhzrpra003</td>\n",
       "      <td>[-5.836989823604221, -2.879562960681237, 0.783...</td>\n",
       "      <td>[[0.0, 0.0, 0.0, 0.0, 0.0, 0.0, 0.0, 18.412654...</td>\n",
       "    </tr>\n",
       "    <tr>\n",
       "      <th>4</th>\n",
       "      <td>rcmhhzrpra004</td>\n",
       "      <td>[-0.22583640882683498, 4.1090049945506975, 7.2...</td>\n",
       "      <td>[[7.9384904211590355, 0.0, 7.365669845320141, ...</td>\n",
       "    </tr>\n",
       "  </tbody>\n",
       "</table>\n",
       "</div>"
      ],
      "text/plain": [
       "   template_name                                           waveform  \\\n",
       "0  rcmhhzrpra000  [3.0627340694616154, 2.5487518161664533, 0.675...   \n",
       "1  rcmhhzrpra001  [-2.075366175415957, 2.531869744151012, 4.2914...   \n",
       "2  rcmhhzrpra002  [0.20577756183559548, -0.1754276222518661, -0....   \n",
       "3  rcmhhzrpra003  [-5.836989823604221, -2.879562960681237, 0.783...   \n",
       "4  rcmhhzrpra004  [-0.22583640882683498, 4.1090049945506975, 7.2...   \n",
       "\n",
       "                                                stft  \n",
       "0  [[0.0, 0.0, 0.0, 0.0, 1.015058808188686, 0.0, ...  \n",
       "1  [[1.083578776118199, 4.915096646035321, 9.7218...  \n",
       "2  [[0.0, 0.0, 0.0, 0.0, 0.0, 6.462830087799749, ...  \n",
       "3  [[0.0, 0.0, 0.0, 0.0, 0.0, 0.0, 0.0, 18.412654...  \n",
       "4  [[7.9384904211590355, 0.0, 7.365669845320141, ...  "
      ]
     },
     "execution_count": 8,
     "metadata": {},
     "output_type": "execute_result"
    }
   ],
   "source": [
    "#normalize spectrogram and make values nonnegative for nmf\n",
    "\n",
    "normConstant = np.median(STFT_0, axis=(1,2))\n",
    "STFT_norm = STFT_0 / normConstant[:,np.newaxis,np.newaxis]  # norm by median\n",
    "del STFT_0\n",
    "STFT_dB = 20*np.log10(STFT_norm, where=STFT_norm != 0) # convert to dB (database?)\n",
    "del STFT_norm\n",
    "STFT = np.maximum(0, STFT_dB) # make sure nonnegative\n",
    "del STFT_dB\n",
    "\n",
    "tdf[\"stft\"] = list(STFT)\n",
    "tdf.head()"
   ]
  },
  {
   "cell_type": "code",
   "execution_count": 9,
   "id": "65186904",
   "metadata": {},
   "outputs": [
    {
     "name": "stdout",
     "output_type": "stream",
     "text": [
      "Bad spectrograms: \n",
      "Series([], Name: template_name, dtype: object)\n"
     ]
    }
   ],
   "source": [
    "#quality check\n",
    "bad_idx = tdf[\"stft\"][tdf[\"stft\"].apply(lambda x: np.isnan(x).any())].index\n",
    "print(f\"Bad spectrograms: \\n{tdf.loc[bad_idx].template_name}\")\n",
    "tdf = tdf.drop(bad_idx).sort_values(\"template_name\")"
   ]
  },
  {
   "cell_type": "code",
   "execution_count": 10,
   "id": "e03527e9",
   "metadata": {},
   "outputs": [
    {
     "name": "stderr",
     "output_type": "stream",
     "text": [
      "/tmp/ipykernel_897133/4288673595.py:6: MatplotlibDeprecationWarning: shading='flat' when X and Y have the same dimensions as C is deprecated since 3.3.  Either specify the corners of the quadrilaterals with X and Y, or pass shading='auto', 'nearest' or 'gouraud', or set rcParams['pcolor.shading'].  This will become an error two minor releases later.\n",
      "  ax[0].pcolormesh(tSTFT,fSTFT,STFT_raw[n_spectrogram,freq_slice,:].squeeze())\n",
      "/tmp/ipykernel_897133/4288673595.py:11: MatplotlibDeprecationWarning: shading='flat' when X and Y have the same dimensions as C is deprecated since 3.3.  Either specify the corners of the quadrilaterals with X and Y, or pass shading='auto', 'nearest' or 'gouraud', or set rcParams['pcolor.shading'].  This will become an error two minor releases later.\n",
      "  ax[1].pcolormesh(tSTFT,fSTFT, STFT[n_spectrogram])\n"
     ]
    },
    {
     "data": {
      "text/plain": [
       "Text(0.5, 1.0, 'Normalized spectrogram')"
      ]
     },
     "execution_count": 10,
     "metadata": {},
     "output_type": "execute_result"
    },
    {
     "data": {
      "image/png": "[encoded data removed]",
      "text/plain": [
       "<Figure size 720x360 with 2 Axes>"
      ]
     },
     "metadata": {
      "needs_background": "light"
     },
     "output_type": "display_data"
    }
   ],
   "source": [
    "#plotting example spectrogram\n",
    "n_spectrogram = 0 # index of spectrogram to plot\n",
    "\n",
    "f, ax = plt.subplots(1,2, figsize=(10,5))\n",
    "\n",
    "ax[0].pcolormesh(tSTFT,fSTFT,STFT_raw[n_spectrogram,freq_slice,:].squeeze())\n",
    "ax[0].set_xlabel(\"Timestep\")\n",
    "ax[0].set_ylabel(\"Frequency (Hz)\")\n",
    "ax[0].set_title(\"Original spectrogram\")\n",
    "\n",
    "ax[1].pcolormesh(tSTFT,fSTFT, STFT[n_spectrogram])\n",
    "ax[1].set_xlabel(\"Timestep\")\n",
    "ax[1].set_title(\"Normalized spectrogram\")"
   ]
  },
  {
   "cell_type": "markdown",
   "id": "5300c603",
   "metadata": {},
   "source": [
    "### 4. NMF"
   ]
  },
  {
   "cell_type": "code",
   "execution_count": 11,
   "id": "ef079e2a",
   "metadata": {},
   "outputs": [],
   "source": [
    "nmf = BayesianNonparametricNMF(np.stack(tdf[\"stft\"].values).shape)"
   ]
  },
  {
   "cell_type": "code",
   "execution_count": null,
   "id": "50f675d7",
   "metadata": {},
   "outputs": [
    {
     "name": "stderr",
     "output_type": "stream",
     "text": [
      "NMF fit progress :  77%|███████▋  | 77429/100000 [1:42:00<26:29, 14.20it/s, Patterns: 75]  "
     ]
    }
   ],
   "source": [
    "t = trange(batches_nmf, desc=\"NMF fit progress \", leave=True)\n",
    "for i in t:\n",
    "    idx = np.random.randint(len(tdf[\"stft\"].values), size=batch_size)\n",
    "    nmf.fit(tdf[\"stft\"].iloc[idx].values)\n",
    "    t.set_postfix_str(f\"Patterns: {nmf.num_pat}\")"
   ]
  },
  {
   "cell_type": "code",
   "execution_count": 44,
   "id": "ea825b45",
   "metadata": {},
   "outputs": [
    {
     "data": {
      "image/png": "[encoded data removed]",
      "text/plain": [
       "<Figure size 432x288 with 1 Axes>"
      ]
     },
     "metadata": {
      "needs_background": "light"
     },
     "output_type": "display_data"
    }
   ],
   "source": [
    "#plot\n",
    "plt.pcolormesh(nmf.EW@np.diag(nmf.EA[0]))\n",
    "plt.xlabel(\"NMF pattern number\")\n",
    "plt.xticks(range(0,nmf.num_pat,2), range(0,nmf.num_pat,2))\n",
    "plt.ylabel(\"Frequency (Hz)\")\n",
    "plt.show()"
   ]
  },
  {
   "cell_type": "code",
   "execution_count": 45,
   "id": "ebb430d7",
   "metadata": {},
   "outputs": [
    {
     "name": "stdout",
     "output_type": "stream",
     "text": [
      "<class 'specufex.nmf.BayesianNonparametricNMF'>\n"
     ]
    }
   ],
   "source": [
    "print(type(nmf))"
   ]
  },
  {
   "cell_type": "code",
   "execution_count": 21,
   "id": "2d966d01",
   "metadata": {},
   "outputs": [],
   "source": [
    "#get activation matrix (Vs) from nmf\n",
    "Vs = nmf.transform(tdf[\"stft\"].values)\n",
    "\n",
    "# save Vs to an hdf5\n",
    "# with h5py.File(\"specu_data.h5\", \"w\") as f: #saves Vs to h5 file (will overwrite file, so add any other datasets you want to still be saved)\n",
    "    # f[\"Vs\"] = Vs #Vs dataset\n",
    "    # f[\"waveforms\"] = waveforms #waveforms dataset\n",
    "    # f[\"template_name\"] = template_name #template names (waveform ID) dataset"
   ]
  },
  {
   "cell_type": "code",
   "execution_count": 25,
   "id": "2d4462ae",
   "metadata": {},
   "outputs": [
    {
     "name": "stdout",
     "output_type": "stream",
     "text": [
      "specufex_Vs_data_full_tgz.h5\n"
     ]
    },
    {
     "data": {
      "text/plain": [
       "Text(0, 0.5, 'NMF pattern')"
      ]
     },
     "execution_count": 25,
     "metadata": {},
     "output_type": "execute_result"
    },
    {
     "data": {
      "image/png": "[encoded data removed]",
      "text/plain": [
       "<Figure size 1080x360 with 2 Axes>"
      ]
     },
     "metadata": {
      "needs_background": "light"
     },
     "output_type": "display_data"
    }
   ],
   "source": [
    "# for filename in [\"specufex_data_.h5\",\"specufex_data_selected_Vs_testing.h5\",\"specufex_data_full_tgz_Vs_testing.h5\"]:\n",
    "filename = \"specufex_Vs_data_full_tgz.h5\"\n",
    "with h5py.File(filename, \"r\") as f:\n",
    "    Vs = f[\"Vs\"][()]\n",
    "print(filename)\n",
    "f, axes = plt.subplots(1,2,figsize=(15,5))\n",
    "\n",
    "axes[0].pcolormesh(Vs[0])\n",
    "axes[0].set_xlabel(\"Timestep\")\n",
    "axes[0].set_ylabel(\"NMF pattern\")"
   ]
  },
  {
   "cell_type": "markdown",
   "id": "77cc26c2",
   "metadata": {},
   "source": [
    "### 5. HMM"
   ]
  },
  {
   "cell_type": "code",
   "execution_count": 26,
   "id": "21113234",
   "metadata": {},
   "outputs": [
    {
     "ename": "NameError",
     "evalue": "name 'nmf' is not defined",
     "output_type": "error",
     "traceback": [
      "\u001b[0;31m---------------------------------------------------------------------------\u001b[0m",
      "\u001b[0;31mNameError\u001b[0m                                 Traceback (most recent call last)",
      "Input \u001b[0;32mIn [26]\u001b[0m, in \u001b[0;36m<module>\u001b[0;34m\u001b[0m\n\u001b[0;32m----> 1\u001b[0m hmm \u001b[38;5;241m=\u001b[39m BayesianHMM(\u001b[43mnmf\u001b[49m\u001b[38;5;241m.\u001b[39mnum_pat, nmf\u001b[38;5;241m.\u001b[39mgain, num_state\u001b[38;5;241m=\u001b[39mnum_states, Neff\u001b[38;5;241m=\u001b[39m\u001b[38;5;241m50000\u001b[39m)\n",
      "\u001b[0;31mNameError\u001b[0m: name 'nmf' is not defined"
     ]
    }
   ],
   "source": [
    "hmm = BayesianHMM(nmf.num_pat, nmf.gain, num_state=num_states, Neff=50000)"
   ]
  },
  {
   "cell_type": "code",
   "execution_count": 24,
   "id": "44b9e251",
   "metadata": {},
   "outputs": [
    {
     "name": "stderr",
     "output_type": "stream",
     "text": [
      "HMM fit progress : 100%|██████████| 5000/5000 [03:26<00:00, 24.25it/s]\n"
     ]
    }
   ],
   "source": [
    "t = trange(batches_hmm, desc=\"HMM fit progress \", leave=True)\n",
    "for i in t:\n",
    "    idx = np.random.randint(Vs.shape[0], size=1)\n",
    "    hmm.fit(Vs[idx])"
   ]
  },
  {
   "cell_type": "code",
   "execution_count": 25,
   "id": "e4858eb5",
   "metadata": {},
   "outputs": [
    {
     "data": {
      "image/png": "[encoded data removed]",
      "text/plain": [
       "<Figure size 720x360 with 1 Axes>"
      ]
     },
     "metadata": {
      "needs_background": "light"
     },
     "output_type": "display_data"
    }
   ],
   "source": [
    "plt.figure(figsize=(10,5))\n",
    "plt.imshow(hmm.EB, origin=\"lower\")\n",
    "plt.ylabel(\"HMM state\")\n",
    "plt.xlabel(\"Frequency pattern\")\n",
    "_=plt.yticks(range(0,num_states,5), range(0, num_states,5))"
   ]
  },
  {
   "cell_type": "markdown",
   "id": "daa7af63",
   "metadata": {},
   "source": [
    "### 6. Fingerprint creation"
   ]
  },
  {
   "cell_type": "code",
   "execution_count": null,
   "id": "3740893c",
   "metadata": {},
   "outputs": [],
   "source": [
    "fingerprints, As, gams = hmm.transform(Vs) #create fingerprints\n",
    "plt.imshow(fingerprints[0]) #show fingerprints"
   ]
  },
  {
   "cell_type": "markdown",
   "id": "9b9177f2",
   "metadata": {},
   "source": [
    "### 7. Kmeans Clustering"
   ]
  },
  {
   "cell_type": "code",
   "execution_count": null,
   "id": "6c116d2a",
   "metadata": {},
   "outputs": [],
   "source": [
    "# convert fingerprints from 2D array to 1D array\n",
    "fingerprints_ = fingerprints.reshape((fingerprints.shape[0], fingerprints.shape[1]**2))\n",
    "\n",
    "#Predicted labels\n",
    "K=5 # number of clusters to fit, feel free to play around with it!\n",
    "y_pred = KMeans(n_clusters=K, random_state=42).fit_predict(fingerprints_)\n",
    "# y_pred #show y_pred, a np array of group/cluster IDs in same order as waveforms\n",
    "\n",
    "tdf['Kmeans'] = list(y_pred) #save specufex group label to tdf\n",
    "tdf.head() #show tdf"
   ]
  },
  {
   "cell_type": "markdown",
   "id": "e331f5bd",
   "metadata": {},
   "source": [
    "### 8. Show Kmeans results"
   ]
  },
  {
   "cell_type": "code",
   "execution_count": null,
   "id": "00d548d8",
   "metadata": {},
   "outputs": [],
   "source": [
    "for x in np.unique(y_pred):\n",
    "    print(f'group {x} has {list(y_pred).count(x)} waveforms') #print Kmeans group/cluster ID and number of waveforms in that group\n",
    "    Trace(waveforms[list(y_pred).index(x)]).plot(); #plot the first stream in that cluster"
   ]
  },
  {
   "cell_type": "code",
   "execution_count": null,
   "id": "54f06691",
   "metadata": {},
   "outputs": [],
   "source": [
    "#show all waveforms in a group\n",
    "kn = 1 #Kmeans group ID/number\n",
    "print(f'===== PLOTS FOR KMEANS GROUP {kn} =====')\n",
    "\n",
    "wave_list = tdf[tdf['Kmeans']==kn]['waveform'].values.tolist() #list of waveforms for a Kmeans group\n",
    "\n",
    "for wave in wave_list:\n",
    "  Trace(wave).plot();\n",
    "  break"
   ]
  }
 ],
 "metadata": {
  "kernelspec": {
   "display_name": "seismo (SHARED)",
   "language": "python",
   "name": "seismo-py38-shared"
  },
  "language_info": {
   "codemirror_mode": {
    "name": "ipython",
    "version": 3
   },
   "file_extension": ".py",
   "mimetype": "text/x-python",
   "name": "python",
   "nbconvert_exporter": "python",
   "pygments_lexer": "ipython3",
   "version": "3.8.12"
  }
 },
 "nbformat": 4,
 "nbformat_minor": 5
}
