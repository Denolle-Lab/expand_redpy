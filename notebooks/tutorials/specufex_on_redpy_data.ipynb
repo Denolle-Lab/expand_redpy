{
 "cells": [
  {
   "cell_type": "markdown",
   "id": "2908041d",
   "metadata": {},
   "source": [
    "The purpose of this notebook is to be a tutorial on how to use specufex grouping on redpy templates. \n",
    "\n",
    "This tutorial reads from an h5 file of redpy templates, and includes how to read .tgz files and save their information into an h5 file.\n",
    "\n",
    "---\n",
    "\n",
    "Created by Nick Smoczyk 4/5/2023\n",
    "\n",
    "Updated 4/5/2023"
   ]
  },
  {
   "cell_type": "markdown",
   "id": "12f83984",
   "metadata": {},
   "source": [
    "### 1. Reading .tgz and saving as h5"
   ]
  },
  {
   "cell_type": "code",
   "execution_count": 6,
   "id": "73572f74",
   "metadata": {},
   "outputs": [],
   "source": [
    "#imports and parameters\n",
    "import h5py\n",
    "import eqcorrscan\n",
    "from eqcorrscan import Tribe\n",
    "\n",
    "homedir = '/home/smocz/expand_redpy_new_files/templates/' #directory to with .tgz file\n",
    "filename = 'Volcano_Rainier_Network_UW_Station_RCM_Channel_HHZ.tgz' #name of .tgz file\n",
    "savedir = '/home/smocz/expand_redpy_new_files/h5/' #directory to save h5 file in\n",
    "h5name = '' #name of h5 file"
   ]
  },
  {
   "cell_type": "code",
   "execution_count": 15,
   "id": "373b8828",
   "metadata": {},
   "outputs": [
    {
     "name": "stdout",
     "output_type": "stream",
     "text": [
      "Template rcmhhzrpra000: \n",
      "\t 1 channels;\n",
      "\t lowcut: 1.0 Hz;\n",
      "\t highcut: 10.0 Hz;\n",
      "\t sampling rate 40.0 Hz;\n",
      "\t filter order: 4; \n",
      "\t process length: 200.0 s\n"
     ]
    }
   ],
   "source": [
    "T = Tribe().read(f'{homedir}{filename}') #read the .tgz file\n",
    "\n",
    "#create h5 file\n",
    "\n",
    "for t in T: #for each of the first 20 templates in the tgz file\n",
    "    t_id = t.name\n",
    "    waveform = t.st\n",
    "    #append to h5 here\n",
    "    break"
   ]
  },
  {
   "cell_type": "markdown",
   "id": "af4a07fd",
   "metadata": {},
   "source": [
    "### 2. Reading h5 file"
   ]
  },
  {
   "cell_type": "code",
   "execution_count": null,
   "id": "5926fd36",
   "metadata": {},
   "outputs": [],
   "source": [
    "#load waveforms from h5 file\n",
    "with h5py.File(\"./data/geysers/waveforms_up.h5\", \"r\") as f:\n",
    "    waveforms = f[\"waveforms\"][()]\n",
    "    event_ids = f[\"event_ids\"].asstr()[()]\n",
    "\n",
    "print(f\"{len(waveforms)} waveforms in file\")\n",
    "\n",
    "cat = pd.DataFrame({\"event_id\":event_ids,\"waveform\":list(waveforms)})\n",
    "cat.head()"
   ]
  },
  {
   "cell_type": "markdown",
   "id": "518736b2",
   "metadata": {},
   "source": [
    "### 3. Specufex processing"
   ]
  },
  {
   "cell_type": "code",
   "execution_count": null,
   "id": "5ea029d8",
   "metadata": {},
   "outputs": [],
   "source": [
    "#stream filtering\n",
    "fs = 40 #sampling rate\n",
    "fqmin = 1 #minimum frequency for bandpass\n",
    "fqmax = 10 #maximum frequency for bandpass\n",
    "\n",
    "# spectrogram parameters\n",
    "sgramMode='magnitude'\n",
    "sgramScaling='spectrum'\n",
    "\n",
    "# frequency/time resolution\n",
    "nperseg = 64\n",
    "noverlap = nperseg/4\n",
    "nfft = 1024\n",
    "\n",
    "#Kmeans\n",
    "K = 6 # number of clusters to fit\n",
    "\n",
    "#NMF\n",
    "batches_nmf = 100000\n",
    "batch_size = 1\n",
    "\n",
    "#HMM\n",
    "num_states = 8\n",
    "batches_hmm = 5000"
   ]
  }
 ],
 "metadata": {
  "kernelspec": {
   "display_name": "seismo (SHARED)",
   "language": "python",
   "name": "seismo-py38-shared"
  },
  "language_info": {
   "codemirror_mode": {
    "name": "ipython",
    "version": 3
   },
   "file_extension": ".py",
   "mimetype": "text/x-python",
   "name": "python",
   "nbconvert_exporter": "python",
   "pygments_lexer": "ipython3",
   "version": "3.8.12"
  }
 },
 "nbformat": 4,
 "nbformat_minor": 5
}
