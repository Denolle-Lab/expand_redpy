{
 "cells": [
  {
   "cell_type": "markdown",
   "id": "d6fbae3f",
   "metadata": {},
   "source": [
    "Created 22 November 2022 to show how to read templates in .tgz files aka Tribe files"
   ]
  },
  {
   "cell_type": "code",
   "execution_count": 1,
   "id": "335c67e8",
   "metadata": {},
   "outputs": [
    {
     "name": "stdout",
     "output_type": "stream",
     "text": [
      "Matched-filter CPU is not compiled! Should be here: /home/jupyter_share/miniconda3/envs/seismo/lib/python3.8/site-packages/fast_matched_filter/lib/matched_filter_CPU.so\n"
     ]
    }
   ],
   "source": [
    "import eqcorrscan #import the package for these files\n",
    "from eqcorrscan import Tribe #import the ability to read .tgz files aka Tribe files\n",
    "import obspy #import obspy to work with streams, etc."
   ]
  },
  {
   "cell_type": "code",
   "execution_count": 2,
   "id": "60e6574b",
   "metadata": {},
   "outputs": [],
   "source": [
    "#set parameters\n",
    "path = '/home/smocz/expand_redpy_new_files/templates/' #path to .tgz file\n",
    "filename = 'Volcano_Rainier_Network_UW_Station_RCM_Channel_HHZ.tgz' #name of .tgz file"
   ]
  },
  {
   "cell_type": "code",
   "execution_count": null,
   "id": "3cdf9eca",
   "metadata": {
    "scrolled": true
   },
   "outputs": [],
   "source": [
    "#call all templates in a .tgz file\n",
    "T = Tribe().read(f'{path}{filename}') #read the .tgz file\n",
    "for t in T: #for each template (t) in the .tgz (T)\n",
    "    print('--------------') #divider between templates\n",
    "    print(t) #print the template details\n",
    "    print(' ') #divider\n",
    "    print('Template Name', end=\" \") #label\n",
    "    print(t.name) #print the template name\n",
    "    t.st.plot() #show the obspy stream of the template\n",
    "#     break"
   ]
  },
  {
   "cell_type": "code",
   "execution_count": null,
   "id": "f5faa998",
   "metadata": {
    "scrolled": true
   },
   "outputs": [],
   "source": [
    "#call by index\n",
    "\n",
    "ind = 167 #index number of template to pull\n",
    "\n",
    "print('--------------') #divider between templates\n",
    "print(T[ind]) #print the template details\n",
    "print(' ') #divider\n",
    "print('Template Name', end=\" \") #label\n",
    "print(T[ind].name) #print the template name\n",
    "T[ind].st.plot() #show the obspy stream of the template"
   ]
  },
  {
   "cell_type": "code",
   "execution_count": null,
   "id": "61ca1776",
   "metadata": {
    "scrolled": true
   },
   "outputs": [],
   "source": [
    "#pull in all tgz files in a directory\n",
    "\n",
    "from glob import glob\n",
    "for filename_path in glob(path+'*.tgz'): #get name and path for all tgz files in path variable, filename is a str\n",
    "    T = Tribe().read(filename_path) #read the .tgz file\n",
    "    for t in T: #for each template (t) in the .tgz (T)\n",
    "        print('--------------') #divider between templates\n",
    "        print(t) #print the template details\n",
    "        print(' ') #divider\n",
    "        print('Template Name', end=\" \") #label\n",
    "        print(t.name) #print the template name\n",
    "        t.st.plot() #show the obspy stream of the template\n",
    "        break\n",
    "    break"
   ]
  },
  {
   "cell_type": "code",
   "execution_count": 1,
   "id": "a170cf5a",
   "metadata": {},
   "outputs": [
    {
     "ename": "NameError",
     "evalue": "name 'path' is not defined",
     "output_type": "error",
     "traceback": [
      "\u001b[0;31m---------------------------------------------------------------------------\u001b[0m",
      "\u001b[0;31mNameError\u001b[0m                                 Traceback (most recent call last)",
      "Input \u001b[0;32mIn [1]\u001b[0m, in \u001b[0;36m<module>\u001b[0;34m\u001b[0m\n\u001b[1;32m      5\u001b[0m \u001b[38;5;66;03m#pull all tgz files in a directory\u001b[39;00m\n\u001b[1;32m      6\u001b[0m \u001b[38;5;28;01mfrom\u001b[39;00m \u001b[38;5;21;01mglob\u001b[39;00m \u001b[38;5;28;01mimport\u001b[39;00m glob\n\u001b[0;32m----> 7\u001b[0m \u001b[38;5;28;01mfor\u001b[39;00m filename_path \u001b[38;5;129;01min\u001b[39;00m glob(\u001b[43mpath\u001b[49m\u001b[38;5;241m+\u001b[39m\u001b[38;5;124m'\u001b[39m\u001b[38;5;124m*.tgz\u001b[39m\u001b[38;5;124m'\u001b[39m): \u001b[38;5;66;03m#get name and path for all tgz files in path variable, filename is a str\u001b[39;00m\n\u001b[1;32m      8\u001b[0m     T \u001b[38;5;241m=\u001b[39m Tribe()\u001b[38;5;241m.\u001b[39mread(filename_path) \u001b[38;5;66;03m#read the .tgz file\u001b[39;00m\n\u001b[1;32m      9\u001b[0m     amt_t \u001b[38;5;241m=\u001b[39m \u001b[38;5;28mlen\u001b[39m(T) \u001b[38;5;66;03m#amt_t is number of templates in tgz file\u001b[39;00m\n",
      "\u001b[0;31mNameError\u001b[0m: name 'path' is not defined"
     ]
    }
   ],
   "source": [
    "#get total number of templates across all tgz files\n",
    "\n",
    "amt_list = [] #list of amounts of templates in each tgz file\n",
    "\n",
    "#pull all tgz files in a directory\n",
    "from glob import glob\n",
    "for filename_path in glob(path+'*.tgz'): #get name and path for all tgz files in path variable, filename is a str\n",
    "    T = Tribe().read(filename_path) #read the .tgz file\n",
    "    amt_t = len(T) #amt_t is number of templates in tgz file\n",
    "    amt_list.append(amt_t)\n",
    "\n",
    "print('first 25 of amt_list:',amt_list[:25])\n",
    "total = sum(amt_list) #sum amount of templates for all T \n",
    "print(f'total # of templates: {total}')\n"
   ]
  },
  {
   "cell_type": "code",
   "execution_count": null,
   "id": "7682226a",
   "metadata": {},
   "outputs": [],
   "source": []
  }
 ],
 "metadata": {
  "kernelspec": {
   "display_name": "seismo (SHARED)",
   "language": "python",
   "name": "seismo-py38-shared"
  },
  "language_info": {
   "codemirror_mode": {
    "name": "ipython",
    "version": 3
   },
   "file_extension": ".py",
   "mimetype": "text/x-python",
   "name": "python",
   "nbconvert_exporter": "python",
   "pygments_lexer": "ipython3",
   "version": "3.8.12"
  }
 },
 "nbformat": 4,
 "nbformat_minor": 5
}
