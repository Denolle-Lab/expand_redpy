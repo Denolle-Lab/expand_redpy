{
 "cells": [
  {
   "cell_type": "code",
   "execution_count": 2,
   "id": "a12e8502",
   "metadata": {},
   "outputs": [],
   "source": [
    "import pandas as pd\n",
    "import matplotlib.pyplot as plt\n",
    "import yaml\n",
    "import numpy as np"
   ]
  },
  {
   "cell_type": "code",
   "execution_count": 31,
   "id": "60f2191d",
   "metadata": {},
   "outputs": [
    {
     "name": "stdout",
     "output_type": "stream",
     "text": [
      "Hood\n"
     ]
    }
   ],
   "source": [
    "#see config file for parameter explanations\n",
    "with open('/home/smocz/expand_redpy/scripts/config.yaml') as file:\n",
    "    config = yaml.load(file, Loader=yaml.FullLoader)\n",
    "\n",
    "vv = config['vv']\n",
    "# vv=2\n",
    "volc_list_names = config['volc_list_names']\n",
    "volc = volc_list_names[vv]\n",
    "print(volc)\n",
    "\n",
    "readdir = config['readdir']\n",
    "homedir = config['homedir']\n",
    "years = config['years']\n",
    "# minsta = config['minsta']\n",
    "minsta = 3\n",
    "wi = config['wi']"
   ]
  },
  {
   "cell_type": "code",
   "execution_count": 32,
   "id": "94b632c2",
   "metadata": {},
   "outputs": [],
   "source": [
    "#read in csvs\n",
    "\n",
    "#naming conventions is minsta then delay (wi)\n",
    "threethree = pd.read_csv(f'{homedir}final_catalogs/{volc}_updated_catalog.csv')\n",
    "twothree = pd.read_csv(f'{homedir}final_catalogs/{volc}_updated_catalog_minsta2_delay3.csv')\n",
    "twofive = pd.read_csv(f'{homedir}final_catalogs/{volc}_updated_catalog_minsta2_delay5.csv')\n",
    "onethree = pd.read_csv(f'{homedir}final_catalogs/{volc}_updated_catalog_minsta1_delay3.csv')\n",
    "\n",
    "if minsta==1:\n",
    "    df = onethree.copy()\n",
    "    \n",
    "if minsta==2:\n",
    "    df = twothree.copy()\n",
    "    \n",
    "if minsta==3:\n",
    "    df = threethree.copy()"
   ]
  },
  {
   "cell_type": "code",
   "execution_count": 34,
   "id": "dcd18ae7",
   "metadata": {
    "scrolled": false
   },
   "outputs": [
    {
     "name": "stdout",
     "output_type": "stream",
     "text": [
      "2 15\n",
      "10 19\n",
      "64 13\n",
      "83 31\n",
      "121 14\n"
     ]
    },
    {
     "data": {
      "text/plain": [
       "<function matplotlib.pyplot.show(close=None, block=None)>"
      ]
     },
     "execution_count": 34,
     "metadata": {},
     "output_type": "execute_result"
    },
    {
     "data": {
      "image/png": "[encoded data removed]",
      "text/plain": [
       "<Figure size 864x576 with 2 Axes>"
      ]
     },
     "metadata": {
      "needs_background": "light"
     },
     "output_type": "display_data"
    }
   ],
   "source": [
    "summer_months = list(np.arange(4,10,1)) #apr-sep (winter is then oct-mar)\n",
    "\n",
    "fig, axs = plt.subplots(nrows=1, ncols=2,figsize = (12,8))\n",
    "\n",
    "fig.suptitle(f'Number of Backfilled Events for Minimum {minsta} Station(s) on {volc}')\n",
    "\n",
    "######################\n",
    "### EVENTS PER DAY ###\n",
    "######################\n",
    "\n",
    "#sort data\n",
    "dates = [str(i).split('T')[0] for i in df['Earliest_Detection_Time'].values.tolist()]\n",
    "x = list(np.unique(dates))\n",
    "y = [dates.count(i) for i in x]\n",
    "# top_y_list.append(max(y))\n",
    "# date_minmax.append(min(x))\n",
    "# date_minmax.append(max(x))\n",
    "\n",
    "# x_list.append(x)\n",
    "# y_list.append(y)\n",
    "\n",
    "#plot\n",
    "for xx,yy in zip(x,y):\n",
    "    xx = pd.to_datetime(xx)\n",
    "    if xx.month in summer_months: #if its in summer\n",
    "        axs[0].vlines(xx,ymin=0,ymax=yy, color='red')\n",
    "    else: #if its in winter\n",
    "        axs[0].vlines(xx,ymin=0,ymax=yy, color='#BFD7EA')\n",
    "        \n",
    "axs[0].grid(which='major')\n",
    "axs[0].grid(which='minor',color='#EEEEEE')\n",
    "\n",
    "axs[0].set_ylabel('Number of Events per Day')\n",
    "axs[0].set_xlabel('Date')\n",
    "\n",
    "##########################\n",
    "### EVENTS PER CLUSTER ###\n",
    "##########################\n",
    "\n",
    "clusters = [int(i) for i in df['Cluster_ID'].values.tolist()]\n",
    "x = list(np.unique(clusters))\n",
    "y = [clusters.count(i) for i in x]\n",
    "# top_y_list.append(max(y))\n",
    "# date_minmax.append(min(x))\n",
    "# date_minmax.append(max(x))\n",
    "\n",
    "# x_list.append(x)\n",
    "# y_list.append(y)\n",
    "\n",
    "#plot\n",
    "for xx,yy in zip(x,y):\n",
    "    axs[1].vlines(xx,ymin=0,ymax=yy, color='black')\n",
    "    \n",
    "    if yy in np.sort(y)[-5:]: #if xx is in the top 5 values\n",
    "        print(xx,yy)\n",
    "        axs[1].annotate(xx, xy=(xx,yy), color='red', size=10, va=\"bottom\", ha=\"center\") #label it\n",
    "        \n",
    "axs[1].grid(which='major')\n",
    "axs[1].grid(which='minor',color='#EEEEEE')\n",
    "axs[1].set_title(f'minsta={minsta}, wi={wi}')\n",
    "\n",
    "axs[1].set_ylabel('Number of Events per Cluster')\n",
    "axs[1].set_xlabel('REDPy Cluster')\n",
    "\n",
    "plt.show"
   ]
  },
  {
   "cell_type": "code",
   "execution_count": null,
   "id": "6d56c279",
   "metadata": {},
   "outputs": [],
   "source": []
  }
 ],
 "metadata": {
  "kernelspec": {
   "display_name": "seismo 3.8 (SHARED)",
   "language": "python",
   "name": "seismo-py38-shared"
  },
  "language_info": {
   "codemirror_mode": {
    "name": "ipython",
    "version": 3
   },
   "file_extension": ".py",
   "mimetype": "text/x-python",
   "name": "python",
   "nbconvert_exporter": "python",
   "pygments_lexer": "ipython3",
   "version": "3.8.12"
  }
 },
 "nbformat": 4,
 "nbformat_minor": 5
}
