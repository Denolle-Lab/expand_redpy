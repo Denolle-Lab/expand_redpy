{
 "cells": [
  {
   "cell_type": "markdown",
   "id": "ccc44d97",
   "metadata": {},
   "source": [
    "Created 7/12/2024\n",
    "\n",
    "Updated 7/18/2024\n",
    "\n",
    "\n",
    "The purpose of this plot is to show how a known event in the present (with multiple stations), such as those in the REDPy catalog, can be seen back in time, even with less stations, as long as we know the fingerprint.\n",
    "\n",
    "In other words, even if we see a waveform at only one station in 2002, if it is close enough to a waveform in 2022 on the same station that was also seen at 6 other stations, we can use the validity of the modern (2022) event to retroactively add information to the 2002 event."
   ]
  },
  {
   "cell_type": "code",
   "execution_count": 3,
   "id": "d1adc2cc",
   "metadata": {},
   "outputs": [],
   "source": [
    "import pandas as pd #for reading csv and sorting through data\n",
    "import matplotlib.pyplot as plt #for plotting\n",
    "from matplotlib.offsetbox import (TextArea, DrawingArea, OffsetImage,\n",
    "                                  AnnotationBbox)\n",
    "from matplotlib.gridspec import GridSpec #for organizing subplots\n",
    "import PIL\n",
    "from IPython.display import SVG #for displaying svg files in the notebook\n",
    "from glob import glob #for gathering multiple similar files (displaying svg)\n",
    "import yaml #for parameters\n",
    "import numpy as np #for np.unique and np.sort\n",
    "\n",
    "import obspy\n",
    "from obspy import UTCDateTime\n",
    "from obspy import Trace\n",
    "from obspy.clients.fdsn import Client\n",
    "\n",
    "client = Client('IRIS')"
   ]
  },
  {
   "cell_type": "code",
   "execution_count": 4,
   "id": "32b4da8b",
   "metadata": {},
   "outputs": [
    {
     "name": "stdout",
     "output_type": "stream",
     "text": [
      "Rainier\n"
     ]
    }
   ],
   "source": [
    "#see config file for parameter explanations\n",
    "with open('/home/smocz/expand_redpy/scripts/config.yaml') as file:\n",
    "    config = yaml.load(file, Loader=yaml.FullLoader)\n",
    "\n",
    "vv = config['vv']\n",
    "# vv=2\n",
    "volc_list_names = config['volc_list_names']\n",
    "volc = volc_list_names[vv]\n",
    "print(volc)\n",
    "\n",
    "readdir = config['readdir']\n",
    "homedir = config['homedir']\n",
    "years = config['years']\n",
    "minsta = config['minsta']\n",
    "# minsta = 3\n",
    "wi = config['wi']\n",
    "\n",
    "chan = config['chan']\n",
    "fqmin = config['fqmin']\n",
    "fqmax = config['fqmax']\n",
    "fs = config['fs']"
   ]
  },
  {
   "cell_type": "code",
   "execution_count": 5,
   "id": "9a183699",
   "metadata": {},
   "outputs": [],
   "source": [
    "#read in csvs\n",
    "\n",
    "#naming conventions is minsta then delay (wi)\n",
    "# threethree = pd.read_csv(f'{homedir}final_catalogs/{volc}_updated_catalog.csv')\n",
    "# twothree = pd.read_csv(f'{homedir}final_catalogs/{volc}_updated_catalog_minsta2.csv')\n",
    "onethree = pd.read_csv(f'{homedir}final_catalogs/{volc}_updated_catalog_minsta1.csv')\n",
    "\n",
    "if minsta==1:\n",
    "    df = onethree.copy()\n",
    "    \n",
    "if minsta==2:\n",
    "    df = twothree.copy()\n",
    "    \n",
    "if minsta==3:\n",
    "    df = threethree.copy()"
   ]
  },
  {
   "cell_type": "code",
   "execution_count": 6,
   "id": "01c51228",
   "metadata": {},
   "outputs": [
    {
     "data": {
      "text/html": [
       "<div>\n",
       "<style scoped>\n",
       "    .dataframe tbody tr th:only-of-type {\n",
       "        vertical-align: middle;\n",
       "    }\n",
       "\n",
       "    .dataframe tbody tr th {\n",
       "        vertical-align: top;\n",
       "    }\n",
       "\n",
       "    .dataframe thead th {\n",
       "        text-align: right;\n",
       "    }\n",
       "</style>\n",
       "<table border=\"1\" class=\"dataframe\">\n",
       "  <thead>\n",
       "    <tr style=\"text-align: right;\">\n",
       "      <th></th>\n",
       "      <th>Earliest_Detection_Time</th>\n",
       "      <th>Cluster_ID</th>\n",
       "      <th>Stations_Found</th>\n",
       "      <th>Stations</th>\n",
       "    </tr>\n",
       "  </thead>\n",
       "  <tbody>\n",
       "    <tr>\n",
       "      <th>0</th>\n",
       "      <td>2002-05-29T21:01:54.750900Z</td>\n",
       "      <td>1</td>\n",
       "      <td>1</td>\n",
       "      <td>UW.RCS</td>\n",
       "    </tr>\n",
       "    <tr>\n",
       "      <th>1</th>\n",
       "      <td>2002-07-06T17:49:08.798700Z</td>\n",
       "      <td>1</td>\n",
       "      <td>1</td>\n",
       "      <td>UW.RCS</td>\n",
       "    </tr>\n",
       "    <tr>\n",
       "      <th>2</th>\n",
       "      <td>2002-07-07T02:14:19.153100Z</td>\n",
       "      <td>1</td>\n",
       "      <td>1</td>\n",
       "      <td>UW.RCS</td>\n",
       "    </tr>\n",
       "    <tr>\n",
       "      <th>3</th>\n",
       "      <td>2002-07-14T23:07:43.782600Z</td>\n",
       "      <td>1</td>\n",
       "      <td>1</td>\n",
       "      <td>UW.RCS</td>\n",
       "    </tr>\n",
       "    <tr>\n",
       "      <th>4</th>\n",
       "      <td>2002-10-26T04:46:54.600800Z</td>\n",
       "      <td>1</td>\n",
       "      <td>1</td>\n",
       "      <td>UW.RCS</td>\n",
       "    </tr>\n",
       "    <tr>\n",
       "      <th>...</th>\n",
       "      <td>...</td>\n",
       "      <td>...</td>\n",
       "      <td>...</td>\n",
       "      <td>...</td>\n",
       "    </tr>\n",
       "    <tr>\n",
       "      <th>580015</th>\n",
       "      <td>2021-08-17T03:26:52.050000Z</td>\n",
       "      <td>858</td>\n",
       "      <td>1</td>\n",
       "      <td>CC.PR04</td>\n",
       "    </tr>\n",
       "    <tr>\n",
       "      <th>580016</th>\n",
       "      <td>2021-08-18T14:07:43.575000Z</td>\n",
       "      <td>865</td>\n",
       "      <td>1</td>\n",
       "      <td>CC.PR04</td>\n",
       "    </tr>\n",
       "    <tr>\n",
       "      <th>580017</th>\n",
       "      <td>2021-12-08T06:03:57.375000Z</td>\n",
       "      <td>891</td>\n",
       "      <td>1</td>\n",
       "      <td>CC.RUSH</td>\n",
       "    </tr>\n",
       "    <tr>\n",
       "      <th>580018</th>\n",
       "      <td>2021-12-08T05:54:22.900000Z</td>\n",
       "      <td>891</td>\n",
       "      <td>1</td>\n",
       "      <td>CC.RUSH</td>\n",
       "    </tr>\n",
       "    <tr>\n",
       "      <th>580019</th>\n",
       "      <td>2021-12-08T23:54:08.475000Z</td>\n",
       "      <td>901</td>\n",
       "      <td>1</td>\n",
       "      <td>CC.RUSH</td>\n",
       "    </tr>\n",
       "  </tbody>\n",
       "</table>\n",
       "<p>580020 rows × 4 columns</p>\n",
       "</div>"
      ],
      "text/plain": [
       "            Earliest_Detection_Time  Cluster_ID  Stations_Found Stations\n",
       "0       2002-05-29T21:01:54.750900Z           1               1   UW.RCS\n",
       "1       2002-07-06T17:49:08.798700Z           1               1   UW.RCS\n",
       "2       2002-07-07T02:14:19.153100Z           1               1   UW.RCS\n",
       "3       2002-07-14T23:07:43.782600Z           1               1   UW.RCS\n",
       "4       2002-10-26T04:46:54.600800Z           1               1   UW.RCS\n",
       "...                             ...         ...             ...      ...\n",
       "580015  2021-08-17T03:26:52.050000Z         858               1  CC.PR04\n",
       "580016  2021-08-18T14:07:43.575000Z         865               1  CC.PR04\n",
       "580017  2021-12-08T06:03:57.375000Z         891               1  CC.RUSH\n",
       "580018  2021-12-08T05:54:22.900000Z         891               1  CC.RUSH\n",
       "580019  2021-12-08T23:54:08.475000Z         901               1  CC.RUSH\n",
       "\n",
       "[580020 rows x 4 columns]"
      ]
     },
     "execution_count": 6,
     "metadata": {},
     "output_type": "execute_result"
    }
   ],
   "source": [
    "df"
   ]
  },
  {
   "cell_type": "code",
   "execution_count": 10,
   "id": "e44a9d96",
   "metadata": {},
   "outputs": [
    {
     "name": "stdout",
     "output_type": "stream",
     "text": [
      "[Timestamp('2002-05-29 21:01:54.750900+0000', tz='UTC'), Timestamp('2006-06-25 22:51:59.384900+0000', tz='UTC'), Timestamp('2010-05-08 11:55:07.801300+0000', tz='UTC'), Timestamp('2013-03-31 10:44:18.075000+0000', tz='UTC'), Timestamp('2018-12-25 18:24:32.100062+0000', tz='UTC'), Timestamp('2018-12-31 02:43:22.425007+0000', tz='UTC')]\n"
     ]
    }
   ],
   "source": [
    "selected_station = 'UW.RCS'\n",
    "cluster = 1\n",
    "date_list = [pd.to_datetime(i) for i in np.sort(df[(df['Stations']==selected_station) & (df['Cluster_ID']==cluster)]['Earliest_Detection_Time'].values.tolist())]\n",
    "\n",
    "early = np.sort(date_list)[0]\n",
    "late = np.sort(date_list)[-1]\n",
    "\n",
    "diff = late-early\n",
    "\n",
    "num = 4 #the number of events to include besides early and late (so num=3 means 5 total events shown)\n",
    "#if there are few events across time, there may be less than this number displayed but never more\n",
    "height = 8\n",
    "seg_levels = [(i if ii/2==round(ii/2) else -i) for ii,i in enumerate([height]*(num+1))]\n",
    "\n",
    "s_list = []\n",
    "for segment in range(0,num):\n",
    "    time_seg = early+segment*(diff/num)\n",
    "    s_list.append(time_seg)\n",
    "s_list.append(late)\n",
    "\n",
    "# fig, ax = plt.subplots(figsize=(8.8, 4), layout=\"constrained\")\n",
    "# ax.set(title=\"Raw Dates and Segments\")\n",
    "# ax.axhline(0, c=\"black\")\n",
    "# ax.vlines(s_list, 0, [abs(i) for i in seg_levels])\n",
    "# ax.vlines(date_list, 0, [height/2]*len(date_list),color='black')\n",
    "\n",
    "# ax.yaxis.set_visible(False)\n",
    "# ax.xaxis.set_visible(False)\n",
    "# ax.spines[[\"left\", \"top\", \"right\",\"bottom\"]].set_visible(False)\n",
    "\n",
    "# plt.show()\n",
    "# plt.close()\n",
    "################################################\n",
    "\n",
    "plot_list = []\n",
    "plot_list.append(early)\n",
    "for ss,s in enumerate(s_list):\n",
    "#     print('---')\n",
    "    if s == s_list[-1]:\n",
    "        break\n",
    "        \n",
    "    between_list = []\n",
    "    for d in date_list:\n",
    "        if d.date() == late.date():\n",
    "#             print(d.date())\n",
    "            continue\n",
    "        if d>s_list[ss] and d<s_list[ss+1]: #if between these dates\n",
    "            between_list.append(d)\n",
    "    if len(between_list)==1:\n",
    "        plot_list.append(between_list[0])\n",
    "        continue\n",
    "    if len(between_list)>1:\n",
    "        midpoint = s_list[ss]+(diff/2*num)\n",
    "        dif_list = []\n",
    "        for b in between_list:\n",
    "            dif = abs(midpoint-b)\n",
    "            dif_list.append(dif)\n",
    "        plot_list.append(between_list[dif_list.index(min(dif_list))])\n",
    "            \n",
    "plot_list.append(late)\n",
    "\n",
    "print(plot_list)\n",
    "\n",
    "date_levels = [(i if ii/2==round(ii/2) else -i) for ii,i in enumerate([height]*len(plot_list))]"
   ]
  },
  {
   "cell_type": "code",
   "execution_count": 11,
   "id": "77d54b8c",
   "metadata": {
    "scrolled": true
   },
   "outputs": [
    {
     "name": "stdout",
     "output_type": "stream",
     "text": [
      "2002-5-29 for UW.RCS\n"
     ]
    },
    {
     "data": {
      "image/png": "[encoded data removed]",
      "text/plain": [
       "<Figure size 288x288 with 1 Axes>"
      ]
     },
     "metadata": {
      "needs_background": "light"
     },
     "output_type": "display_data"
    },
    {
     "name": "stdout",
     "output_type": "stream",
     "text": [
      "2006-6-25 for UW.RCS\n"
     ]
    },
    {
     "data": {
      "image/png": "[encoded data removed]",
      "text/plain": [
       "<Figure size 288x288 with 1 Axes>"
      ]
     },
     "metadata": {
      "needs_background": "light"
     },
     "output_type": "display_data"
    },
    {
     "name": "stdout",
     "output_type": "stream",
     "text": [
      "2010-5-8 for UW.RCS\n"
     ]
    },
    {
     "data": {
      "image/png": "[encoded data removed]",
      "text/plain": [
       "<Figure size 288x288 with 1 Axes>"
      ]
     },
     "metadata": {
      "needs_background": "light"
     },
     "output_type": "display_data"
    },
    {
     "name": "stdout",
     "output_type": "stream",
     "text": [
      "2013-3-31 for UW.RCS\n"
     ]
    },
    {
     "data": {
      "image/png": "[encoded data removed]",
      "text/plain": [
       "<Figure size 288x288 with 1 Axes>"
      ]
     },
     "metadata": {
      "needs_background": "light"
     },
     "output_type": "display_data"
    },
    {
     "name": "stdout",
     "output_type": "stream",
     "text": [
      "2018-12-25 for UW.RCS\n"
     ]
    },
    {
     "data": {
      "image/png": "[encoded data removed]",
      "text/plain": [
       "<Figure size 288x288 with 1 Axes>"
      ]
     },
     "metadata": {
      "needs_background": "light"
     },
     "output_type": "display_data"
    },
    {
     "name": "stdout",
     "output_type": "stream",
     "text": [
      "2018-12-31 for UW.RCS\n"
     ]
    },
    {
     "data": {
      "image/png": "[encoded data removed]",
      "text/plain": [
       "<Figure size 288x288 with 1 Axes>"
      ]
     },
     "metadata": {
      "needs_background": "light"
     },
     "output_type": "display_data"
    }
   ],
   "source": [
    "#pull waveforms at the times in plot_list\n",
    "\n",
    "wave_pictures =[]\n",
    "for wavedate in plot_list:\n",
    "    \n",
    "    print(f'{wavedate.year}-{wavedate.month}-{wavedate.day} for {selected_station}')\n",
    "    \n",
    "    net = selected_station.split('.')[0]\n",
    "    sta = selected_station.split('.')[1]\n",
    "    \n",
    "    sst = UTCDateTime(wavedate)\n",
    "    et = UTCDateTime(wavedate)+20\n",
    "    \n",
    "    \n",
    "    st = client.get_waveforms(network=net,station=sta,location='*',\n",
    "                              channel=chan, starttime=sst, endtime=et)\n",
    "    st = st.detrend(type = 'demean')\n",
    "    st.filter(type='bandpass',freqmin=fqmin,freqmax=fqmax)\n",
    "    st.resample(fs) #get same sampling rate for all events\n",
    "    st.merge(fill_value = 0)\n",
    "    \n",
    "    fig, ax = plt.subplots(figsize=(4,4),facecolor='none')\n",
    "    ax.plot(st[0].data[:],color='black')\n",
    "    ax.yaxis.set_visible(False)\n",
    "    ax.xaxis.set_visible(False)\n",
    "    ax.spines[[\"left\", \"top\", \"right\",\"bottom\"]].set_visible(False)\n",
    "    \n",
    "    \n",
    "    fig.canvas.draw() #need to use draw for buffer_rgba() to work\n",
    "    pix = np.array(fig.canvas.buffer_rgba()) #get image as pixels\n",
    "    wave_pictures.append(pix)\n",
    "    \n",
    "    plt.show()\n",
    "    plt.close()\n",
    "    \n",
    "    \n",
    "#     break"
   ]
  },
  {
   "cell_type": "code",
   "execution_count": 13,
   "id": "50cd7897",
   "metadata": {},
   "outputs": [
    {
     "data": {
      "image/png": "[encoded data removed]",
      "text/plain": [
       "<Figure size 576x288 with 1 Axes>"
      ]
     },
     "metadata": {
      "needs_background": "light"
     },
     "output_type": "display_data"
    }
   ],
   "source": [
    "fig, ax = plt.subplots(figsize=(8, 4), layout=\"constrained\")\n",
    "ax.set_title(f\"Backfilled Events Through Time on {selected_station} REDPy Cluster {cluster}\",pad=100)\n",
    "ax.axhline(0, c=\"black\")\n",
    "# ax.vlines(s_list, 0, seg_levels)\n",
    "ax.vlines(plot_list, 0, date_levels,color='black')\n",
    "\n",
    "ax.yaxis.set_visible(False)\n",
    "ax.xaxis.set_visible(False)\n",
    "ax.spines[[\"left\", \"top\", \"right\",\"bottom\"]].set_visible(False)\n",
    "\n",
    "\n",
    "for (en, wavedate),wave_pic in zip(enumerate(plot_list),wave_pictures):\n",
    "    im = OffsetImage(wave_pic, zoom=0.5)\n",
    "    im.image.axes = ax\n",
    "    \n",
    "    \n",
    "    level = date_levels[en]\n",
    "    xy = [wavedate, level]\n",
    "    \n",
    "    if level == abs(level): #if level is positive\n",
    "        change = -2\n",
    "        boxy = 30\n",
    "    else:\n",
    "        change = 2\n",
    "        boxy = -40\n",
    "\n",
    "    ab = AnnotationBbox(im, xy,xybox=(-10, boxy),xycoords='data',boxcoords=\"offset points\",frameon=False)\n",
    "\n",
    "    ax.add_artist(ab)\n",
    "    \n",
    "\n",
    "    \n",
    "    textxy = [xy[0]+pd.Timedelta(days=50),xy[1]+change]\n",
    "    ax.annotate(str(wavedate).split(' ')[0],textxy)\n",
    "plt.show()\n",
    "\n",
    "################################################"
   ]
  },
  {
   "cell_type": "markdown",
   "id": "5ee9dcb5",
   "metadata": {},
   "source": [
    "Planning"
   ]
  },
  {
   "cell_type": "code",
   "execution_count": 79,
   "id": "e81ef8ad",
   "metadata": {},
   "outputs": [
    {
     "data": {
      "image/png": "[encoded data removed]",
      "text/plain": [
       "<Figure size 633.6x288 with 1 Axes>"
      ]
     },
     "metadata": {
      "needs_background": "light"
     },
     "output_type": "display_data"
    },
    {
     "name": "stdout",
     "output_type": "stream",
     "text": [
      "[Timestamp('2001-07-18 07:24:32.275000+0000', tz='UTC'), Timestamp('2004-07-18 07:24:32.275000+0000', tz='UTC'), Timestamp('2007-01-18 07:24:32.275000+0000', tz='UTC'), Timestamp('2013-07-18 07:24:32.275000+0000', tz='UTC'), Timestamp('2019-07-31 07:24:32.275000+0000', tz='UTC'), Timestamp('2020-07-18 07:24:32.275000+0000', tz='UTC')]\n"
     ]
    },
    {
     "data": {
      "image/png": "[encoded data removed]",
      "text/plain": [
       "<Figure size 633.6x288 with 1 Axes>"
      ]
     },
     "metadata": {
      "needs_background": "light"
     },
     "output_type": "display_data"
    }
   ],
   "source": [
    "faux_dates = [pd.to_datetime(i) for i in np.sort(['2001-07-18T07:24:32.275000Z','2002-07-10T07:24:32.275000Z',\n",
    "                                                  '2004-07-18T07:24:32.275000Z','2006-07-18T07:24:32.275000Z',\n",
    "                                                  '2007-01-18T07:24:32.275000Z','2006-10-18T07:24:32.275000Z',\n",
    "                                                  '2013-07-18T07:24:32.275000Z','2016-07-18T07:24:32.275000Z',\n",
    "                                                  '2019-07-31T07:24:32.275000Z','2020-07-18T07:24:32.275000Z',\n",
    "                                                  '2019-05-18T07:24:32.275000Z'])]\n",
    "\n",
    "early = np.sort(faux_dates)[0]\n",
    "late = np.sort(faux_dates)[-1]\n",
    "\n",
    "diff = late-early\n",
    "\n",
    "num = 4 #the number of events to include besides early and late (so num=3 means 5 total events shown)\n",
    "#if there are few events across time, there may be less than this number displayed but never more\n",
    "height = 8\n",
    "seg_levels = [(i if ii/2==round(ii/2) else -i) for ii,i in enumerate([height]*(num+1))]\n",
    "\n",
    "s_list = []\n",
    "for segment in range(0,num):\n",
    "    time_seg = early+segment*(diff/num)\n",
    "    s_list.append(time_seg)\n",
    "s_list.append(late)\n",
    "\n",
    "fig, ax = plt.subplots(figsize=(8.8, 4), layout=\"constrained\")\n",
    "ax.set(title=\"Raw Dates and Segments\")\n",
    "ax.axhline(0, c=\"black\")\n",
    "ax.vlines(s_list, 0, [abs(i) for i in seg_levels])\n",
    "ax.vlines(faux_dates, 0, [height/2]*len(faux_dates),color='black')\n",
    "\n",
    "ax.yaxis.set_visible(False)\n",
    "ax.xaxis.set_visible(False)\n",
    "ax.spines[[\"left\", \"top\", \"right\",\"bottom\"]].set_visible(False)\n",
    "\n",
    "plt.show()\n",
    "plt.close()\n",
    "################################################\n",
    "\n",
    "plot_list = []\n",
    "plot_list.append(early)\n",
    "for ss,s in enumerate(s_list):\n",
    "#     print('---')\n",
    "    if s == s_list[-1]:\n",
    "        break\n",
    "        \n",
    "    between_list = []\n",
    "    for d in faux_dates:\n",
    "        if d>s_list[ss] and d<s_list[ss+1]: #if between these dates\n",
    "            between_list.append(d)\n",
    "    if len(between_list)==1:\n",
    "        plot_list.append(between_list[0])\n",
    "        continue\n",
    "    if len(between_list)>1:\n",
    "        midpoint = s_list[ss]+(diff/2*num)\n",
    "        dif_list = []\n",
    "        for b in between_list:\n",
    "            dif = abs(midpoint-b)\n",
    "            dif_list.append(dif)\n",
    "        plot_list.append(between_list[dif_list.index(min(dif_list))])\n",
    "            \n",
    "plot_list.append(late)\n",
    "\n",
    "print(plot_list)\n",
    "\n",
    "date_levels = [(i if ii/2==round(ii/2) else -i) for ii,i in enumerate([height]*len(plot_list))]\n",
    "\n",
    "################################################\n",
    "    \n",
    "fig, ax = plt.subplots(figsize=(8.8, 4), layout=\"constrained\")\n",
    "ax.set_title(\"Selected Dates\",pad=50)\n",
    "ax.axhline(0, c=\"black\")\n",
    "# ax.vlines(s_list, 0, seg_levels)\n",
    "ax.vlines(plot_list, 0, date_levels,color='black')\n",
    "\n",
    "ax.yaxis.set_visible(False)\n",
    "ax.xaxis.set_visible(False)\n",
    "ax.spines[[\"left\", \"top\", \"right\",\"bottom\"]].set_visible(False)\n",
    "\n",
    "## add faux images ##\n",
    "\n",
    "#create faux image\n",
    "arr = np.arange(800).reshape((20, 40))\n",
    "im = OffsetImage(arr, zoom=2)\n",
    "im.image.axes = ax\n",
    "\n",
    "for en,pl in enumerate(plot_list):\n",
    "    level = date_levels[en]\n",
    "    xy = [pl, level]\n",
    "    \n",
    "    if level == abs(level): #if level is positive\n",
    "        change = -2\n",
    "        boxy = 20\n",
    "    else:\n",
    "        change = 2\n",
    "        boxy = -20\n",
    "\n",
    "    ab = AnnotationBbox(im, xy,xybox=(30, boxy),xycoords='data',boxcoords=\"offset points\")\n",
    "\n",
    "    ax.add_artist(ab)\n",
    "    \n",
    "\n",
    "    \n",
    "    textxy = [xy[0]+pd.Timedelta(days=50),xy[1]+change]\n",
    "    ax.annotate(str(pl).split(' ')[0],textxy)\n",
    "plt.show()\n",
    "\n",
    "################################################"
   ]
  },
  {
   "cell_type": "code",
   "execution_count": null,
   "id": "b5eec1eb",
   "metadata": {},
   "outputs": [],
   "source": [
    "#select dates to plot\n",
    "\n",
    "#get waveforms for those dates as images (using pillow)\n",
    "\n",
    "#create plot"
   ]
  },
  {
   "cell_type": "markdown",
   "id": "8bdd4535",
   "metadata": {},
   "source": [
    "Testing"
   ]
  },
  {
   "cell_type": "code",
   "execution_count": 26,
   "id": "92b8a7a9",
   "metadata": {},
   "outputs": [
    {
     "name": "stdout",
     "output_type": "stream",
     "text": [
      "[4, -4, 4, -4, 4, -4]\n"
     ]
    }
   ],
   "source": [
    "#get levels (alternating)\n",
    "\n",
    "n=6 #length of levels\n",
    "height = 4 #height (distance from horizontal line) of vlines\n",
    "\n",
    "levels = [(i if ii/2==round(ii/2) else -i) for ii,i in enumerate([height]*n)]\n",
    "print(levels)"
   ]
  },
  {
   "cell_type": "code",
   "execution_count": null,
   "id": "d2eac517",
   "metadata": {},
   "outputs": [],
   "source": [
    "# The figure and the axes.\n",
    "fig, ax = plt.subplots(figsize=(8.8, 4), layout=\"constrained\")\n",
    "ax.set(title=\"Matplotlib release dates\")\n",
    "\n",
    "# The vertical stems.\n",
    "ax.vlines(dates, 0, levels,\n",
    "          color=\"tab:red\")\n",
    "# The baseline.\n",
    "ax.axhline(0, c=\"black\")"
   ]
  },
  {
   "cell_type": "code",
   "execution_count": 18,
   "id": "747ef1b3",
   "metadata": {},
   "outputs": [
    {
     "data": {
      "text/plain": [
       "<matplotlib.offsetbox.AnnotationBbox at 0x7f8c5124b340>"
      ]
     },
     "execution_count": 18,
     "metadata": {},
     "output_type": "execute_result"
    },
    {
     "data": {
      "image/png": "[encoded data removed]",
      "text/plain": [
       "<Figure size 432x288 with 1 Axes>"
      ]
     },
     "metadata": {
      "needs_background": "light"
     },
     "output_type": "display_data"
    }
   ],
   "source": [
    "import matplotlib.pyplot as plt\n",
    "import numpy as np\n",
    "\n",
    "from matplotlib.patches import Circle\n",
    "from matplotlib.offsetbox import (TextArea, DrawingArea, OffsetImage,\n",
    "                                  AnnotationBbox)\n",
    "from matplotlib.cbook import get_sample_data\n",
    "    \n",
    "fig, ax = plt.subplots()  \n",
    "\n",
    "xy = [0.3, 0.55]\n",
    "\n",
    "# Annotate the 2nd position with an image (a generated array of pixels)\n",
    "arr = np.arange(100).reshape((10, 10))\n",
    "im = OffsetImage(arr, zoom=2)\n",
    "im.image.axes = ax\n",
    "\n",
    "ab = AnnotationBbox(im, xy,\n",
    "                    xybox=(-50., 50.),\n",
    "                    xycoords='data',\n",
    "                    boxcoords=\"offset points\",\n",
    "                    pad=0.3,\n",
    "                    arrowprops=dict(arrowstyle=\"->\"))\n",
    "\n",
    "ax.add_artist(ab)"
   ]
  },
  {
   "cell_type": "code",
   "execution_count": null,
   "id": "d493198b",
   "metadata": {},
   "outputs": [],
   "source": []
  },
  {
   "cell_type": "code",
   "execution_count": 7,
   "id": "924c339e",
   "metadata": {},
   "outputs": [],
   "source": [
    "from datetime import datetime\n",
    "\n",
    "import matplotlib.pyplot as plt\n",
    "import numpy as np\n",
    "\n",
    "import matplotlib.dates as mdates\n",
    "\n",
    "try:\n",
    "    # Try to fetch a list of Matplotlib releases and their dates\n",
    "    # from https://api.github.com/repos/matplotlib/matplotlib/releases\n",
    "    import json\n",
    "    import urllib.request\n",
    "\n",
    "    url = 'https://api.github.com/repos/matplotlib/matplotlib/releases'\n",
    "    url += '?per_page=100'\n",
    "    data = json.loads(urllib.request.urlopen(url, timeout=1).read().decode())\n",
    "\n",
    "    dates = []\n",
    "    releases = []\n",
    "    for item in data:\n",
    "        if 'rc' not in item['tag_name'] and 'b' not in item['tag_name']:\n",
    "            dates.append(item['published_at'].split(\"T\")[0])\n",
    "            releases.append(item['tag_name'].lstrip(\"v\"))\n",
    "\n",
    "except Exception:\n",
    "    # In case the above fails, e.g. because of missing internet connection\n",
    "    # use the following lists as fallback.\n",
    "    releases = ['2.2.4', '3.0.3', '3.0.2', '3.0.1', '3.0.0', '2.2.3',\n",
    "                '2.2.2', '2.2.1', '2.2.0', '2.1.2', '2.1.1', '2.1.0',\n",
    "                '2.0.2', '2.0.1', '2.0.0', '1.5.3', '1.5.2', '1.5.1',\n",
    "                '1.5.0', '1.4.3', '1.4.2', '1.4.1', '1.4.0']\n",
    "    dates = ['2019-02-26', '2019-02-26', '2018-11-10', '2018-11-10',\n",
    "             '2018-09-18', '2018-08-10', '2018-03-17', '2018-03-16',\n",
    "             '2018-03-06', '2018-01-18', '2017-12-10', '2017-10-07',\n",
    "             '2017-05-10', '2017-05-02', '2017-01-17', '2016-09-09',\n",
    "             '2016-07-03', '2016-01-10', '2015-10-29', '2015-02-16',\n",
    "             '2014-10-26', '2014-10-18', '2014-08-26']\n",
    "\n",
    "dates = [datetime.strptime(d, \"%Y-%m-%d\") for d in dates]  # Convert strs to dates.\n",
    "dates, releases = zip(*sorted(zip(dates, releases)))  # Sort by increasing date."
   ]
  },
  {
   "cell_type": "code",
   "execution_count": 16,
   "id": "5eb80d1d",
   "metadata": {
    "scrolled": false
   },
   "outputs": [
    {
     "data": {
      "image/png": "[encoded data removed]",
      "text/plain": [
       "<Figure size 633.6x288 with 1 Axes>"
      ]
     },
     "metadata": {
      "needs_background": "light"
     },
     "output_type": "display_data"
    }
   ],
   "source": [
    "# Choose some nice levels: alternate minor releases between top and bottom, and\n",
    "# progressievly shorten the stems for bugfix releases.\n",
    "levels = []\n",
    "major_minor_releases = sorted({release[:3] for release in releases})\n",
    "for release in releases:\n",
    "    major_minor = release[:3]\n",
    "    bugfix = int(release[4])\n",
    "    h = 1 + 0.8 * (5 - bugfix)\n",
    "    level = h if major_minor_releases.index(major_minor) % 2 == 0 else -h\n",
    "    levels.append(level)\n",
    "\n",
    "# The figure and the axes.\n",
    "fig, ax = plt.subplots(figsize=(8.8, 4), layout=\"constrained\")\n",
    "ax.set(title=\"Matplotlib release dates\")\n",
    "\n",
    "# The vertical stems.\n",
    "ax.vlines(dates, 0, levels,\n",
    "          color=[(\"tab:red\", 1 if release.endswith(\".0\") else .5)\n",
    "                 for release in releases])\n",
    "# The baseline.\n",
    "ax.axhline(0, c=\"black\")\n",
    "# The markers on the baseline.\n",
    "minor_dates = [date for date, release in zip(dates, releases) if release[-1] == '0']\n",
    "bugfix_dates = [date for date, release in zip(dates, releases) if release[-1] != '0']\n",
    "ax.plot(bugfix_dates, np.zeros_like(bugfix_dates), \"ko\", mfc=\"white\")\n",
    "ax.plot(minor_dates, np.zeros_like(minor_dates), \"ko\", mfc=\"tab:red\")\n",
    "\n",
    "# Annotate the lines.\n",
    "for date, level, release in zip(dates, levels, releases):\n",
    "    ax.annotate(release, xy=(date, level),\n",
    "                xytext=(-3, np.sign(level)*3), textcoords=\"offset points\",\n",
    "                verticalalignment=\"bottom\" if level > 0 else \"top\",\n",
    "                weight=\"bold\" if release.endswith(\".0\") else \"normal\",\n",
    "                bbox=dict(boxstyle='square', pad=0, lw=0, fc=(1, 1, 1, 0.7)))\n",
    "\n",
    "ax.yaxis.set(major_locator=mdates.YearLocator(),\n",
    "             major_formatter=mdates.DateFormatter(\"%Y\"))\n",
    "\n",
    "# Remove the y-axis and some spines.\n",
    "ax.yaxis.set_visible(False)\n",
    "ax.spines[[\"left\", \"top\", \"right\"]].set_visible(False)\n",
    "\n",
    "ax.margins(y=0.1)\n",
    "plt.show()"
   ]
  },
  {
   "cell_type": "code",
   "execution_count": null,
   "id": "e1fa5bac",
   "metadata": {},
   "outputs": [],
   "source": []
  }
 ],
 "metadata": {
  "kernelspec": {
   "display_name": "seismo 3.8 (SHARED)",
   "language": "python",
   "name": "seismo-py38-shared"
  },
  "language_info": {
   "codemirror_mode": {
    "name": "ipython",
    "version": 3
   },
   "file_extension": ".py",
   "mimetype": "text/x-python",
   "name": "python",
   "nbconvert_exporter": "python",
   "pygments_lexer": "ipython3",
   "version": "3.8.12"
  }
 },
 "nbformat": 4,
 "nbformat_minor": 5
}
