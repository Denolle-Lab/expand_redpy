{
 "cells": [
  {
   "cell_type": "markdown",
   "id": "ce2a3b36",
   "metadata": {},
   "source": [
    "Getting into events per day format in a csv. Set up for Mt St Helens - created December 2022"
   ]
  },
  {
   "cell_type": "code",
   "execution_count": 1,
   "id": "e9f242e1",
   "metadata": {},
   "outputs": [],
   "source": [
    "import pandas as pd\n",
    "import yaml\n",
    "import numpy as np\n",
    "import csv\n",
    "import matplotlib.pyplot as plt"
   ]
  },
  {
   "cell_type": "code",
   "execution_count": 2,
   "id": "ca73055b",
   "metadata": {},
   "outputs": [],
   "source": [
    "with open('/home/smocz/expand_redpy/scripts/config.yaml') as file:\n",
    "    config = yaml.load(file, Loader=yaml.FullLoader)\n",
    "\n",
    "vv = config['vv']\n",
    "volc_list_names = config['volc_list_names']\n",
    "volc = volc_list_names[vv]\n",
    "readdir = config['readdir']\n",
    "homedir = config['homedir']"
   ]
  },
  {
   "cell_type": "code",
   "execution_count": null,
   "id": "4281eb64",
   "metadata": {},
   "outputs": [],
   "source": [
    "#read the St_Helens csvs\n",
    "\n",
    "St_Helens = pd.read_csv(readdir+'MountStHelens_catalog.csv')\n",
    "\n",
    "# Combining borehole and local catalogs with St_Helens\n",
    "\n",
    "Helens_Borehole = pd.read_csv(readdir+'MSHborehole_catalog.csv')\n",
    "Helens_Borehole['Clustered'] += 2000 \n",
    "# Cluster 0 in Helens_Borehole is now Cluster 2000 in St_Helens\n",
    "Helens_Local = pd.read_csv(readdir+'MSHlocal_catalog.csv')\n",
    "Helens_Local['Clustered'] += 3000\n",
    "# Cluster 0 in Helens_Local is now Cluster 3000 in St_Helens\n",
    "\n",
    "# Use St_Helens to access all three St Helens catalogs\n",
    "St_Helens = pd.concat([St_Helens,Helens_Borehole,Helens_Local])"
   ]
  },
  {
   "cell_type": "code",
   "execution_count": null,
   "id": "545ac31e",
   "metadata": {},
   "outputs": [],
   "source": [
    "#read Hood csv\n",
    "Hood = pd.read_csv(readdir+'Hood_catalog.csv')"
   ]
  },
  {
   "cell_type": "code",
   "execution_count": null,
   "id": "68b0dfd4",
   "metadata": {},
   "outputs": [],
   "source": [
    "#make events_per_day csv\n",
    "\n",
    "###################\n",
    "# SET UP FOR HOOD #\n",
    "###################\n",
    "\n",
    "dt_list = Hood['datetime'].values.tolist() #get a list of datetimes\n",
    "\n",
    "d_list = [] #get list of dates\n",
    "for dt in dt_list:\n",
    "    d = dt[:10] #take the date out of the datetime\n",
    "    d_list.append(d) #append to list\n",
    "\n",
    "uni_d_list = np.unique(d_list)\n",
    "\n",
    "num_list = [] #list of number of events on that date, index is the same as uni_d_list\n",
    "for i in uni_d_list:\n",
    "    num = d_list.count(i)\n",
    "    num_list.append(num)\n",
    "\n",
    "df = pd.DataFrame(list(zip(uni_d_list,num_list)))\n",
    "df.columns = ['Date','Number_of_Events']\n",
    "print(df)\n",
    "\n",
    "# df.to_csv(homedir+'Mt_Hood_events_per_day.csv',index=False)"
   ]
  },
  {
   "cell_type": "markdown",
   "id": "df2e6c01",
   "metadata": {},
   "source": [
    "Plot"
   ]
  },
  {
   "cell_type": "code",
   "execution_count": 3,
   "id": "37b9a1c3",
   "metadata": {},
   "outputs": [
    {
     "name": "stdout",
     "output_type": "stream",
     "text": [
      "           Date  Number_of_Events\n",
      "0    2002/01/13                 1\n",
      "1    2002/01/30                 1\n",
      "2    2002/02/26                 1\n",
      "3    2002/03/18                 1\n",
      "4    2002/04/19                 1\n",
      "..          ...               ...\n",
      "831  2021/11/28                 3\n",
      "832  2021/12/05                 1\n",
      "833  2021/12/13                 2\n",
      "834  2021/12/14                 1\n",
      "835  2022/01/01                 1\n",
      "\n",
      "[836 rows x 2 columns]\n"
     ]
    }
   ],
   "source": [
    "#read pnsn dates FOR HOOD\n",
    "pnsn = pd.read_csv(homedir+'pnsn_Hood.csv')\n",
    "\n",
    "dt_list = pnsn['Time UTC'].values.tolist() #get a list of datetimes\n",
    "\n",
    "d_list = [] #get list of dates\n",
    "for dt in dt_list:\n",
    "    d = dt[:10] #take the date out of the datetime\n",
    "    d_list.append(d) #append to list\n",
    "\n",
    "uni_d_list = np.unique(d_list)\n",
    "\n",
    "num_list = [] #list of number of events on that date, index is the same as uni_d_list\n",
    "for i in uni_d_list:\n",
    "    num = d_list.count(i)\n",
    "    num_list.append(num)\n",
    "\n",
    "pnsn_df = pd.DataFrame(list(zip(uni_d_list,num_list)))\n",
    "pnsn_df.columns = ['Date','Number_of_Events']\n",
    "print(pnsn_df)"
   ]
  },
  {
   "cell_type": "code",
   "execution_count": 4,
   "id": "a02c5c99",
   "metadata": {},
   "outputs": [
    {
     "name": "stdout",
     "output_type": "stream",
     "text": [
      "           Date  Number_of_Events\n",
      "0    2002-02-09                 1\n",
      "1    2002-03-01                 1\n",
      "2    2002-05-28                 1\n",
      "3    2002-12-17                 1\n",
      "4    2003-03-28                 1\n",
      "..          ...               ...\n",
      "153  2021-09-14                 1\n",
      "154  2021-10-18                12\n",
      "155  2021-10-25                 1\n",
      "156  2021-11-05                 1\n",
      "157  2021-11-11                 1\n",
      "\n",
      "[158 rows x 2 columns]\n"
     ]
    }
   ],
   "source": [
    "#read new events (from backfilling)\n",
    "\n",
    "new_e = pd.read_csv('/home/smocz/expand_redpy_new_files/final_catalogs/Hood_updated_catalog.csv')\n",
    "\n",
    "dt_list =  new_e['Earliest_Detection_Time'].values.tolist() #get a list of datetimes\n",
    "\n",
    "d_list = [] #get list of dates\n",
    "for dt in dt_list:\n",
    "    d = dt[:10] #take the date out of the datetime\n",
    "    d_list.append(d) #append to list\n",
    "\n",
    "uni_d_list = np.unique(d_list)\n",
    "\n",
    "num_list = [] #list of number of events on that date, index is the same as uni_d_list\n",
    "for i in uni_d_list:\n",
    "    num = d_list.count(i)\n",
    "    num_list.append(num)\n",
    "\n",
    "new_df = pd.DataFrame(list(zip(uni_d_list,num_list)))\n",
    "new_df.columns = ['Date','Number_of_Events']\n",
    "print(new_df)"
   ]
  },
  {
   "cell_type": "code",
   "execution_count": 22,
   "id": "1439ad30",
   "metadata": {},
   "outputs": [
    {
     "data": {
      "text/plain": [
       "<matplotlib.legend.Legend at 0x7f5de984a130>"
      ]
     },
     "execution_count": 22,
     "metadata": {},
     "output_type": "execute_result"
    },
    {
     "data": {
      "image/png": "[encoded data removed]",
      "text/plain": [
       "<Figure size 1080x360 with 1 Axes>"
      ]
     },
     "metadata": {
      "needs_background": "light"
     },
     "output_type": "display_data"
    }
   ],
   "source": [
    "df = pd.read_csv(homedir+'Mt_Hood_events_per_day.csv')\n",
    "#for REDPy\n",
    "x = df['Date'].values.tolist() #read date values\n",
    "str_x = [str(i) for i in x] #make sure they are all strings\n",
    "x = pd.to_datetime(str_x) #change to datetime for plotting\n",
    "\n",
    "y = df['Number_of_Events'].values.tolist() #number of events per day, same index as date list(x)\n",
    "\n",
    "#for PNSN\n",
    "px = pnsn_df['Date'].values.tolist()\n",
    "str_px = [str(i) for i in px]\n",
    "px = pd.to_datetime(str_px)\n",
    "\n",
    "py = pnsn_df['Number_of_Events'].values.tolist()\n",
    "\n",
    "#for NEW\n",
    "nx = new_df['Date'].values.tolist()\n",
    "str_nx = [str(i) for i in nx]\n",
    "nx = pd.to_datetime(str_nx)\n",
    "\n",
    "ny = new_df['Number_of_Events'].values.tolist()\n",
    "\n",
    "fig, ax = plt.subplots(figsize=(15,5))\n",
    "\n",
    "ax.scatter(px,py,s=40,alpha=0.75,marker='.',label='PNSN Events', color='purple') \n",
    "ax.scatter(x,y,s=40,alpha=0.75,marker='.',label='REDPy Events', color='red')\n",
    "ax.scatter(nx,ny,s=40,marker='.',label='Backfilled Events',color='black') \n",
    "\n",
    "ax.set_xlabel('Date')\n",
    "ax.set_ylabel('Number of Events')\n",
    "ax.set_title('Number of Repeating Events per Day found by REDPy on Mt Hood')\n",
    "plt.legend(loc='upper center')"
   ]
  },
  {
   "cell_type": "code",
   "execution_count": null,
   "id": "9f89c8a7",
   "metadata": {},
   "outputs": [],
   "source": []
  }
 ],
 "metadata": {
  "kernelspec": {
   "display_name": "seismo (SHARED)",
   "language": "python",
   "name": "seismo-py38-shared"
  },
  "language_info": {
   "codemirror_mode": {
    "name": "ipython",
    "version": 3
   },
   "file_extension": ".py",
   "mimetype": "text/x-python",
   "name": "python",
   "nbconvert_exporter": "python",
   "pygments_lexer": "ipython3",
   "version": "3.8.12"
  }
 },
 "nbformat": 4,
 "nbformat_minor": 5
}
