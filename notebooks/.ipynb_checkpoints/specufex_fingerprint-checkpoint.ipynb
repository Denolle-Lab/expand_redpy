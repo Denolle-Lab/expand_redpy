{
 "cells": [
  {
   "cell_type": "markdown",
   "id": "11b9f54b",
   "metadata": {},
   "source": [
    "Adapted from https://github.com/Specufex/specufex Specufex code\n",
    "\n",
    "Created Feb 1, 2023\n",
    "Updated Mar 13, 2023"
   ]
  },
  {
   "cell_type": "code",
   "execution_count": 1,
   "id": "dd4a71a2",
   "metadata": {},
   "outputs": [
    {
     "name": "stdout",
     "output_type": "stream",
     "text": [
      "Matched-filter CPU is not compiled! Should be here: /home/jupyter_share/miniconda3/envs/seismo/lib/python3.8/site-packages/fast_matched_filter/lib/matched_filter_CPU.so\n"
     ]
    }
   ],
   "source": [
    "#imports\n",
    "from eqcorrscan import Tribe #reading tgz files with templates\n",
    "import obspy\n",
    "from obspy import Stream, Trace\n",
    "import csv #for reading and saving data\n",
    "import numpy as np\n",
    "import pandas as pd\n",
    "from glob import glob #looking through files\n",
    "import scipy.signal as sp\n",
    "import yaml #for config file\n",
    "import matplotlib.pyplot as plt #for plotting\n",
    "from tqdm import trange\n",
    "from time import time #for time for code to run\n",
    "import h5py\n",
    "\n",
    "from specufex import BayesianNonparametricNMF, BayesianHMM #nmf and hmm functions\n",
    "from sklearn.cluster import KMeans #kmeans clustering function\n",
    "\n",
    "from matplotlib.gridspec import GridSpec #for plotting clusters"
   ]
  },
  {
   "cell_type": "code",
   "execution_count": 2,
   "id": "0e3ea980",
   "metadata": {},
   "outputs": [
    {
     "name": "stdout",
     "output_type": "stream",
     "text": [
      "Hood\n",
      "/home/smocz/expand_redpy_new_files/templates/Hood_template_waveforms.h5\n"
     ]
    }
   ],
   "source": [
    "#set parameters\n",
    "with open('/home/smocz/expand_redpy/scripts/config.yaml') as file:\n",
    "    config = yaml.load(file, Loader=yaml.FullLoader)\n",
    "    \n",
    "volc_list_names = config['volc_list_names']\n",
    "vv = config['vv']\n",
    "volc = volc_list_names[vv]\n",
    "print(volc)\n",
    "filename = f'Volcano_{volc}_Network_*_Station_*_Channel_*.tgz' #name of .tgz files to glob\n",
    "homedir = config['homedir']\n",
    "# print(homedir)\n",
    "path = homedir+'templates/'\n",
    "\n",
    "winlen = config['winlen']\n",
    "\n",
    "fs = config['fs']\n",
    "fqmin = config['fqmin']\n",
    "fqmax = config['fqmax']\n",
    "\n",
    "# spectrogram parameters\n",
    "sgramMode='magnitude'\n",
    "sgramScaling='spectrum'\n",
    "\n",
    "# frequency/time resolution\n",
    "nperseg = config['nperseg'] \n",
    "noverlap = nperseg/config['dnoverlap']\n",
    "nfft = config['nfft']\n",
    "\n",
    "#Kmeans\n",
    "K=config['K'] # number of clusters to fit\n",
    "\n",
    "#NMF\n",
    "batches_nmf = config['batches_nmf']\n",
    "batch_size = config['batch_size']\n",
    "\n",
    "#HMM\n",
    "num_states = config['num_states']\n",
    "batches_hmm = config['batches_hmm']\n",
    "\n",
    "savedir = config['homedir']+'h5/' #directory to save h5 file in\n",
    "h5name = f'{volc}_template_waveforms.h5'\n",
    "\n",
    "print(path+h5name)"
   ]
  },
  {
   "cell_type": "markdown",
   "id": "e05866b2",
   "metadata": {},
   "source": [
    "## functions"
   ]
  },
  {
   "cell_type": "code",
   "execution_count": 3,
   "id": "68e529b3",
   "metadata": {},
   "outputs": [],
   "source": [
    "# create window with max possible sum(abs(amplitudes))\n",
    "# goal is to align stream windows and provide shorter windows without as much noise\n",
    "def maxwindow(st,winlen,fs): #provide stream object (one trace each), window length in s, and sampling rate\n",
    "    fs_ = st[0].stats.sampling_rate #if sampling rate is in metadata, this can read it\n",
    "    if fs_ > 1.: fs=fs_\n",
    "    else: st[0].stats.sampling_rate = fs\n",
    "    stt = st[0].stats.starttime #if starttime is in metadata, this can read it\n",
    "\n",
    "#     print(len(st[0]))\n",
    "#     print(fs)\n",
    "    numwindows = round(len(st[0])/fs)-winlen+1 #how many windows will be cycled (+1 is for range)\n",
    "#     print('number of windows:',numwindows-1)\n",
    "\n",
    "    sum_list = [] #list of sum of abs value of amplitudes for each window\n",
    "    for i in range(0,numwindows): #i is index of windows\n",
    "        tw = st[0].copy() #create copy to avoid trimming st[0]\n",
    "        tt = tw.trim(stt+i,stt+i+winlen) #trim to a window the length of winlen\n",
    "#         print(stt+i)\n",
    "\n",
    "        amps_list = [] #list of absolute value amplitudes\n",
    "        for ii in tt: #for each amplitude/point (ii) in the trace (tt)\n",
    "            amps_list.append(abs(ii)) #append the amplitude \n",
    "        sum_list.append(sum(amps_list)) #sum and save the amplitude for this possible window\n",
    "    \n",
    "    max_sec = sum_list.index(max(sum_list)) #find the index of the window with maximum sum(abs(amplitudes))\n",
    "    \n",
    "#     print('maximum amp window index:',max_sec) #print max_sec or the # second after beginning of template that \n",
    "    #the maximum window occurs\n",
    "    \n",
    "    final_tw = st[0].copy() #make a copy for trimming\n",
    "    \n",
    "    #adding 3s before to account for pwave/beginning of waveform\n",
    "    if max_sec-3 <= 0: #if 3s before max_sec is 0 or negative\n",
    "        sec = 0 #sec is 0\n",
    "    else: #if 3s before max_sec is >0\n",
    "        sec = max_sec-3 #sec is 3s before max_sec\n",
    "    \n",
    "    tw_trim = final_tw.trim(stt+max_sec,stt+max_sec+winlen) #use sec to trim the window corretly\n",
    "#     print('Max Window:') #show the maximum window\n",
    "#     tw_trim.plot();\n",
    "    \n",
    "    return(Stream(tw_trim)) #return the stream of the maximum window"
   ]
  },
  {
   "cell_type": "markdown",
   "id": "d612b855",
   "metadata": {},
   "source": [
    "### Create spectrogram from templates"
   ]
  },
  {
   "cell_type": "markdown",
   "id": "869ca72f",
   "metadata": {},
   "source": [
    "Create a dataframe of trimmed template waveforms"
   ]
  },
  {
   "cell_type": "code",
   "execution_count": 4,
   "id": "fdc3de49",
   "metadata": {},
   "outputs": [
    {
     "name": "stdout",
     "output_type": "stream",
     "text": [
      "1077 waveforms in file\n"
     ]
    }
   ],
   "source": [
    "#pull in waveforms\n",
    "with h5py.File(f\"{savedir}{h5name}\", \"r\") as f: #read file\n",
    "    waveforms = f[\"waveforms\"][()] #pull in waveforms\n",
    "    template_name = f[\"template_name\"].asstr()[()] #pull in waveform id\n",
    "#     group_id = f[\"group_id\"][()] #pull in group id\n",
    "\n",
    "print(f\"{len(waveforms)} waveforms in file\")"
   ]
  },
  {
   "cell_type": "code",
   "execution_count": 5,
   "id": "8257df2e",
   "metadata": {},
   "outputs": [
    {
     "name": "stderr",
     "output_type": "stream",
     "text": [
      "Trimming Waveforms : 100%|██████████| 1077/1077 [00:26<00:00, 41.09it/s]\n"
     ]
    },
    {
     "data": {
      "text/html": [
       "<div>\n",
       "<style scoped>\n",
       "    .dataframe tbody tr th:only-of-type {\n",
       "        vertical-align: middle;\n",
       "    }\n",
       "\n",
       "    .dataframe tbody tr th {\n",
       "        vertical-align: top;\n",
       "    }\n",
       "\n",
       "    .dataframe thead th {\n",
       "        text-align: right;\n",
       "    }\n",
       "</style>\n",
       "<table border=\"1\" class=\"dataframe\">\n",
       "  <thead>\n",
       "    <tr style=\"text-align: right;\">\n",
       "      <th></th>\n",
       "      <th>template_name</th>\n",
       "      <th>waveform</th>\n",
       "    </tr>\n",
       "  </thead>\n",
       "  <tbody>\n",
       "    <tr>\n",
       "      <th>0</th>\n",
       "      <td>vllehzrpho000</td>\n",
       "      <td>[0.3697760581769841, -0.6676621419381845, -1.1...</td>\n",
       "    </tr>\n",
       "    <tr>\n",
       "      <th>1</th>\n",
       "      <td>vllehzrpho001</td>\n",
       "      <td>[1.0206688510132984, 0.6840404453524851, 0.295...</td>\n",
       "    </tr>\n",
       "    <tr>\n",
       "      <th>2</th>\n",
       "      <td>vllehzrpho002</td>\n",
       "      <td>[0.07453186727684395, 0.3788052605811664, 0.10...</td>\n",
       "    </tr>\n",
       "    <tr>\n",
       "      <th>3</th>\n",
       "      <td>vllehzrpho003</td>\n",
       "      <td>[3.2103768795550667, 7.083374565937333, 5.9753...</td>\n",
       "    </tr>\n",
       "    <tr>\n",
       "      <th>4</th>\n",
       "      <td>vllehzrpho004</td>\n",
       "      <td>[0.367644884264843, -0.21653055460114395, -1.1...</td>\n",
       "    </tr>\n",
       "  </tbody>\n",
       "</table>\n",
       "</div>"
      ],
      "text/plain": [
       "   template_name                                           waveform\n",
       "0  vllehzrpho000  [0.3697760581769841, -0.6676621419381845, -1.1...\n",
       "1  vllehzrpho001  [1.0206688510132984, 0.6840404453524851, 0.295...\n",
       "2  vllehzrpho002  [0.07453186727684395, 0.3788052605811664, 0.10...\n",
       "3  vllehzrpho003  [3.2103768795550667, 7.083374565937333, 5.9753...\n",
       "4  vllehzrpho004  [0.367644884264843, -0.21653055460114395, -1.1..."
      ]
     },
     "execution_count": 5,
     "metadata": {},
     "output_type": "execute_result"
    }
   ],
   "source": [
    "waveforms_n = []\n",
    "t = trange(len(waveforms), desc=\"Trimming Waveforms \", leave=True)\n",
    "for i in t:\n",
    "    wave = waveforms[i]\n",
    "    wave_ = Trace(wave)\n",
    "#     wave_.plot();\n",
    "    new_wave = maxwindow(Stream(traces=[wave_]),winlen,fs)\n",
    "    waveforms_n.append(np.array(new_wave[0].data))\n",
    "#     break\n",
    "\n",
    "\n",
    "tdf = pd.DataFrame({\"template_name\":template_name,\"waveform\":list(waveforms_n)})\n",
    "tdf.head()"
   ]
  },
  {
   "cell_type": "markdown",
   "id": "a09ed3d8",
   "metadata": {},
   "source": [
    "Calculate spectrograms from trimmed template df"
   ]
  },
  {
   "cell_type": "code",
   "execution_count": 6,
   "id": "3a65ebef",
   "metadata": {},
   "outputs": [],
   "source": [
    "#calculate raw spectrograms with scipy\n",
    "fSTFT, tSTFT, STFT_raw = sp.spectrogram(\n",
    "    x=np.stack(tdf[\"waveform\"].values),\n",
    "    fs=fs,\n",
    "    nperseg=nperseg,\n",
    "    noverlap=noverlap,\n",
    "    nfft=nfft,\n",
    "    scaling=sgramScaling,\n",
    "    axis=-1,\n",
    "    mode=sgramMode\n",
    ")\n",
    "\n",
    "#quality check for NaN\n",
    "np.isnan(STFT_raw).any()\n",
    "\n",
    "#bandpass\n",
    "\n",
    "freq_slice = np.where((fSTFT >= fqmin) & (fSTFT <= fqmax))\n",
    "fSTFT   = fSTFT[freq_slice]\n",
    "STFT_0 = STFT_raw[:,freq_slice,:].squeeze()\n",
    "\n",
    "# STFT_0 = STFT_raw"
   ]
  },
  {
   "cell_type": "code",
   "execution_count": 7,
   "id": "985e6ad0",
   "metadata": {},
   "outputs": [
    {
     "data": {
      "text/html": [
       "<div>\n",
       "<style scoped>\n",
       "    .dataframe tbody tr th:only-of-type {\n",
       "        vertical-align: middle;\n",
       "    }\n",
       "\n",
       "    .dataframe tbody tr th {\n",
       "        vertical-align: top;\n",
       "    }\n",
       "\n",
       "    .dataframe thead th {\n",
       "        text-align: right;\n",
       "    }\n",
       "</style>\n",
       "<table border=\"1\" class=\"dataframe\">\n",
       "  <thead>\n",
       "    <tr style=\"text-align: right;\">\n",
       "      <th></th>\n",
       "      <th>template_name</th>\n",
       "      <th>waveform</th>\n",
       "      <th>stft</th>\n",
       "    </tr>\n",
       "  </thead>\n",
       "  <tbody>\n",
       "    <tr>\n",
       "      <th>0</th>\n",
       "      <td>vllehzrpho000</td>\n",
       "      <td>[0.3697760581769841, -0.6676621419381845, -1.1...</td>\n",
       "      <td>[[6.610985417644033, 3.71500803387422, 5.30120...</td>\n",
       "    </tr>\n",
       "    <tr>\n",
       "      <th>1</th>\n",
       "      <td>vllehzrpho001</td>\n",
       "      <td>[1.0206688510132984, 0.6840404453524851, 0.295...</td>\n",
       "      <td>[[0.0, 0.0, 12.697030729688592, 6.126822098818...</td>\n",
       "    </tr>\n",
       "    <tr>\n",
       "      <th>2</th>\n",
       "      <td>vllehzrpho002</td>\n",
       "      <td>[0.07453186727684395, 0.3788052605811664, 0.10...</td>\n",
       "      <td>[[19.73509963743354, 23.573356886915274, 17.21...</td>\n",
       "    </tr>\n",
       "    <tr>\n",
       "      <th>3</th>\n",
       "      <td>vllehzrpho003</td>\n",
       "      <td>[3.2103768795550667, 7.083374565937333, 5.9753...</td>\n",
       "      <td>[[16.01065768921819, 16.0477297516818, 17.9446...</td>\n",
       "    </tr>\n",
       "    <tr>\n",
       "      <th>4</th>\n",
       "      <td>vllehzrpho004</td>\n",
       "      <td>[0.367644884264843, -0.21653055460114395, -1.1...</td>\n",
       "      <td>[[15.050159771969732, 15.639375606188237, 2.21...</td>\n",
       "    </tr>\n",
       "  </tbody>\n",
       "</table>\n",
       "</div>"
      ],
      "text/plain": [
       "   template_name                                           waveform  \\\n",
       "0  vllehzrpho000  [0.3697760581769841, -0.6676621419381845, -1.1...   \n",
       "1  vllehzrpho001  [1.0206688510132984, 0.6840404453524851, 0.295...   \n",
       "2  vllehzrpho002  [0.07453186727684395, 0.3788052605811664, 0.10...   \n",
       "3  vllehzrpho003  [3.2103768795550667, 7.083374565937333, 5.9753...   \n",
       "4  vllehzrpho004  [0.367644884264843, -0.21653055460114395, -1.1...   \n",
       "\n",
       "                                                stft  \n",
       "0  [[6.610985417644033, 3.71500803387422, 5.30120...  \n",
       "1  [[0.0, 0.0, 12.697030729688592, 6.126822098818...  \n",
       "2  [[19.73509963743354, 23.573356886915274, 17.21...  \n",
       "3  [[16.01065768921819, 16.0477297516818, 17.9446...  \n",
       "4  [[15.050159771969732, 15.639375606188237, 2.21...  "
      ]
     },
     "execution_count": 7,
     "metadata": {},
     "output_type": "execute_result"
    }
   ],
   "source": [
    "#normalize spectrogram and make values nonnegative for nmf\n",
    "\n",
    "normConstant = np.median(STFT_0, axis=(1,2))\n",
    "STFT_norm = STFT_0 / normConstant[:,np.newaxis,np.newaxis]  # norm by median\n",
    "del STFT_0\n",
    "STFT_dB = 20*np.log10(STFT_norm, where=STFT_norm != 0) # convert to dB (database?)\n",
    "del STFT_norm\n",
    "STFT = np.maximum(0, STFT_dB) # make sure nonnegative\n",
    "del STFT_dB\n",
    "\n",
    "tdf[\"stft\"] = list(STFT)\n",
    "tdf.head()"
   ]
  },
  {
   "cell_type": "code",
   "execution_count": 8,
   "id": "21a36522",
   "metadata": {},
   "outputs": [
    {
     "name": "stdout",
     "output_type": "stream",
     "text": [
      "Bad spectrograms: \n",
      "index Series([], Name: template_name, dtype: object)\n"
     ]
    }
   ],
   "source": [
    "#quality check\n",
    "bad_idx = tdf[\"stft\"][tdf[\"stft\"].apply(lambda x: np.isnan(x).any())].index\n",
    "print(f\"Bad spectrograms: \\nindex {tdf.loc[bad_idx].template_name}\")\n",
    "tdf = tdf.drop(bad_idx).sort_values(\"template_name\")"
   ]
  },
  {
   "cell_type": "markdown",
   "id": "12462ac3",
   "metadata": {},
   "source": [
    "Plot spectrogram"
   ]
  },
  {
   "cell_type": "code",
   "execution_count": 20,
   "id": "2ab5999e",
   "metadata": {},
   "outputs": [
    {
     "name": "stderr",
     "output_type": "stream",
     "text": [
      "/tmp/ipykernel_1338648/1830164921.py:14: MatplotlibDeprecationWarning: shading='flat' when X and Y have the same dimensions as C is deprecated since 3.3.  Either specify the corners of the quadrilaterals with X and Y, or pass shading='auto', 'nearest' or 'gouraud', or set rcParams['pcolor.shading'].  This will become an error two minor releases later.\n",
      "  ax[0].pcolormesh(tSTFT,fSTFT,STFT_raw[n_spectrogram,freq_slice,:].squeeze())\n",
      "/tmp/ipykernel_1338648/1830164921.py:19: MatplotlibDeprecationWarning: shading='flat' when X and Y have the same dimensions as C is deprecated since 3.3.  Either specify the corners of the quadrilaterals with X and Y, or pass shading='auto', 'nearest' or 'gouraud', or set rcParams['pcolor.shading'].  This will become an error two minor releases later.\n",
      "  ax[1].pcolormesh(tSTFT,fSTFT, STFT[n_spectrogram])\n"
     ]
    },
    {
     "data": {
      "image/png": "[encoded data removed]",
      "text/plain": [
       "<Figure size 720x360 with 2 Axes>"
      ]
     },
     "metadata": {
      "needs_background": "light"
     },
     "output_type": "display_data"
    },
    {
     "data": {
      "image/png": "[encoded data removed]",
      "text/plain": [
       "<Figure size 720x360 with 2 Axes>"
      ]
     },
     "metadata": {
      "needs_background": "light"
     },
     "output_type": "display_data"
    }
   ],
   "source": [
    "#plotting/saving example spectrogram\n",
    "\n",
    "#finding indexes of a specific station and cluster ids\n",
    "cls = [109,112] #cluster IDs to save\n",
    "sta_n = 'hood' #station to save\n",
    "idx_lst = [] #will be a list of indexes for these cluster IDs at this station\n",
    "for cl,sta in zip(cls,[sta_n for i in range(len(cls))]):\n",
    "    for i in template_name:\n",
    "        if i.startswith(sta) and i.endswith(str(cl).zfill(len(str(max(cls))))):\n",
    "            idx_lst.append(list(template_name).index(i))\n",
    "\n",
    "for n_spectrogram in idx_lst: #index of spectrogram to plot\n",
    "\n",
    "    f, ax = plt.subplots(1,2, figsize=(10,5))\n",
    "\n",
    "    ax[0].pcolormesh(tSTFT,fSTFT,STFT_raw[n_spectrogram,freq_slice,:].squeeze())\n",
    "    ax[0].set_xlabel(\"Timestep\")\n",
    "    ax[0].set_ylabel(\"Frequency (Hz)\")\n",
    "    ax[0].set_title(f\"Original spectrogram {template_name[n_spectrogram]}\")\n",
    "\n",
    "    ax[1].pcolormesh(tSTFT,fSTFT, STFT[n_spectrogram])\n",
    "    ax[1].set_xlabel(\"Timestep\")\n",
    "    ax[1].set_title(f\"Normalized spectrogram {template_name[n_spectrogram]}\")\n",
    "\n",
    "#     f.savefig(f'/home/smocz/expand_redpy_new_files/specu_fingerprints/{volc}_spectrogram_{template_name[n_spectrogram]}.svg')"
   ]
  },
  {
   "cell_type": "markdown",
   "id": "8624ee64",
   "metadata": {},
   "source": [
    "### Run Specufex"
   ]
  },
  {
   "cell_type": "markdown",
   "id": "ed028fbc",
   "metadata": {},
   "source": [
    "NMF"
   ]
  },
  {
   "cell_type": "code",
   "execution_count": null,
   "id": "5502a531",
   "metadata": {},
   "outputs": [],
   "source": [
    "nmf = BayesianNonparametricNMF(np.stack(tdf[\"stft\"].values).shape)"
   ]
  },
  {
   "cell_type": "code",
   "execution_count": null,
   "id": "6ef08e58",
   "metadata": {},
   "outputs": [],
   "source": [
    "t = trange(batches_nmf, desc=\"NMF fit progress \", leave=True)\n",
    "for i in t:\n",
    "    idx = np.random.randint(len(tdf[\"stft\"].values), size=batch_size)\n",
    "    nmf.fit(tdf[\"stft\"].iloc[idx].values)\n",
    "    t.set_postfix_str(f\"Patterns: {nmf.num_pat}\")"
   ]
  },
  {
   "cell_type": "code",
   "execution_count": null,
   "id": "8e9dc107",
   "metadata": {},
   "outputs": [],
   "source": [
    "plt.pcolormesh(nmf.EW@np.diag(nmf.EA[0]))\n",
    "plt.xlabel(\"NMF pattern number\")\n",
    "plt.xticks(range(0,nmf.num_pat,2), range(0,nmf.num_pat,2))\n",
    "plt.ylabel(\"Frequency (Hz)\")\n",
    "plt.show()"
   ]
  },
  {
   "cell_type": "markdown",
   "id": "803c46ce",
   "metadata": {},
   "source": [
    "Activation Matrices"
   ]
  },
  {
   "cell_type": "code",
   "execution_count": null,
   "id": "34473d46",
   "metadata": {},
   "outputs": [],
   "source": [
    "Vs = nmf.transform(tdf[\"stft\"].values)\n",
    "# save Vs to an hdf5\n",
    "# with h5py.File(\"data/geysers/Vs.h5\", \"w\") as f:\n",
    "#     f[\"Vs\"] = Vs"
   ]
  },
  {
   "cell_type": "code",
   "execution_count": null,
   "id": "47970d5f",
   "metadata": {},
   "outputs": [],
   "source": [
    "f, axes = plt.subplots(1,2,figsize=(15,5))\n",
    "\n",
    "axes[0].pcolormesh(Vs[0])\n",
    "axes[0].set_xlabel(\"Timestep\")\n",
    "axes[0].set_ylabel(\"NMF pattern\")\n",
    "# axes[0].set_yticks(range(0,nmf.num_pat,2), range(0,nmf.num_pat,2))\n",
    "# axes[0].set_title(\"Activation matrix\")\n",
    "\n",
    "# axes[1].pcolormesh(tdf[\"stft\"].iloc[0])\n",
    "# axes[1].set_xlabel(\"Timestep\")\n",
    "# axes[1].set_ylabel(\"Frequency\")\n",
    "# axes[1].set_title(\"Normalized spectrogram\")\n",
    "\n",
    "# plt.show()"
   ]
  },
  {
   "cell_type": "markdown",
   "id": "33dbffb1",
   "metadata": {},
   "source": [
    "HMM"
   ]
  },
  {
   "cell_type": "code",
   "execution_count": null,
   "id": "65e573b1",
   "metadata": {},
   "outputs": [],
   "source": [
    "hmm = BayesianHMM(nmf.num_pat, nmf.gain, num_state=num_states, Neff=50000)"
   ]
  },
  {
   "cell_type": "code",
   "execution_count": null,
   "id": "b8bdd3d2",
   "metadata": {},
   "outputs": [],
   "source": [
    "t = trange(batches_hmm, desc=\"HMM fit progress \", leave=True)\n",
    "for i in t:\n",
    "    idx = np.random.randint(Vs.shape[0], size=1)\n",
    "    hmm.fit(Vs[idx])"
   ]
  },
  {
   "cell_type": "code",
   "execution_count": null,
   "id": "d0f38377",
   "metadata": {},
   "outputs": [],
   "source": [
    "plt.figure(figsize=(10,5))\n",
    "plt.imshow(hmm.EB, origin=\"lower\")\n",
    "plt.ylabel(\"HMM state\")\n",
    "plt.xlabel(\"Frequency pattern\")\n",
    "_=plt.yticks(range(0,num_states,5), range(0, num_states,5))"
   ]
  },
  {
   "cell_type": "markdown",
   "id": "6d5b14db",
   "metadata": {},
   "source": [
    "Fingerprints"
   ]
  },
  {
   "cell_type": "code",
   "execution_count": null,
   "id": "ed0a67b0",
   "metadata": {},
   "outputs": [],
   "source": [
    "fingerprints, As, gams = hmm.transform(Vs)"
   ]
  },
  {
   "cell_type": "code",
   "execution_count": null,
   "id": "17bc09e4",
   "metadata": {},
   "outputs": [],
   "source": [
    "plt.imshow(fingerprints[0])"
   ]
  },
  {
   "cell_type": "markdown",
   "id": "ed73ff6a",
   "metadata": {},
   "source": [
    "### Cluster with Kmeans"
   ]
  },
  {
   "cell_type": "code",
   "execution_count": null,
   "id": "ac8f16ab",
   "metadata": {},
   "outputs": [],
   "source": [
    "# convert fingerprints from 2D array to 1D array\n",
    "fingerprints_ = fingerprints.reshape((fingerprints.shape[0], fingerprints.shape[1]**2))\n",
    "\n",
    "#Predicted labels\n",
    "y_pred = KMeans(n_clusters=K, random_state=42).fit_predict(fingerprints_)"
   ]
  },
  {
   "cell_type": "markdown",
   "id": "4b13387d",
   "metadata": {},
   "source": [
    "### Saving the clustering results"
   ]
  },
  {
   "cell_type": "code",
   "execution_count": null,
   "id": "e67567d0",
   "metadata": {},
   "outputs": [],
   "source": [
    "print((y_pred))"
   ]
  },
  {
   "cell_type": "code",
   "execution_count": null,
   "id": "39e369e7",
   "metadata": {},
   "outputs": [],
   "source": [
    "for i in np.unique(list(y_pred)): #list how many templates are in each kmeans cluster\n",
    "    print(\"Kmeans\",i,\"Count\",list(y_pred).count(i))"
   ]
  },
  {
   "cell_type": "code",
   "execution_count": null,
   "id": "31be2829",
   "metadata": {},
   "outputs": [],
   "source": [
    "save_tdf = tdf.copy() #create a copy of tdf for saving\n",
    "\n",
    "save_tdf['Kmeans'] = list(y_pred) #add Kmeans cluster to df\n",
    "test = save_tdf.drop(labels=[\"waveform\",\"stft\"],axis=1) #drop waveform and stft for saving\n",
    "test.reset_index(drop=True) #reset index (gets altered when editing df), drop=True removes old index\n",
    "\n",
    "#save to csv\n",
    "test.to_csv(f'/home/smocz/expand_redpy_new_files/kmeans_K_{K}_Volcano_{volc}.csv',index=False)"
   ]
  },
  {
   "cell_type": "markdown",
   "id": "6e4ef4c5",
   "metadata": {},
   "source": [
    "### Reading csv and comparing clusters"
   ]
  },
  {
   "cell_type": "markdown",
   "id": "fc9c87fc",
   "metadata": {},
   "source": [
    "Vers for template name starpvo000 (instead of net.starpvo000)"
   ]
  },
  {
   "cell_type": "code",
   "execution_count": null,
   "id": "42afeab8",
   "metadata": {},
   "outputs": [],
   "source": [
    "print(len(np.unique(tdf['Kmeans'].values.tolist()))+1)"
   ]
  },
  {
   "cell_type": "code",
   "execution_count": null,
   "id": "fee0edc2",
   "metadata": {
    "scrolled": true
   },
   "outputs": [],
   "source": [
    "volc = \"Baker\" #can change volc name to look at specific volcano without reloading config.yaml\n",
    "K = \"5\"\n",
    "filename = f'Volcano_{volc}_Network_*_Station_*_Channel_*.tgz' #name of .tgz files to glob\n",
    "\n",
    "fig = plt.figure(figsize=(30,40)) #make the figure and set the size\n",
    "gs = GridSpec(3, len(np.unique(tdf['Kmeans'].values.tolist()))+1, figure=fig) #set up gridspec\n",
    "\n",
    "tdf = pd.read_csv(f'/home/smocz/expand_redpy_new_files/kmeans_K_{K}_Volcano_{volc}.csv') #read csv\n",
    "\n",
    "for K in np.unique(tdf['Kmeans'].values.tolist()): #for each kmeans cluster\n",
    "    print(f'Kmeans group {K} -------------------') #print which kmeans is being looked at\n",
    "    ax = fig.add_subplot(gs[:, K:K+1]) #create a subplot, place on gs\n",
    "    ax.set_title(f'Group {K}')\n",
    "    for nn,n in enumerate(tdf[tdf['Kmeans']==K]['template_name'].values.tolist()): #loop through template names in the df\n",
    "        time0 = time() #keep track of time\n",
    "        print(f'**finding stream for template {n}') #print which template is being looked at\n",
    "        for f_name in glob(f'{path}{filename}'): #loop thru tgz files at volcano            \n",
    "            if len(f_name.split('_')[8].lower()) == 3: #if sta name is 3 characters\n",
    "                if f_name.split('_')[8].lower() != n[:3]: #test against the first 3 characters of template name\n",
    "                    #change above n[:3] to n[3:6] for net.starpvo000 instead of starpvo000\n",
    "                    continue #go to next possible file if the station is wrong\n",
    "\n",
    "            if len(f_name.split('_')[8].lower()) == 4: #if sta name is 4 characters\n",
    "                if f_name.split('_')[8].lower() != n[:4]: #test against the first 4 characters of template name\n",
    "                    #change above n[:4] to n[3:7] for net.starpvo000 instead of starpvo000\n",
    "                    continue #go to next possible file if the station is wrong\n",
    "\n",
    "\n",
    "            T = Tribe().read(f_name) #read tgz file\n",
    "\n",
    "            for t in T: #for each template in tgz file\n",
    "                if t.name == n: #if the template name matches the template we want\n",
    "                    #change above n to n[3:] for net.starpvo000 instead of starpvo000\n",
    "                    st = t.st #grab the stream\n",
    "                    \n",
    "                    ax.plot(st[0].data[:]/np.max(np.abs(st[0].data))+2*nn)\n",
    "#                     st.plot(); #plot stream\n",
    "        \n",
    "        time1 = time() #keep track of time\n",
    "        print(f'{time1-time0}s to search for stream') #find time to go through this loop\n",
    "#         break #will only go through one template\n",
    "#     break #will only go through one kmeans group\n",
    "    \n"
   ]
  },
  {
   "cell_type": "code",
   "execution_count": null,
   "id": "c9ff6e9a",
   "metadata": {},
   "outputs": [],
   "source": [
    "for i in np.unique(tdf['Kmeans'].values.tolist()): #list how many templates are in each kmeans cluster\n",
    "    print(\"Kmeans\",i,\"Count\",tdf['Kmeans'].values.tolist().count(i))"
   ]
  },
  {
   "cell_type": "markdown",
   "id": "40682d69",
   "metadata": {},
   "source": [
    "Vers for template name net.starpvo000 (instead of starpvo000)"
   ]
  },
  {
   "cell_type": "code",
   "execution_count": null,
   "id": "5eb5dd77",
   "metadata": {},
   "outputs": [],
   "source": [
    "volc = \"Baker\" #can change volc name to look at specific volcano without reloading config.yaml\n",
    "K = \"8\"\n",
    "filename = f'Volcano_{volc}_Network_*_Station_*_Channel_*.tgz' #name of .tgz files to glob\n",
    "\n",
    "fig = plt.figure(figsize=(30,40)) #make the figure and set the size\n",
    "gs = GridSpec(3, len(np.unique(tdf['Kmeans'].values.tolist()))+1, figure=fig) #set up gridspec\n",
    "\n",
    "tdf = pd.read_csv(f'/home/smocz/expand_redpy_new_files/kmeans_K_{K}_Volcano_{volc}.csv') #read csv\n",
    "\n",
    "for K in np.unique(tdf['Kmeans'].values.tolist()): #for each kmeans cluster\n",
    "    print(f'Kmeans group {K} -------------------') #print which kmeans is being looked at\n",
    "    ax = fig.add_subplot(gs[:, K:K+1]) #create a subplot, place on gs\n",
    "    ax.set_title(f'Group {K}')\n",
    "    for nn,n in enumerate(tdf[tdf['Kmeans']==K]['template_name'].values.tolist()): #loop through template names in the df\n",
    "        time0 = time() #keep track of time\n",
    "        print(f'**finding stream for template {n}') #print which template is being looked at\n",
    "        for f_name in glob(f'{path}{filename}'): #loop thru tgz files at volcano            \n",
    "            if len(f_name.split('_')[8].lower()) == 3: #if sta name is 3 characters\n",
    "                if f_name.split('_')[8].lower() != n[3:6]: #test against the first 3 characters of template name\n",
    "                   \n",
    "                    continue #go to next possible file if the station is wrong\n",
    "\n",
    "            if len(f_name.split('_')[8].lower()) == 4: #if sta name is 4 characters\n",
    "                if f_name.split('_')[8].lower() != n[3:7]: #test against the first 4 characters of template name\n",
    "                    \n",
    "                    continue #go to next possible file if the station is wrong\n",
    "\n",
    "\n",
    "            T = Tribe().read(f_name) #read tgz file\n",
    "\n",
    "            for t in T: #for each template in tgz file\n",
    "                if t.name == n[3:]: #if the template name matches the template we want\n",
    "                    \n",
    "                    st = t.st #grab the stream\n",
    "                    \n",
    "                    ax.plot(st[0].data[:]/np.max(np.abs(st[0].data))+2*nn)\n",
    "#                     st.plot(); #plot stream\n",
    "\n",
    "        time1 = time() #keep track of time\n",
    "        print(f'{time1-time0}s to search for stream') #find time to go through this loop\n",
    "#         break #will only go through one template\n",
    "#     break #will only go through one kmeans group\n",
    "    \n"
   ]
  },
  {
   "cell_type": "markdown",
   "id": "4c1848be",
   "metadata": {},
   "source": [
    "Percent confidence of cluster groupings"
   ]
  },
  {
   "cell_type": "code",
   "execution_count": null,
   "id": "0ab34d3e",
   "metadata": {},
   "outputs": [],
   "source": [
    "# volc = \"Rainier\" #can change volc name to look at specific volcano without reloading config.yaml\n",
    "# K = \"7\"\n",
    "\n",
    "for volc in volc_list_names:\n",
    "    for k in [5,6,7,8]:\n",
    "        tdf = pd.read_csv(f'/home/smocz/expand_redpy_new_files/kmeans_K_{K}_Volcano_{volc}.csv') #read csv\n",
    "\n",
    "        long_cl_list = [] #list of clusters from template names\n",
    "        for t_name in tdf['template_name']: #for each template name\n",
    "            long_cl_list.append(t_name[-3:]) #append the cluster ID\n",
    "\n",
    "        cl_list = np.unique(long_cl_list) #sort and get rid of duplicates\n",
    "\n",
    "        cdf = pd.DataFrame(data={'Cluster_ID':[],'percent_confidence':[],'Kmeans':[],'total_number_templates':[],'group_ties':[]}) #make dataframe to hold stats\n",
    "\n",
    "        for cl in cl_list:\n",
    "            print('cluster',cl)\n",
    "\n",
    "            tdf_rows = [] #list of lists, each list within is a row of the dataframe\n",
    "            for index, rows in tdf.iterrows(): #itterate each row of tdf\n",
    "                row =[rows.template_name, rows.Kmeans] #record the template name and Kmeans group\n",
    "                tdf_rows.append(row) #save to tdf_rows\n",
    "\n",
    "            N_list = []\n",
    "            for row in tdf_rows: #for each row of dataframe\n",
    "                if row[0][-3:] == cl: #if the last 3 characters of the template name are the correct cluster ID\n",
    "                    N_list.append(row[0]) #save the template name\n",
    "\n",
    "            N = len(N_list) #number of templates for a cluster\n",
    "\n",
    "            group_list = np.unique(tdf['Kmeans'].values.tolist())\n",
    "\n",
    "            nt_list = [] #list of number of rows/templates for each group, same index as group_list\n",
    "            for gr in group_list: #for each K number/number of groups\n",
    "                nr = [] #list of rows that fit the critera\n",
    "                for row in tdf_rows: #for each row\n",
    "                    if row[0][-3:]==cl and row[1]==gr: #if the cluster is correct and the K number is correct\n",
    "                        nr.append(row) #save to nr\n",
    "                nt = len(nr) #number of rows/templates that fit the criteria\n",
    "                nt_list.append(nt)\n",
    "\n",
    "\n",
    "            n = max(nt_list) #number of templates in the most reliable group\n",
    "            tie = ''\n",
    "            if nt_list.count(max(nt_list)) > 1:\n",
    "                print('nt_list has more than one of this max')\n",
    "                tie = '*'\n",
    "            n_idx = nt_list.index(n) #index can be applied to group_list\n",
    "\n",
    "            print(f'{n/N*100} % confidence that cluster {cl} is part of kmeans group {group_list[n_idx]}. Based on {N}\\\n",
    "            total templates')\n",
    "            print('------------------')\n",
    "\n",
    "            cdf.loc[len(cdf)+1] = [cl,n/N*100,group_list[n_idx],N,tie] #add this result\n",
    "\n",
    "        #     break\n",
    "        cdf.to_csv(f'{homedir}confidence_K_{K}_Volcano_{volc}.csv')"
   ]
  },
  {
   "cell_type": "code",
   "execution_count": null,
   "id": "33f21098",
   "metadata": {},
   "outputs": [],
   "source": [
    "#make a table to show some simple analyses\n",
    "\n",
    "from tabulate import tabulate\n",
    "\n",
    "#read the csv if needed\n",
    "# cdf = pd.read_csv(f'{homedir}confidence_K_{K}_Volcano_{volc}.csv')\n",
    "\n",
    "# pclist = cdf['percent_confidence'].values.tolist()\n",
    "# print('mean',round(np.mean(pclist),2))\n",
    "# print('standard deviation',round(np.std(pclist),2))\n",
    "# print('median',round(np.median(pclist),2))\n",
    "# print('% with ties',round(len(cdf[cdf['group_ties']=='*']['group_ties'].values.tolist())/len(cdf['group_ties']),4)*100)\n",
    "\n",
    "ml = [] #list of means\n",
    "sdl = [] #list of stdev\n",
    "mdl = [] #list of medians\n",
    "tl = [] #list of % with ties\n",
    "for volc in volc_list_names:\n",
    "    for K in [5,6,7,8]:\n",
    "        cdf = pd.read_csv(f'{homedir}confidence_K_{K}_Volcano_{volc}.csv') #read csv\n",
    "        pclist = cdf['percent_confidence'].values.tolist() #get list of confidences\n",
    "        m = round(np.mean(pclist),2) #mean\n",
    "        ml.append(m)\n",
    "        sd = round(np.std(pclist),2) #standard deviation\n",
    "        sdl.append(sd)\n",
    "        md = round(np.median(pclist),2) #median\n",
    "        mdl.append(md)\n",
    "        t = round(len(cdf[cdf['group_ties']=='*']['group_ties'].values.tolist())/len(cdf['group_ties'])*100,2) #percent with ties\n",
    "        tl.append(t)\n",
    "#     break\n",
    "print(ml,sdl,mdl,tl)\n",
    "\n",
    "#insert titles\n",
    "ml.insert(0,\"mean\"),\n",
    "sdl.insert(0,\"standard dev\"),\n",
    "mdl.insert(0,\"median\"),\n",
    "tl.insert(0,\"% with ties\")\n",
    "\n",
    "table = [['',volc_list_names[0],'','','',volc_list_names[1],'','','',volc_list_names[2],'','','',volc_list_names[3],'','','',volc_list_names[4],'','','',],\n",
    "        ['Kmeans',5,6,7,8,5,6,7,8,5,6,7,8,5,6,7,8,5,6,7,8,],\n",
    "        ml,\n",
    "        sdl,\n",
    "        mdl,\n",
    "        tl]\n",
    "\n",
    "print(tabulate(table,tablefmt=\"grid\"))"
   ]
  },
  {
   "cell_type": "code",
   "execution_count": null,
   "id": "c8f71857",
   "metadata": {},
   "outputs": [],
   "source": []
  }
 ],
 "metadata": {
  "kernelspec": {
   "display_name": "seismo (SHARED)",
   "language": "python",
   "name": "seismo-py38-shared"
  },
  "language_info": {
   "codemirror_mode": {
    "name": "ipython",
    "version": 3
   },
   "file_extension": ".py",
   "mimetype": "text/x-python",
   "name": "python",
   "nbconvert_exporter": "python",
   "pygments_lexer": "ipython3",
   "version": "3.8.12"
  }
 },
 "nbformat": 4,
 "nbformat_minor": 5
}
