{
 "cells": [
  {
   "cell_type": "code",
   "execution_count": 2,
   "id": "b4398087",
   "metadata": {},
   "outputs": [
    {
     "name": "stdout",
     "output_type": "stream",
     "text": [
      "Matched-filter CPU is not compiled! Should be here: /home/jupyter_share/miniconda3/envs/seismo/lib/python3.8/site-packages/fast_matched_filter/lib/matched_filter_CPU.so\n"
     ]
    }
   ],
   "source": [
    "from eqcorrscan.utils.clustering import cluster\n",
    "from eqcorrscan import Tribe\n",
    "import numpy as np\n",
    "from time import time"
   ]
  },
  {
   "cell_type": "code",
   "execution_count": 3,
   "id": "b2629df4",
   "metadata": {},
   "outputs": [],
   "source": [
    "#set parameters\n",
    "path = '/home/smocz/expand_redpy_new_files/templates/' #path to .tgz file\n",
    "filename = 'Volcano_Rainier_Network_UW_Station_RCM_Channel_HHZ.tgz' #name of .tgz file\n",
    "thresh_list = [0.2,0.3,0.4,0.5,0.6,0.7]"
   ]
  },
  {
   "cell_type": "code",
   "execution_count": 6,
   "id": "991b539a",
   "metadata": {},
   "outputs": [
    {
     "name": "stdout",
     "output_type": "stream",
     "text": [
      "0.45847344398498535 s to get stream_list\n",
      "-----\n",
      "testing theshold of: 0.2\n",
      "46.19713258743286 s to get groups\n",
      "46.19717621803284 s to cluster Volcano_Rainier_Network_UW_Station_RCM_Channel_HHZ.tgz\n",
      "# of groups 2\n",
      "# of templates 367\n",
      "-----\n",
      "testing theshold of: 0.3\n"
     ]
    },
    {
     "ename": "KeyboardInterrupt",
     "evalue": "",
     "output_type": "error",
     "traceback": [
      "\u001b[0;31m---------------------------------------------------------------------------\u001b[0m",
      "\u001b[0;31mKeyboardInterrupt\u001b[0m                         Traceback (most recent call last)",
      "Input \u001b[0;32mIn [6]\u001b[0m, in \u001b[0;36m<module>\u001b[0;34m\u001b[0m\n\u001b[1;32m     17\u001b[0m \u001b[38;5;28mprint\u001b[39m(\u001b[38;5;124mf\u001b[39m\u001b[38;5;124m'\u001b[39m\u001b[38;5;124mtesting theshold of: \u001b[39m\u001b[38;5;132;01m{\u001b[39;00mthresh\u001b[38;5;132;01m}\u001b[39;00m\u001b[38;5;124m'\u001b[39m)\n\u001b[1;32m     19\u001b[0m t1 \u001b[38;5;241m=\u001b[39m time()\n\u001b[0;32m---> 20\u001b[0m groups \u001b[38;5;241m=\u001b[39m \u001b[43mcluster\u001b[49m\u001b[43m(\u001b[49m\u001b[43mtemplate_list\u001b[49m\u001b[38;5;241;43m=\u001b[39;49m\u001b[43mstream_list\u001b[49m\u001b[43m,\u001b[49m\u001b[43m \u001b[49m\u001b[43mshow\u001b[49m\u001b[38;5;241;43m=\u001b[39;49m\u001b[38;5;28;43;01mFalse\u001b[39;49;00m\u001b[43m,\u001b[49m\n\u001b[1;32m     21\u001b[0m \u001b[43m                  \u001b[49m\u001b[43mcorr_thresh\u001b[49m\u001b[38;5;241;43m=\u001b[39;49m\u001b[43mthresh\u001b[49m\u001b[43m,\u001b[49m\u001b[43m \u001b[49m\u001b[43mshift_len\u001b[49m\u001b[38;5;241;43m=\u001b[39;49m\u001b[38;5;241;43m15\u001b[39;49m\u001b[43m,\u001b[49m\u001b[43m \u001b[49m\u001b[43mcores\u001b[49m\u001b[38;5;241;43m=\u001b[39;49m\u001b[38;5;241;43m2\u001b[39;49m\u001b[43m)\u001b[49m \u001b[38;5;66;03m#corr_thresh is cross correlation threshold, shif_len is amount\u001b[39;00m\n\u001b[1;32m     22\u001b[0m \u001b[38;5;66;03m#it can shift by, cores is how many cores to use while running\u001b[39;00m\n\u001b[1;32m     23\u001b[0m thresh_test\u001b[38;5;241m.\u001b[39mappend(groups)\n",
      "File \u001b[0;32m/home/jupyter_share/miniconda3/envs/seismo/lib/python3.8/site-packages/EQcorrscan-0.4.3-py3.8-linux-x86_64.egg/eqcorrscan/utils/clustering.py:281\u001b[0m, in \u001b[0;36mcluster\u001b[0;34m(template_list, show, corr_thresh, shift_len, allow_individual_trace_shifts, save_corrmat, cores)\u001b[0m\n\u001b[1;32m    279\u001b[0m \u001b[38;5;66;03m# Compute the distance matrix\u001b[39;00m\n\u001b[1;32m    280\u001b[0m Logger\u001b[38;5;241m.\u001b[39minfo(\u001b[38;5;124m'\u001b[39m\u001b[38;5;124mComputing the distance matrix using \u001b[39m\u001b[38;5;132;01m%i\u001b[39;00m\u001b[38;5;124m cores\u001b[39m\u001b[38;5;124m'\u001b[39m \u001b[38;5;241m%\u001b[39m num_cores)\n\u001b[0;32m--> 281\u001b[0m dist_mat, shift_mat, shift_dict \u001b[38;5;241m=\u001b[39m \u001b[43mdistance_matrix\u001b[49m\u001b[43m(\u001b[49m\n\u001b[1;32m    282\u001b[0m \u001b[43m    \u001b[49m\u001b[43mstream_list\u001b[49m\u001b[38;5;241;43m=\u001b[39;49m\u001b[43mstream_list\u001b[49m\u001b[43m,\u001b[49m\u001b[43m \u001b[49m\u001b[43mshift_len\u001b[49m\u001b[38;5;241;43m=\u001b[39;49m\u001b[43mshift_len\u001b[49m\u001b[43m,\u001b[49m\u001b[43m \u001b[49m\u001b[43mcores\u001b[49m\u001b[38;5;241;43m=\u001b[39;49m\u001b[43mnum_cores\u001b[49m\u001b[43m,\u001b[49m\n\u001b[1;32m    283\u001b[0m \u001b[43m    \u001b[49m\u001b[43mallow_individual_trace_shifts\u001b[49m\u001b[38;5;241;43m=\u001b[39;49m\u001b[43mallow_individual_trace_shifts\u001b[49m\u001b[43m)\u001b[49m\n\u001b[1;32m    284\u001b[0m \u001b[38;5;28;01mif\u001b[39;00m save_corrmat:\n\u001b[1;32m    285\u001b[0m     np\u001b[38;5;241m.\u001b[39msave(\u001b[38;5;124m'\u001b[39m\u001b[38;5;124mdist_mat.npy\u001b[39m\u001b[38;5;124m'\u001b[39m, dist_mat)\n",
      "File \u001b[0;32m/home/jupyter_share/miniconda3/envs/seismo/lib/python3.8/site-packages/EQcorrscan-0.4.3-py3.8-linux-x86_64.egg/eqcorrscan/utils/clustering.py:188\u001b[0m, in \u001b[0;36mdistance_matrix\u001b[0;34m(stream_list, shift_len, allow_individual_trace_shifts, cores)\u001b[0m\n\u001b[1;32m    186\u001b[0m shift_dict \u001b[38;5;241m=\u001b[39m \u001b[38;5;28mdict\u001b[39m()\n\u001b[1;32m    187\u001b[0m \u001b[38;5;28;01mfor\u001b[39;00m i, master \u001b[38;5;129;01min\u001b[39;00m \u001b[38;5;28menumerate\u001b[39m(stream_list):\n\u001b[0;32m--> 188\u001b[0m     dist_list, shift_list \u001b[38;5;241m=\u001b[39m \u001b[43mcross_chan_correlation\u001b[49m\u001b[43m(\u001b[49m\n\u001b[1;32m    189\u001b[0m \u001b[43m        \u001b[49m\u001b[43mst1\u001b[49m\u001b[38;5;241;43m=\u001b[39;49m\u001b[43mmaster\u001b[49m\u001b[43m,\u001b[49m\u001b[43m \u001b[49m\u001b[43mstreams\u001b[49m\u001b[38;5;241;43m=\u001b[39;49m\u001b[43mstream_list\u001b[49m\u001b[43m,\u001b[49m\u001b[43m \u001b[49m\u001b[43mshift_len\u001b[49m\u001b[38;5;241;43m=\u001b[39;49m\u001b[43mshift_len\u001b[49m\u001b[43m,\u001b[49m\n\u001b[1;32m    190\u001b[0m \u001b[43m        \u001b[49m\u001b[43mallow_individual_trace_shifts\u001b[49m\u001b[38;5;241;43m=\u001b[39;49m\u001b[43mallow_individual_trace_shifts\u001b[49m\u001b[43m,\u001b[49m\n\u001b[1;32m    191\u001b[0m \u001b[43m        \u001b[49m\u001b[43mxcorr_func\u001b[49m\u001b[38;5;241;43m=\u001b[39;49m\u001b[38;5;124;43m'\u001b[39;49m\u001b[38;5;124;43mfftw\u001b[39;49m\u001b[38;5;124;43m'\u001b[39;49m\u001b[43m,\u001b[49m\u001b[43m \u001b[49m\u001b[43mcores\u001b[49m\u001b[38;5;241;43m=\u001b[39;49m\u001b[43mcores\u001b[49m\u001b[43m)\u001b[49m\n\u001b[1;32m    192\u001b[0m     dist_mat[i] \u001b[38;5;241m=\u001b[39m \u001b[38;5;241m1\u001b[39m \u001b[38;5;241m-\u001b[39m dist_list\n\u001b[1;32m    193\u001b[0m     master_ids \u001b[38;5;241m=\u001b[39m [tr\u001b[38;5;241m.\u001b[39mid \u001b[38;5;28;01mfor\u001b[39;00m tr \u001b[38;5;129;01min\u001b[39;00m master]\n",
      "File \u001b[0;32m/home/jupyter_share/miniconda3/envs/seismo/lib/python3.8/site-packages/EQcorrscan-0.4.3-py3.8-linux-x86_64.egg/eqcorrscan/utils/clustering.py:95\u001b[0m, in \u001b[0;36mcross_chan_correlation\u001b[0;34m(st1, streams, shift_len, allow_individual_trace_shifts, xcorr_func, concurrency, cores, **kwargs)\u001b[0m\n\u001b[1;32m     93\u001b[0m \u001b[38;5;66;03m# Run the correlations\u001b[39;00m\n\u001b[1;32m     94\u001b[0m multichannel_normxcorr \u001b[38;5;241m=\u001b[39m get_stream_xcorr(xcorr_func, concurrency)\n\u001b[0;32m---> 95\u001b[0m [cccsums, no_chans, _] \u001b[38;5;241m=\u001b[39m \u001b[43mmultichannel_normxcorr\u001b[49m\u001b[43m(\u001b[49m\n\u001b[1;32m     96\u001b[0m \u001b[43m    \u001b[49m\u001b[43mtemplates\u001b[49m\u001b[38;5;241;43m=\u001b[39;49m\u001b[43mprep_streams\u001b[49m\u001b[43m,\u001b[49m\u001b[43m \u001b[49m\u001b[43mstream\u001b[49m\u001b[38;5;241;43m=\u001b[39;49m\u001b[43mst1_preped\u001b[49m\u001b[43m,\u001b[49m\u001b[43m \u001b[49m\u001b[43mcores\u001b[49m\u001b[38;5;241;43m=\u001b[39;49m\u001b[43mcores\u001b[49m\u001b[43m,\u001b[49m\u001b[43m \u001b[49m\u001b[43mstack\u001b[49m\u001b[38;5;241;43m=\u001b[39;49m\u001b[38;5;28;43;01mFalse\u001b[39;49;00m\u001b[43m,\u001b[49m\n\u001b[1;32m     97\u001b[0m \u001b[43m    \u001b[49m\u001b[38;5;241;43m*\u001b[39;49m\u001b[38;5;241;43m*\u001b[39;49m\u001b[43mkwargs\u001b[49m\u001b[43m)\u001b[49m\n\u001b[1;32m     98\u001b[0m \u001b[38;5;66;03m# Find maximas, sum and divide by no_chans\u001b[39;00m\n\u001b[1;32m     99\u001b[0m \u001b[38;5;28;01mif\u001b[39;00m allow_individual_trace_shifts:\n",
      "File \u001b[0;32m/home/jupyter_share/miniconda3/envs/seismo/lib/python3.8/site-packages/EQcorrscan-0.4.3-py3.8-linux-x86_64.egg/eqcorrscan/utils/correlate.py:757\u001b[0m, in \u001b[0;36m_fftw_stream_xcorr\u001b[0;34m(templates, stream, stack, *args, **kwargs)\u001b[0m\n\u001b[1;32m    755\u001b[0m stream_dict, template_dict, pad_dict, seed_ids \u001b[38;5;241m=\u001b[39m array_dict_tuple\n\u001b[1;32m    756\u001b[0m \u001b[38;5;28;01massert\u001b[39;00m \u001b[38;5;28mset\u001b[39m(seed_ids)\n\u001b[0;32m--> 757\u001b[0m cccsums, tr_chans \u001b[38;5;241m=\u001b[39m \u001b[43mfftw_multi_normxcorr\u001b[49m\u001b[43m(\u001b[49m\n\u001b[1;32m    758\u001b[0m \u001b[43m    \u001b[49m\u001b[43mtemplate_array\u001b[49m\u001b[38;5;241;43m=\u001b[39;49m\u001b[43mtemplate_dict\u001b[49m\u001b[43m,\u001b[49m\u001b[43m \u001b[49m\u001b[43mstream_array\u001b[49m\u001b[38;5;241;43m=\u001b[39;49m\u001b[43mstream_dict\u001b[49m\u001b[43m,\u001b[49m\n\u001b[1;32m    759\u001b[0m \u001b[43m    \u001b[49m\u001b[43mpad_array\u001b[49m\u001b[38;5;241;43m=\u001b[39;49m\u001b[43mpad_dict\u001b[49m\u001b[43m,\u001b[49m\u001b[43m \u001b[49m\u001b[43mseed_ids\u001b[49m\u001b[38;5;241;43m=\u001b[39;49m\u001b[43mseed_ids\u001b[49m\u001b[43m,\u001b[49m\u001b[43m \u001b[49m\u001b[43mcores_inner\u001b[49m\u001b[38;5;241;43m=\u001b[39;49m\u001b[43mnum_cores_inner\u001b[49m\u001b[43m,\u001b[49m\n\u001b[1;32m    760\u001b[0m \u001b[43m    \u001b[49m\u001b[43mstack\u001b[49m\u001b[38;5;241;43m=\u001b[39;49m\u001b[43mstack\u001b[49m\u001b[43m,\u001b[49m\u001b[43m \u001b[49m\u001b[38;5;241;43m*\u001b[39;49m\u001b[43margs\u001b[49m\u001b[43m,\u001b[49m\u001b[43m \u001b[49m\u001b[38;5;241;43m*\u001b[39;49m\u001b[38;5;241;43m*\u001b[39;49m\u001b[43mkwargs\u001b[49m\u001b[43m)\u001b[49m\n\u001b[1;32m    761\u001b[0m no_chans \u001b[38;5;241m=\u001b[39m np\u001b[38;5;241m.\u001b[39msum(np\u001b[38;5;241m.\u001b[39marray(tr_chans)\u001b[38;5;241m.\u001b[39mastype(np\u001b[38;5;241m.\u001b[39mint), axis\u001b[38;5;241m=\u001b[39m\u001b[38;5;241m0\u001b[39m)\n\u001b[1;32m    762\u001b[0m \u001b[38;5;28;01mfor\u001b[39;00m seed_id, tr_chan \u001b[38;5;129;01min\u001b[39;00m \u001b[38;5;28mzip\u001b[39m(seed_ids, tr_chans):\n",
      "File \u001b[0;32m/home/jupyter_share/miniconda3/envs/seismo/lib/python3.8/site-packages/EQcorrscan-0.4.3-py3.8-linux-x86_64.egg/eqcorrscan/utils/correlate.py:885\u001b[0m, in \u001b[0;36mfftw_multi_normxcorr\u001b[0;34m(template_array, stream_array, pad_array, seed_ids, cores_inner, stack, *args, **kwargs)\u001b[0m\n\u001b[1;32m    881\u001b[0m missed_correlations \u001b[38;5;241m=\u001b[39m np\u001b[38;5;241m.\u001b[39mascontiguousarray(\n\u001b[1;32m    882\u001b[0m     np\u001b[38;5;241m.\u001b[39mzeros(n_channels), dtype\u001b[38;5;241m=\u001b[39mnp\u001b[38;5;241m.\u001b[39mintc)\n\u001b[1;32m    884\u001b[0m \u001b[38;5;66;03m# call C function\u001b[39;00m\n\u001b[0;32m--> 885\u001b[0m ret \u001b[38;5;241m=\u001b[39m \u001b[43mutilslib\u001b[49m\u001b[38;5;241;43m.\u001b[39;49m\u001b[43mmulti_normxcorr_fftw\u001b[49m\u001b[43m(\u001b[49m\n\u001b[1;32m    886\u001b[0m \u001b[43m    \u001b[49m\u001b[43mtemplate_array\u001b[49m\u001b[43m,\u001b[49m\u001b[43m \u001b[49m\u001b[43mn_templates\u001b[49m\u001b[43m,\u001b[49m\u001b[43m \u001b[49m\u001b[43mtemplate_len\u001b[49m\u001b[43m,\u001b[49m\u001b[43m \u001b[49m\u001b[43mn_channels\u001b[49m\u001b[43m,\u001b[49m\u001b[43m \u001b[49m\u001b[43mstream_array\u001b[49m\u001b[43m,\u001b[49m\n\u001b[1;32m    887\u001b[0m \u001b[43m    \u001b[49m\u001b[43mimage_len\u001b[49m\u001b[43m,\u001b[49m\u001b[43m \u001b[49m\u001b[43mcccs\u001b[49m\u001b[43m,\u001b[49m\u001b[43m \u001b[49m\u001b[43mfft_len\u001b[49m\u001b[43m,\u001b[49m\u001b[43m \u001b[49m\u001b[43mused_chans_np\u001b[49m\u001b[43m,\u001b[49m\u001b[43m \u001b[49m\u001b[43mpad_array_np\u001b[49m\u001b[43m,\u001b[49m\n\u001b[1;32m    888\u001b[0m \u001b[43m    \u001b[49m\u001b[43mcores_inner\u001b[49m\u001b[43m,\u001b[49m\u001b[43m \u001b[49m\u001b[43mvariance_warnings\u001b[49m\u001b[43m,\u001b[49m\u001b[43m \u001b[49m\u001b[43mmissed_correlations\u001b[49m\u001b[43m,\u001b[49m\u001b[43m \u001b[49m\u001b[38;5;28;43mint\u001b[39;49m\u001b[43m(\u001b[49m\u001b[43mstack\u001b[49m\u001b[43m)\u001b[49m\u001b[43m)\u001b[49m\n\u001b[1;32m    889\u001b[0m \u001b[38;5;28;01mif\u001b[39;00m ret \u001b[38;5;241m<\u001b[39m \u001b[38;5;241m0\u001b[39m:\n\u001b[1;32m    890\u001b[0m     \u001b[38;5;28;01mraise\u001b[39;00m \u001b[38;5;167;01mMemoryError\u001b[39;00m(\u001b[38;5;124m\"\u001b[39m\u001b[38;5;124mMemory allocation failed in correlation C-code\u001b[39m\u001b[38;5;124m\"\u001b[39m)\n",
      "\u001b[0;31mKeyboardInterrupt\u001b[0m: "
     ]
    }
   ],
   "source": [
    "#pull up tgz\n",
    "t3 = time()\n",
    "T = Tribe().read(f'{path}{filename}') #read the .tgz file\n",
    "\n",
    "stream_list = [] #list of tuples. in tuple is (stream, template id)\n",
    "for t in T:\n",
    "    stream_tuple = (t.st,t.name)\n",
    "    stream_list.append(stream_tuple)\n",
    "t4 = time()\n",
    "print(f'{t4-t3} s to get stream_list')\n",
    "\n",
    "\n",
    "thresh_test=[]\n",
    "for thresh in thresh_list:\n",
    "    t0 = time()\n",
    "    print('-----')\n",
    "    print(f'testing theshold of: {thresh}')\n",
    "\n",
    "    t1 = time()\n",
    "    groups = cluster(template_list=stream_list, show=False,\n",
    "                      corr_thresh=thresh, shift_len=15, cores=2) #corr_thresh is cross correlation threshold, shif_len is amount\n",
    "    #it can shift by, cores is how many cores to use while running\n",
    "    thresh_test.append(groups)\n",
    "    #groups is a list of groups, each group is a list with the templates (tuple of stream and name) in it\n",
    "\n",
    "    t2 = time()\n",
    "    print(f'{t2-t0} s to cluster {filename}')\n",
    "\n",
    "    print('# of groups',len(groups)) #number of clusters from EQcorrscan\n",
    "    print('# of templates',len(T)) #number of template\n",
    "    del(groups) #clear for less memory\n",
    "    \n",
    "    \n",
    "print(f'{t3-t2} s to get all threshold values')"
   ]
  },
  {
   "cell_type": "code",
   "execution_count": null,
   "id": "79e41cce",
   "metadata": {
    "scrolled": false
   },
   "outputs": [],
   "source": [
    "for groups in thresh_test:\n",
    "    print('#######################')\n",
    "    print(f'## THRESHOLD {thresh_list[thresh_test.index(groups)]}     ##')\n",
    "    for gr in groups: #for each group\n",
    "        if len(gr) > 1: #more than one tuple\n",
    "            print('-----')\n",
    "            print('index:',groups.index(gr))\n",
    "            print('number of templates in group:',len(gr))\n",
    "#             for g in gr: #for each tuple\n",
    "#                 print('*',g[1])\n",
    "    #             g[0].plot(); #plot the first part (the stream)"
   ]
  },
  {
   "cell_type": "code",
   "execution_count": null,
   "id": "401eee7b",
   "metadata": {
    "scrolled": false
   },
   "outputs": [],
   "source": [
    "for g in groups[57]:\n",
    "    print('*',g[1])\n",
    "    g[0].plot(); #plot the first part (the stream)"
   ]
  },
  {
   "cell_type": "code",
   "execution_count": null,
   "id": "bb6b22b3",
   "metadata": {},
   "outputs": [],
   "source": [
    "print(len(groups[57]))"
   ]
  },
  {
   "cell_type": "code",
   "execution_count": null,
   "id": "07a01e5a",
   "metadata": {},
   "outputs": [],
   "source": []
  }
 ],
 "metadata": {
  "kernelspec": {
   "display_name": "seismo (SHARED)",
   "language": "python",
   "name": "seismo-py38-shared"
  },
  "language_info": {
   "codemirror_mode": {
    "name": "ipython",
    "version": 3
   },
   "file_extension": ".py",
   "mimetype": "text/x-python",
   "name": "python",
   "nbconvert_exporter": "python",
   "pygments_lexer": "ipython3",
   "version": "3.8.12"
  }
 },
 "nbformat": 4,
 "nbformat_minor": 5
}
